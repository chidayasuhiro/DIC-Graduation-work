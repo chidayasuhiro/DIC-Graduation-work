{
  "nbformat": 4,
  "nbformat_minor": 0,
  "metadata": {
    "colab": {
      "name": "sotsugyo_seisaku3.ipynb",
      "provenance": [],
      "collapsed_sections": []
    },
    "kernelspec": {
      "name": "python3",
      "display_name": "Python 3"
    },
    "language_info": {
      "name": "python"
    },
    "accelerator": "GPU"
  },
  "cells": [
    {
      "cell_type": "code",
      "metadata": {
        "colab": {
          "base_uri": "https://localhost:8080/"
        },
        "id": "rsBLctmVAP65",
        "outputId": "3917e8b9-41b5-40f9-da67-e34d833497e5"
      },
      "source": [
        "!pip install torch==1.4.0 torchvision==0.5.0"
      ],
      "execution_count": null,
      "outputs": [
        {
          "output_type": "stream",
          "name": "stdout",
          "text": [
            "Collecting torch==1.4.0\n",
            "  Downloading torch-1.4.0-cp37-cp37m-manylinux1_x86_64.whl (753.4 MB)\n",
            "\u001b[K     |████████████████████████████████| 753.4 MB 7.1 kB/s \n",
            "\u001b[?25hCollecting torchvision==0.5.0\n",
            "  Downloading torchvision-0.5.0-cp37-cp37m-manylinux1_x86_64.whl (4.0 MB)\n",
            "\u001b[K     |████████████████████████████████| 4.0 MB 33.0 MB/s \n",
            "\u001b[?25hRequirement already satisfied: six in /usr/local/lib/python3.7/dist-packages (from torchvision==0.5.0) (1.15.0)\n",
            "Requirement already satisfied: pillow>=4.1.1 in /usr/local/lib/python3.7/dist-packages (from torchvision==0.5.0) (7.1.2)\n",
            "Requirement already satisfied: numpy in /usr/local/lib/python3.7/dist-packages (from torchvision==0.5.0) (1.19.5)\n",
            "Installing collected packages: torch, torchvision\n",
            "  Attempting uninstall: torch\n",
            "    Found existing installation: torch 1.9.0+cu102\n",
            "    Uninstalling torch-1.9.0+cu102:\n",
            "      Successfully uninstalled torch-1.9.0+cu102\n",
            "  Attempting uninstall: torchvision\n",
            "    Found existing installation: torchvision 0.10.0+cu102\n",
            "    Uninstalling torchvision-0.10.0+cu102:\n",
            "      Successfully uninstalled torchvision-0.10.0+cu102\n",
            "\u001b[31mERROR: pip's dependency resolver does not currently take into account all the packages that are installed. This behaviour is the source of the following dependency conflicts.\n",
            "torchtext 0.10.0 requires torch==1.9.0, but you have torch 1.4.0 which is incompatible.\u001b[0m\n",
            "Successfully installed torch-1.4.0 torchvision-0.5.0\n"
          ]
        }
      ]
    },
    {
      "cell_type": "code",
      "metadata": {
        "id": "t1Fsd9MyAnVE"
      },
      "source": [
        "# 乱数のシードを設定\n",
        "import random\n",
        "import numpy as np\n",
        "\n",
        "np.random.seed(1234)\n",
        "random.seed(1234)\n",
        "\n",
        "# 使用するパッケージ（ライブラリと関数）を定義\n",
        "# 標準正規分布の生成用\n",
        "from numpy.random import *\n",
        "\n",
        "# グラフの描画用\n",
        "import matplotlib.pyplot as plt\n",
        "\n",
        "# その他\n",
        "import pandas as pd\n",
        "\n",
        "# シグモイド関数をimport\n",
        "from scipy.special import expit"
      ],
      "execution_count": null,
      "outputs": []
    },
    {
      "cell_type": "code",
      "metadata": {
        "id": "cfSb5nvvArJx"
      },
      "source": [
        "df = pd.read_csv('/content/コロナデータ　実験２.csv')"
      ],
      "execution_count": null,
      "outputs": []
    },
    {
      "cell_type": "code",
      "metadata": {
        "colab": {
          "base_uri": "https://localhost:8080/",
          "height": 276
        },
        "id": "tfUPnq2fBhKW",
        "outputId": "51cb9adb-e47a-483c-bc4b-cbc876c91a79"
      },
      "source": [
        "df.head()"
      ],
      "execution_count": null,
      "outputs": [
        {
          "output_type": "execute_result",
          "data": {
            "text/html": [
              "<div>\n",
              "<style scoped>\n",
              "    .dataframe tbody tr th:only-of-type {\n",
              "        vertical-align: middle;\n",
              "    }\n",
              "\n",
              "    .dataframe tbody tr th {\n",
              "        vertical-align: top;\n",
              "    }\n",
              "\n",
              "    .dataframe thead th {\n",
              "        text-align: right;\n",
              "    }\n",
              "</style>\n",
              "<table border=\"1\" class=\"dataframe\">\n",
              "  <thead>\n",
              "    <tr style=\"text-align: right;\">\n",
              "      <th></th>\n",
              "      <th>感染者数</th>\n",
              "      <th>飲食店情報閲覧\\n（前年同週比を日毎データに）</th>\n",
              "      <th>人流データ　小売店と娯楽施設\\n（基準：2020 年 1 月 3 日〜2 月 6 日の 5 週間の曜日別中央値）</th>\n",
              "      <th>食料品店と薬局</th>\n",
              "      <th>公共交通機関</th>\n",
              "      <th>実効再生産数</th>\n",
              "      <th>緊急事態宣言\\n（宣言中は１）</th>\n",
              "      <th>天気\\n（全国的に半分が雨\\nor台風など上陸などがあったら１）</th>\n",
              "    </tr>\n",
              "  </thead>\n",
              "  <tbody>\n",
              "    <tr>\n",
              "      <th>0</th>\n",
              "      <td>4</td>\n",
              "      <td>-4.310739</td>\n",
              "      <td>-1</td>\n",
              "      <td>4</td>\n",
              "      <td>1</td>\n",
              "      <td>0.749</td>\n",
              "      <td>0</td>\n",
              "      <td>1</td>\n",
              "    </tr>\n",
              "    <tr>\n",
              "      <th>1</th>\n",
              "      <td>1</td>\n",
              "      <td>-4.310739</td>\n",
              "      <td>-9</td>\n",
              "      <td>-6</td>\n",
              "      <td>-10</td>\n",
              "      <td>1.241</td>\n",
              "      <td>0</td>\n",
              "      <td>1</td>\n",
              "    </tr>\n",
              "    <tr>\n",
              "      <th>2</th>\n",
              "      <td>6</td>\n",
              "      <td>-4.310739</td>\n",
              "      <td>-2</td>\n",
              "      <td>1</td>\n",
              "      <td>-1</td>\n",
              "      <td>1.915</td>\n",
              "      <td>0</td>\n",
              "      <td>1</td>\n",
              "    </tr>\n",
              "    <tr>\n",
              "      <th>3</th>\n",
              "      <td>8</td>\n",
              "      <td>-4.310739</td>\n",
              "      <td>1</td>\n",
              "      <td>2</td>\n",
              "      <td>-2</td>\n",
              "      <td>2.692</td>\n",
              "      <td>0</td>\n",
              "      <td>0</td>\n",
              "    </tr>\n",
              "    <tr>\n",
              "      <th>4</th>\n",
              "      <td>9</td>\n",
              "      <td>-4.310739</td>\n",
              "      <td>0</td>\n",
              "      <td>2</td>\n",
              "      <td>-3</td>\n",
              "      <td>4.116</td>\n",
              "      <td>0</td>\n",
              "      <td>0</td>\n",
              "    </tr>\n",
              "  </tbody>\n",
              "</table>\n",
              "</div>"
            ],
            "text/plain": [
              "   感染者数  ...  天気\\n（全国的に半分が雨\\nor台風など上陸などがあったら１）\n",
              "0     4  ...                                 1\n",
              "1     1  ...                                 1\n",
              "2     6  ...                                 1\n",
              "3     8  ...                                 0\n",
              "4     9  ...                                 0\n",
              "\n",
              "[5 rows x 8 columns]"
            ]
          },
          "metadata": {},
          "execution_count": 7
        }
      ]
    },
    {
      "cell_type": "code",
      "metadata": {
        "colab": {
          "base_uri": "https://localhost:8080/"
        },
        "id": "iBoU6BPqBiXH",
        "outputId": "e8b735ad-a510-4903-e050-0227b990b46d"
      },
      "source": [
        "df.isnull().sum()"
      ],
      "execution_count": null,
      "outputs": [
        {
          "output_type": "execute_result",
          "data": {
            "text/plain": [
              "感染者数                                                        0\n",
              "飲食店情報閲覧\\n（前年同週比を日毎データに）                                     0\n",
              "人流データ　小売店と娯楽施設\\n（基準：2020 年 1 月 3 日〜2 月 6 日の 5 週間の曜日別中央値）    0\n",
              "食料品店と薬局                                                     0\n",
              "公共交通機関                                                      0\n",
              "実効再生産数                                                      0\n",
              "緊急事態宣言\\n（宣言中は１）                                             0\n",
              "天気\\n（全国的に半分が雨\\nor台風など上陸などがあったら１）                            0\n",
              "dtype: int64"
            ]
          },
          "metadata": {},
          "execution_count": 8
        }
      ]
    },
    {
      "cell_type": "code",
      "metadata": {
        "colab": {
          "base_uri": "https://localhost:8080/"
        },
        "id": "Mv-15dxABn18",
        "outputId": "93e223e6-c36e-46ef-fe01-a32aec1b5cee"
      },
      "source": [
        "!pip install cdt==0.5.18"
      ],
      "execution_count": null,
      "outputs": [
        {
          "output_type": "stream",
          "name": "stdout",
          "text": [
            "Collecting cdt==0.5.18\n",
            "  Downloading cdt-0.5.18-py3-none-any.whl (917 kB)\n",
            "\u001b[?25l\r\u001b[K     |▍                               | 10 kB 27.7 MB/s eta 0:00:01\r\u001b[K     |▊                               | 20 kB 27.9 MB/s eta 0:00:01\r\u001b[K     |█                               | 30 kB 12.4 MB/s eta 0:00:01\r\u001b[K     |█▍                              | 40 kB 9.7 MB/s eta 0:00:01\r\u001b[K     |█▉                              | 51 kB 5.3 MB/s eta 0:00:01\r\u001b[K     |██▏                             | 61 kB 5.9 MB/s eta 0:00:01\r\u001b[K     |██▌                             | 71 kB 5.6 MB/s eta 0:00:01\r\u001b[K     |██▉                             | 81 kB 6.3 MB/s eta 0:00:01\r\u001b[K     |███▏                            | 92 kB 4.8 MB/s eta 0:00:01\r\u001b[K     |███▋                            | 102 kB 5.2 MB/s eta 0:00:01\r\u001b[K     |████                            | 112 kB 5.2 MB/s eta 0:00:01\r\u001b[K     |████▎                           | 122 kB 5.2 MB/s eta 0:00:01\r\u001b[K     |████▋                           | 133 kB 5.2 MB/s eta 0:00:01\r\u001b[K     |█████                           | 143 kB 5.2 MB/s eta 0:00:01\r\u001b[K     |█████▍                          | 153 kB 5.2 MB/s eta 0:00:01\r\u001b[K     |█████▊                          | 163 kB 5.2 MB/s eta 0:00:01\r\u001b[K     |██████                          | 174 kB 5.2 MB/s eta 0:00:01\r\u001b[K     |██████▍                         | 184 kB 5.2 MB/s eta 0:00:01\r\u001b[K     |██████▉                         | 194 kB 5.2 MB/s eta 0:00:01\r\u001b[K     |███████▏                        | 204 kB 5.2 MB/s eta 0:00:01\r\u001b[K     |███████▌                        | 215 kB 5.2 MB/s eta 0:00:01\r\u001b[K     |███████▉                        | 225 kB 5.2 MB/s eta 0:00:01\r\u001b[K     |████████▏                       | 235 kB 5.2 MB/s eta 0:00:01\r\u001b[K     |████████▋                       | 245 kB 5.2 MB/s eta 0:00:01\r\u001b[K     |█████████                       | 256 kB 5.2 MB/s eta 0:00:01\r\u001b[K     |█████████▎                      | 266 kB 5.2 MB/s eta 0:00:01\r\u001b[K     |█████████▋                      | 276 kB 5.2 MB/s eta 0:00:01\r\u001b[K     |██████████                      | 286 kB 5.2 MB/s eta 0:00:01\r\u001b[K     |██████████▍                     | 296 kB 5.2 MB/s eta 0:00:01\r\u001b[K     |██████████▊                     | 307 kB 5.2 MB/s eta 0:00:01\r\u001b[K     |███████████                     | 317 kB 5.2 MB/s eta 0:00:01\r\u001b[K     |███████████▍                    | 327 kB 5.2 MB/s eta 0:00:01\r\u001b[K     |███████████▉                    | 337 kB 5.2 MB/s eta 0:00:01\r\u001b[K     |████████████▏                   | 348 kB 5.2 MB/s eta 0:00:01\r\u001b[K     |████████████▌                   | 358 kB 5.2 MB/s eta 0:00:01\r\u001b[K     |████████████▉                   | 368 kB 5.2 MB/s eta 0:00:01\r\u001b[K     |█████████████▏                  | 378 kB 5.2 MB/s eta 0:00:01\r\u001b[K     |█████████████▋                  | 389 kB 5.2 MB/s eta 0:00:01\r\u001b[K     |██████████████                  | 399 kB 5.2 MB/s eta 0:00:01\r\u001b[K     |██████████████▎                 | 409 kB 5.2 MB/s eta 0:00:01\r\u001b[K     |██████████████▋                 | 419 kB 5.2 MB/s eta 0:00:01\r\u001b[K     |███████████████                 | 430 kB 5.2 MB/s eta 0:00:01\r\u001b[K     |███████████████▍                | 440 kB 5.2 MB/s eta 0:00:01\r\u001b[K     |███████████████▊                | 450 kB 5.2 MB/s eta 0:00:01\r\u001b[K     |████████████████                | 460 kB 5.2 MB/s eta 0:00:01\r\u001b[K     |████████████████▍               | 471 kB 5.2 MB/s eta 0:00:01\r\u001b[K     |████████████████▊               | 481 kB 5.2 MB/s eta 0:00:01\r\u001b[K     |█████████████████▏              | 491 kB 5.2 MB/s eta 0:00:01\r\u001b[K     |█████████████████▌              | 501 kB 5.2 MB/s eta 0:00:01\r\u001b[K     |█████████████████▉              | 512 kB 5.2 MB/s eta 0:00:01\r\u001b[K     |██████████████████▏             | 522 kB 5.2 MB/s eta 0:00:01\r\u001b[K     |██████████████████▋             | 532 kB 5.2 MB/s eta 0:00:01\r\u001b[K     |███████████████████             | 542 kB 5.2 MB/s eta 0:00:01\r\u001b[K     |███████████████████▎            | 552 kB 5.2 MB/s eta 0:00:01\r\u001b[K     |███████████████████▋            | 563 kB 5.2 MB/s eta 0:00:01\r\u001b[K     |████████████████████            | 573 kB 5.2 MB/s eta 0:00:01\r\u001b[K     |████████████████████▍           | 583 kB 5.2 MB/s eta 0:00:01\r\u001b[K     |████████████████████▊           | 593 kB 5.2 MB/s eta 0:00:01\r\u001b[K     |█████████████████████           | 604 kB 5.2 MB/s eta 0:00:01\r\u001b[K     |█████████████████████▍          | 614 kB 5.2 MB/s eta 0:00:01\r\u001b[K     |█████████████████████▊          | 624 kB 5.2 MB/s eta 0:00:01\r\u001b[K     |██████████████████████▏         | 634 kB 5.2 MB/s eta 0:00:01\r\u001b[K     |██████████████████████▌         | 645 kB 5.2 MB/s eta 0:00:01\r\u001b[K     |██████████████████████▉         | 655 kB 5.2 MB/s eta 0:00:01\r\u001b[K     |███████████████████████▏        | 665 kB 5.2 MB/s eta 0:00:01\r\u001b[K     |███████████████████████▋        | 675 kB 5.2 MB/s eta 0:00:01\r\u001b[K     |████████████████████████        | 686 kB 5.2 MB/s eta 0:00:01\r\u001b[K     |████████████████████████▎       | 696 kB 5.2 MB/s eta 0:00:01\r\u001b[K     |████████████████████████▋       | 706 kB 5.2 MB/s eta 0:00:01\r\u001b[K     |█████████████████████████       | 716 kB 5.2 MB/s eta 0:00:01\r\u001b[K     |█████████████████████████▍      | 727 kB 5.2 MB/s eta 0:00:01\r\u001b[K     |█████████████████████████▊      | 737 kB 5.2 MB/s eta 0:00:01\r\u001b[K     |██████████████████████████      | 747 kB 5.2 MB/s eta 0:00:01\r\u001b[K     |██████████████████████████▍     | 757 kB 5.2 MB/s eta 0:00:01\r\u001b[K     |██████████████████████████▊     | 768 kB 5.2 MB/s eta 0:00:01\r\u001b[K     |███████████████████████████▏    | 778 kB 5.2 MB/s eta 0:00:01\r\u001b[K     |███████████████████████████▌    | 788 kB 5.2 MB/s eta 0:00:01\r\u001b[K     |███████████████████████████▉    | 798 kB 5.2 MB/s eta 0:00:01\r\u001b[K     |████████████████████████████▏   | 808 kB 5.2 MB/s eta 0:00:01\r\u001b[K     |████████████████████████████▋   | 819 kB 5.2 MB/s eta 0:00:01\r\u001b[K     |█████████████████████████████   | 829 kB 5.2 MB/s eta 0:00:01\r\u001b[K     |█████████████████████████████▎  | 839 kB 5.2 MB/s eta 0:00:01\r\u001b[K     |█████████████████████████████▋  | 849 kB 5.2 MB/s eta 0:00:01\r\u001b[K     |██████████████████████████████  | 860 kB 5.2 MB/s eta 0:00:01\r\u001b[K     |██████████████████████████████▍ | 870 kB 5.2 MB/s eta 0:00:01\r\u001b[K     |██████████████████████████████▊ | 880 kB 5.2 MB/s eta 0:00:01\r\u001b[K     |███████████████████████████████ | 890 kB 5.2 MB/s eta 0:00:01\r\u001b[K     |███████████████████████████████▍| 901 kB 5.2 MB/s eta 0:00:01\r\u001b[K     |███████████████████████████████▊| 911 kB 5.2 MB/s eta 0:00:01\r\u001b[K     |████████████████████████████████| 917 kB 5.2 MB/s \n",
            "\u001b[?25hRequirement already satisfied: tqdm in /usr/local/lib/python3.7/dist-packages (from cdt==0.5.18) (4.62.3)\n",
            "Requirement already satisfied: pandas in /usr/local/lib/python3.7/dist-packages (from cdt==0.5.18) (1.1.5)\n",
            "Requirement already satisfied: statsmodels in /usr/local/lib/python3.7/dist-packages (from cdt==0.5.18) (0.10.2)\n",
            "Requirement already satisfied: scikit-learn in /usr/local/lib/python3.7/dist-packages (from cdt==0.5.18) (0.22.2.post1)\n",
            "Requirement already satisfied: numpy in /usr/local/lib/python3.7/dist-packages (from cdt==0.5.18) (1.19.5)\n",
            "Requirement already satisfied: scipy in /usr/local/lib/python3.7/dist-packages (from cdt==0.5.18) (1.4.1)\n",
            "Collecting GPUtil\n",
            "  Downloading GPUtil-1.4.0.tar.gz (5.5 kB)\n",
            "Requirement already satisfied: joblib in /usr/local/lib/python3.7/dist-packages (from cdt==0.5.18) (1.0.1)\n",
            "Collecting skrebate\n",
            "  Downloading skrebate-0.62.tar.gz (19 kB)\n",
            "Requirement already satisfied: requests in /usr/local/lib/python3.7/dist-packages (from cdt==0.5.18) (2.23.0)\n",
            "Requirement already satisfied: networkx in /usr/local/lib/python3.7/dist-packages (from cdt==0.5.18) (2.6.3)\n",
            "Requirement already satisfied: pytz>=2017.2 in /usr/local/lib/python3.7/dist-packages (from pandas->cdt==0.5.18) (2018.9)\n",
            "Requirement already satisfied: python-dateutil>=2.7.3 in /usr/local/lib/python3.7/dist-packages (from pandas->cdt==0.5.18) (2.8.2)\n",
            "Requirement already satisfied: six>=1.5 in /usr/local/lib/python3.7/dist-packages (from python-dateutil>=2.7.3->pandas->cdt==0.5.18) (1.15.0)\n",
            "Requirement already satisfied: idna<3,>=2.5 in /usr/local/lib/python3.7/dist-packages (from requests->cdt==0.5.18) (2.10)\n",
            "Requirement already satisfied: urllib3!=1.25.0,!=1.25.1,<1.26,>=1.21.1 in /usr/local/lib/python3.7/dist-packages (from requests->cdt==0.5.18) (1.24.3)\n",
            "Requirement already satisfied: chardet<4,>=3.0.2 in /usr/local/lib/python3.7/dist-packages (from requests->cdt==0.5.18) (3.0.4)\n",
            "Requirement already satisfied: certifi>=2017.4.17 in /usr/local/lib/python3.7/dist-packages (from requests->cdt==0.5.18) (2021.5.30)\n",
            "Requirement already satisfied: patsy>=0.4.0 in /usr/local/lib/python3.7/dist-packages (from statsmodels->cdt==0.5.18) (0.5.1)\n",
            "Building wheels for collected packages: GPUtil, skrebate\n",
            "  Building wheel for GPUtil (setup.py) ... \u001b[?25l\u001b[?25hdone\n",
            "  Created wheel for GPUtil: filename=GPUtil-1.4.0-py3-none-any.whl size=7411 sha256=2a309a474fadc664238d63e889bdcdf86ed4cf8a000816a77ab9d389f54700f9\n",
            "  Stored in directory: /root/.cache/pip/wheels/6e/f8/83/534c52482d6da64622ddbf72cd93c35d2ef2881b78fd08ff0c\n",
            "  Building wheel for skrebate (setup.py) ... \u001b[?25l\u001b[?25hdone\n",
            "  Created wheel for skrebate: filename=skrebate-0.62-py3-none-any.whl size=29269 sha256=d1c660da4c758692e7a47be3b984ddaf3dfa6c23b0691262b75e5442c5611fde\n",
            "  Stored in directory: /root/.cache/pip/wheels/4f/3b/07/22a9a01f3f25cd376122b5ef526737a44993b4c312e50916ed\n",
            "Successfully built GPUtil skrebate\n",
            "Installing collected packages: skrebate, GPUtil, cdt\n",
            "Successfully installed GPUtil-1.4.0 cdt-0.5.18 skrebate-0.62\n"
          ]
        }
      ]
    },
    {
      "cell_type": "code",
      "metadata": {
        "id": "paomftKVBvUi"
      },
      "source": [
        "# PyTorchから使用するものをimport\n",
        "import torch\n",
        "import torch.nn as nn\n",
        "\n",
        "\n",
        "class SAMDiscriminator(nn.Module):\n",
        "    \"\"\"SAMのDiscriminatorのニューラルネットワーク\n",
        "    \"\"\"\n",
        "\n",
        "    def __init__(self, nfeatures, dnh, hlayers):\n",
        "        super(SAMDiscriminator, self).__init__()\n",
        "\n",
        "        # ----------------------------------\n",
        "        # ネットワークの用意\n",
        "        # ----------------------------------\n",
        "        self.nfeatures = nfeatures  # 入力変数の数\n",
        "\n",
        "        layers = []\n",
        "        layers.append(nn.Linear(nfeatures, dnh))\n",
        "        layers.append(nn.BatchNorm1d(dnh))\n",
        "        layers.append(nn.LeakyReLU(.2))\n",
        "\n",
        "        for i in range(hlayers-1):\n",
        "            layers.append(nn.Linear(dnh, dnh))\n",
        "            layers.append(nn.BatchNorm1d(dnh))\n",
        "            layers.append(nn.LeakyReLU(.2))\n",
        "\n",
        "        layers.append(nn.Linear(dnh, 1))  # 最終出力\n",
        "\n",
        "        self.layers = nn.Sequential(*layers)\n",
        "\n",
        "        # ----------------------------------\n",
        "        # maskの用意（対角成分のみ1で、他は0の行列）\n",
        "        # ----------------------------------\n",
        "        mask = torch.eye(nfeatures, nfeatures)  # 変数の数×変数の数の単位行列\n",
        "        self.register_buffer(\"mask\", mask.unsqueeze(0))  # 単位行列maskを保存しておく\n",
        "\n",
        "        # 注意：register_bufferはmodelのパラメータではないが、その後forwardで使う変数を登録するPyTorchのメソッドです\n",
        "        # self.変数名で、以降も使用可能になります\n",
        "        # https://pytorch.org/docs/stable/nn.html?highlight=register_buffer#torch.nn.Module.register_buffer\n",
        "\n",
        "    def forward(self, input, obs_data=None):\n",
        "        \"\"\"　順伝搬の計算\n",
        "        Args:\n",
        "            input (torch.Size([データ数, 観測変数の種類数])): 観測したデータ、もしくは生成されたデータ\n",
        "            obs_data (torch.Size([データ数, 観測変数の種類数])):観測したデータ\n",
        "        Returns:\n",
        "            torch.Tensor: 観測したデータか、それとも生成されたデータかの判定結果\n",
        "        \"\"\"\n",
        "\n",
        "        if obs_data is not None:\n",
        "          # 生成データを識別器に入力する場合\n",
        "            return [self.layers(i) for i in torch.unbind(obs_data.unsqueeze(1) * (1 - self.mask)\n",
        "                                                         + input.unsqueeze(1) * self.mask, 1)]\n",
        "            # 対角成分のみ生成したデータ、その他は観測データに\n",
        "            # データを各変数ごとに、生成したもの、その他観測したもので混ぜて、1変数ずつ生成したものを放り込む\n",
        "            # torch.unbind(x,1)はxの1次元目でテンソルをタプルに展開する\n",
        "            # minibatch数が2000、観測データの変数が6種類の場合、\n",
        "            # [2000,6]→[2000,6,6]→([2000,6], [2000,6], [2000,6], [2000,6], [2000,6], [2000,6])→([2000,1], [2000,1], [2000,1], [2000,1], [2000,1], [2000,1])\n",
        "            # returnは[torch.Size([2000, 1]),torch.Size([2000, 1]),torch.Size([2000, 1], torch.Size([2000, 1]),torch.Size([2000, 1]),torch.Size([2000, 1])]\n",
        "\n",
        "            # 注：生成した変数全種類を用いた判定はしない。\n",
        "            # すなわち、生成した変数1種類と、元の観測データたちをまとめて1つにし、それが観測結果か、生成結果を判定させる\n",
        "\n",
        "        else:\n",
        "            # 観測データを識別器に入力する場合\n",
        "\n",
        "            return self.layers(input)\n",
        "            # returnは[torch.Size([2000, 1])]\n",
        "\n",
        "\n",
        "    def reset_parameters(self):\n",
        "        \"\"\"識別器Dの重みパラメータの初期化を実施\"\"\"\n",
        "        for layer in self.layers:\n",
        "            if hasattr(layer, 'reset_parameters'):\n",
        "                layer.reset_parameters()"
      ],
      "execution_count": null,
      "outputs": []
    },
    {
      "cell_type": "code",
      "metadata": {
        "colab": {
          "base_uri": "https://localhost:8080/"
        },
        "id": "iorGYyvzBvrW",
        "outputId": "02db7df0-0019-4ef9-dbf4-58e2c0578b18"
      },
      "source": [
        "from cdt.utils.torch import ChannelBatchNorm1d, MatrixSampler, Linear3D\n",
        "\n",
        "\n",
        "class SAMGenerator(nn.Module):\n",
        "    \"\"\"SAMのGeneratorのニューラルネットワーク\n",
        "    \"\"\"\n",
        "\n",
        "    def __init__(self, data_shape, nh):\n",
        "        \"\"\"初期化\"\"\"\n",
        "        super(SAMGenerator, self).__init__()\n",
        "\n",
        "        # ----------------------------------\n",
        "        # 対角成分のみ0で、残りは1のmaskとなる変数skeletonを作成\n",
        "        # ※最後の行は、全部1です\n",
        "        # ----------------------------------\n",
        "        nb_vars = data_shape[1]  # 変数の数\n",
        "        skeleton = 1 - torch.eye(nb_vars + 1, nb_vars)\n",
        "\n",
        "        self.register_buffer('skeleton', skeleton)\n",
        "\n",
        "        # 注意：register_bufferはmodelのパラメータではないが、その後forwardで使う変数を登録するPyTorchのメソッドです\n",
        "        # self.変数名で、以降も使用可能になります\n",
        "        # https://pytorch.org/docs/stable/nn.html?highlight=register_buffer#torch.nn.Module.register_buffer\n",
        "\n",
        "        # ----------------------------------\n",
        "        # ネットワークの用意\n",
        "        # ----------------------------------\n",
        "        # 入力層（SAMの形での全結合層）　\n",
        "        self.input_layer = Linear3D(\n",
        "            (nb_vars, nb_vars + 1, nh))  # nhは中間層のニューロン数\n",
        "        # https://github.com/FenTechSolutions/CausalDiscoveryToolbox/blob/32200779ab9b63762be3a24a2147cff09ba2bb72/cdt/utils/torch.py#L289\n",
        "\n",
        "        # 中間層\n",
        "        layers = []\n",
        "        # 2次元を1次元に変換してバッチノーマライゼーションするモジュール\n",
        "        layers.append(ChannelBatchNorm1d(nb_vars, nh))\n",
        "        layers.append(nn.Tanh())\n",
        "        self.layers = nn.Sequential(*layers)\n",
        "\n",
        "        # ChannelBatchNorm1d\n",
        "        # https://github.com/FenTechSolutions/CausalDiscoveryToolbox/blob/32200779ab9b63762be3a24a2147cff09ba2bb72/cdt/utils/torch.py#L130\n",
        "\n",
        "        # 出力層（再度、SAMの形での全結合層）\n",
        "        self.output_layer = Linear3D((nb_vars, nh, 1))\n",
        "\n",
        "    def forward(self, data, noise, adj_matrix, drawn_neurons=None):\n",
        "        \"\"\"　順伝搬の計算\n",
        "        Args:\n",
        "            data (torch.Tensor): 観測データ\n",
        "            noise (torch.Tensor): データ生成用のノイズ\n",
        "            adj_matrix (torch.Tensor): 因果関係を示す因果構造マトリクスM\n",
        "            drawn_neurons (torch.Tensor): Linear3Dの複雑さを制御する複雑さマトリクスZ\n",
        "        Returns:\n",
        "            torch.Tensor: 生成されたデータ\n",
        "        \"\"\"\n",
        "\n",
        "        # 入力層\n",
        "        x = self.input_layer(data, noise, adj_matrix *\n",
        "                             self.skeleton)  # Linear3D\n",
        "\n",
        "        # 中間層（バッチノーマライゼーションとTanh）\n",
        "        x = self.layers(x)\n",
        "\n",
        "        # 出力層\n",
        "        output = self.output_layer(\n",
        "            x, noise=None, adj_matrix=drawn_neurons)  # Linear3D\n",
        "\n",
        "        return output.squeeze(2)\n",
        "\n",
        "    def reset_parameters(self):\n",
        "        \"\"\"重みパラメータの初期化を実施\"\"\"\n",
        "\n",
        "        self.input_layer.reset_parameters()\n",
        "        self.output_layer.reset_parameters()\n",
        "\n",
        "        for layer in self.layers:\n",
        "            if hasattr(layer, 'reset_parameters'):\n",
        "                layer.reset_parameters()"
      ],
      "execution_count": null,
      "outputs": [
        {
          "output_type": "stream",
          "name": "stderr",
          "text": [
            "Detecting 1 CUDA device(s).\n"
          ]
        }
      ]
    },
    {
      "cell_type": "code",
      "metadata": {
        "id": "T08RDUVpB0mZ"
      },
      "source": [
        "# ネットワークを示す因果構造マトリクスMがDAG（有向非循環グラフ）になるように加える損失\n",
        "\n",
        "def notears_constr(adj_m, max_pow=None):\n",
        "    \"\"\"No Tears constraint for binary adjacency matrixes. \n",
        "    Args:\n",
        "        adj_m (array-like): Adjacency matrix of the graph\n",
        "        max_pow (int): maximum value to which the infinite sum is to be computed.\n",
        "           defaults to the shape of the adjacency_matrix\n",
        "    Returns:\n",
        "        np.ndarray or torch.Tensor: Scalar value of the loss with the type\n",
        "            depending on the input.\n",
        "    参考：https://github.com/FenTechSolutions/CausalDiscoveryToolbox/blob/32200779ab9b63762be3a24a2147cff09ba2bb72/cdt/utils/loss.py#L215\n",
        "    \"\"\"\n",
        "    m_exp = [adj_m]\n",
        "    if max_pow is None:\n",
        "        max_pow = adj_m.shape[1]\n",
        "    while(m_exp[-1].sum() > 0 and len(m_exp) < max_pow):\n",
        "        m_exp.append(m_exp[-1] @ adj_m/len(m_exp))\n",
        "\n",
        "    return sum([i.diag().sum() for idx, i in enumerate(m_exp)])"
      ],
      "execution_count": null,
      "outputs": []
    },
    {
      "cell_type": "code",
      "metadata": {
        "id": "v8jM9HXfB07y"
      },
      "source": [
        "from sklearn.preprocessing import scale\n",
        "from torch import optim\n",
        "from torch.utils.data import DataLoader\n",
        "from tqdm import tqdm\n",
        "\n",
        "\n",
        "def run_SAM(in_data, lr_gen, lr_disc, lambda1, lambda2, hlayers, nh, dnh, train_epochs, test_epochs, device):\n",
        "    '''SAMの学習を実行する関数'''\n",
        "\n",
        "    # ---------------------------------------------------\n",
        "    # 入力データの前処理\n",
        "    # ---------------------------------------------------\n",
        "    list_nodes = list(in_data.columns)  # 入力データの列名のリスト\n",
        "    data = scale(in_data[list_nodes].values)  # 入力データの正規化\n",
        "    nb_var = len(list_nodes)  # 入力データの数 = d\n",
        "    data = data.astype('float32')  # 入力データをfloat32型に\n",
        "    data = torch.from_numpy(data).to(device)  # 入力データをPyTorchのテンソルに\n",
        "    rows, cols = data.size()  # rowsはデータ数、colsは変数の数\n",
        "\n",
        "    # ---------------------------------------------------\n",
        "    # DataLoaderの作成（バッチサイズは全データ）\n",
        "    # ---------------------------------------------------\n",
        "    batch_size = rows  # 入力データ全てを使用したミニバッチ学習とする\n",
        "    data_iterator = DataLoader(data, batch_size=batch_size,\n",
        "                               shuffle=True, drop_last=True)\n",
        "    # 注意：引数のdrop_lastはdataをbatch_sizeで取り出していったときに最後に余ったものは使用しない設定\n",
        "\n",
        "    # ---------------------------------------------------\n",
        "    # 【Generator】ネットワークの生成とパラメータの初期化\n",
        "    # cols：入力変数の数、nhは中間ニューロンの数、hlayersは中間層の数\n",
        "    # neuron_samplerは、Functional gatesの変数zを学習するネットワーク\n",
        "    # graph_samplerは、Structual gatesの変数aを学習するネットワーク\n",
        "    # ---------------------------------------------------\n",
        "    sam = SAMGenerator((batch_size, cols), nh).to(device)  # 生成器G\n",
        "    graph_sampler = MatrixSampler(nb_var, mask=None, gumbel=False).to(\n",
        "        device)  # 因果構造マトリクスMを作るネットワーク\n",
        "    neuron_sampler = MatrixSampler((nh, nb_var), mask=False, gumbel=True).to(\n",
        "        device)  # 複雑さマトリクスZを作るネットワーク\n",
        "\n",
        "    # 注意：MatrixSamplerはGumbel-Softmaxを使用し、0か1を出力させるニューラルネットワーク\n",
        "    # SAMの著者らの実装モジュール、MatrixSamplerを使用\n",
        "    # https://github.com/FenTechSolutions/CausalDiscoveryToolbox/blob/32200779ab9b63762be3a24a2147cff09ba2bb72/cdt/utils/torch.py#L212\n",
        "\n",
        "    # 重みパラメータの初期化\n",
        "    sam.reset_parameters()\n",
        "    graph_sampler.weights.data.fill_(2)\n",
        "\n",
        "    # ---------------------------------------------------\n",
        "    # 【Discriminator】ネットワークの生成とパラメータの初期化\n",
        "    # cols：入力変数の数、dnhは中間ニューロンの数、hlayersは中間層の数。\n",
        "    # ---------------------------------------------------\n",
        "    discriminator = SAMDiscriminator(cols, dnh, hlayers).to(device)\n",
        "    discriminator.reset_parameters()  # 重みパラメータの初期化\n",
        "\n",
        "    # ---------------------------------------------------\n",
        "    # 最適化の設定\n",
        "    # ---------------------------------------------------\n",
        "    # 生成器\n",
        "\n",
        "    g_optimizer = optim.Adam(sam.parameters(), lr=lr_gen)\n",
        "    graph_optimizer = optim.Adam(graph_sampler.parameters(), lr=lr_gen)\n",
        "    neuron_optimizer = optim.Adam(neuron_sampler.parameters(), lr=lr_gen)\n",
        "\n",
        "    # 識別器\n",
        "    d_optimizer = optim.Adam(discriminator.parameters(), lr=lr_disc)\n",
        "\n",
        "    # 損失関数\n",
        "    criterion = nn.BCEWithLogitsLoss()\n",
        "    # nn.BCEWithLogitsLoss()は、binary cross entropy with Logistic function\n",
        "    # https://pytorch.org/docs/stable/nn.html#bcewithlogitsloss\n",
        "\n",
        "    # 損失関数のDAGに関する制約の設定パラメータ\n",
        "    dagstart = 0.5\n",
        "    dagpenalization_increase = 0.001*10\n",
        "\n",
        "    # ---------------------------------------------------\n",
        "    # forward計算、および損失関数の計算に使用する変数を用意\n",
        "    # ---------------------------------------------------\n",
        "    _true = torch.ones(1).to(device)\n",
        "    _false = torch.zeros(1).to(device)\n",
        "\n",
        "    noise = torch.randn(batch_size, nb_var).to(device)  # 生成器Gで使用する生成ノイズ\n",
        "    noise_row = torch.ones(1, nb_var).to(device)\n",
        "\n",
        "    output = torch.zeros(nb_var, nb_var).to(device)  # 求まった隣接行列\n",
        "    output_loss = torch.zeros(1, 1).to(device)\n",
        "\n",
        "    # ---------------------------------------------------\n",
        "    # forwardの計算で、ネットワークを学習させる\n",
        "    # ---------------------------------------------------\n",
        "    pbar = tqdm(range(train_epochs + test_epochs),mininterval=1)  # 進捗（progressive bar）の表示\n",
        "\n",
        "    for epoch in pbar:\n",
        "        for i_batch, batch in enumerate(data_iterator):\n",
        "\n",
        "            # 最適化を初期化\n",
        "            g_optimizer.zero_grad()\n",
        "            graph_optimizer.zero_grad()\n",
        "            neuron_optimizer.zero_grad()\n",
        "            d_optimizer.zero_grad()\n",
        "\n",
        "            # 因果構造マトリクスM（drawn_graph）と複雑さマトリクスZ（drawn_neurons）をMatrixSamplerから取得\n",
        "            drawn_graph = graph_sampler()\n",
        "            drawn_neurons = neuron_sampler()\n",
        "            # (drawn_graph)のサイズは、torch.Size([nb_var, nb_var])。 出力値は0か1\n",
        "            # (drawn_neurons)のサイズは、torch.Size([nh, nb_var])。 出力値は0か1\n",
        "\n",
        "            # ノイズをリセットし、生成器Gで疑似データを生成\n",
        "            noise.normal_()\n",
        "            generated_variables = sam(data=batch, noise=noise,\n",
        "                                      adj_matrix=torch.cat(\n",
        "                                          [drawn_graph, noise_row], 0),\n",
        "                                      drawn_neurons=drawn_neurons)\n",
        "\n",
        "            # 識別器Dで判定\n",
        "            # 観測変数のリスト[]で、各torch.Size([data数, 1])が求まる\n",
        "            disc_vars_d = discriminator(generated_variables.detach(), batch)\n",
        "            # 観測変数のリスト[] で、各torch.Size([data数, 1])が求まる\n",
        "            disc_vars_g = discriminator(generated_variables, batch)\n",
        "            true_vars_disc = discriminator(batch)  # torch.Size([data数, 1])が求まる\n",
        "\n",
        "            # 損失関数の計算（DCGAN）\n",
        "            disc_loss = sum([criterion(gen, _false.expand_as(gen)) for gen in disc_vars_d]) / nb_var \\\n",
        "                + criterion(true_vars_disc, _true.expand_as(true_vars_disc))\n",
        "\n",
        "            gen_loss = sum([criterion(gen,\n",
        "                                      _true.expand_as(gen))\n",
        "                            for gen in disc_vars_g])\n",
        "\n",
        "            # 損失の計算（SAM論文のオリジナルのfgan）\n",
        "            #disc_loss = sum([torch.mean(torch.exp(gen - 1)) for gen in disc_vars_d]) / nb_var - torch.mean(true_vars_disc)\n",
        "            #gen_loss = -sum([torch.mean(torch.exp(gen - 1)) for gen in disc_vars_g])\n",
        "\n",
        "            # 識別器Dのバックプロパゲーションとパラメータの更新\n",
        "            if epoch < train_epochs:\n",
        "                disc_loss.backward()\n",
        "                d_optimizer.step()\n",
        "\n",
        "            # 生成器のGの損失の計算の残り（マトリクスの複雑さとDAGのNO TEAR）\n",
        "            struc_loss = lambda1 / batch_size*drawn_graph.sum()     # Mのloss\n",
        "            func_loss = lambda2 / batch_size*drawn_neurons.sum()   # Aのloss\n",
        "\n",
        "            regul_loss = struc_loss + func_loss\n",
        "\n",
        "            if epoch <= train_epochs * dagstart:\n",
        "                # epochが基準前のときは、DAGになるようにMへのNO TEARSの制限はかけない\n",
        "                loss = gen_loss + regul_loss\n",
        "\n",
        "            else:\n",
        "                # epochが基準後のときは、DAGになるようにNO TEARSの制限をかける\n",
        "                filters = graph_sampler.get_proba()  # マトリクスMの要素を取得（ただし、0,1ではなく、1の確率）\n",
        "                dag_constraint = notears_constr(filters*filters)  # NO TERARの計算\n",
        "\n",
        "                # 徐々に線形にDAGの正則を強くする\n",
        "                loss = gen_loss + regul_loss + \\\n",
        "                    ((epoch - train_epochs * dagstart) *\n",
        "                     dagpenalization_increase) * dag_constraint\n",
        "\n",
        "            if epoch >= train_epochs:\n",
        "                # testのepochの場合、結果を取得\n",
        "                output.add_(filters.data)\n",
        "                output_loss.add_(gen_loss.data)\n",
        "            else:\n",
        "                # trainのepochの場合、生成器Gのバックプロパゲーションと更新\n",
        "                # retain_graph=Trueにすることで、以降3つのstep()が実行できる\n",
        "                loss.backward(retain_graph=True)\n",
        "                g_optimizer.step()\n",
        "                graph_optimizer.step()\n",
        "                neuron_optimizer.step()\n",
        "\n",
        "            # 進捗の表示\n",
        "            if epoch % 50 == 0:\n",
        "                pbar.set_postfix(gen=gen_loss.item()/cols,\n",
        "                                 disc=disc_loss.item(),\n",
        "                                 regul_loss=regul_loss.item(),\n",
        "                                 tot=loss.item())\n",
        "\n",
        "    return output.cpu().numpy()/test_epochs, output_loss.cpu().numpy()/test_epochs/cols  # Mと損失を出力\n"
      ],
      "execution_count": null,
      "outputs": []
    },
    {
      "cell_type": "code",
      "metadata": {
        "colab": {
          "base_uri": "https://localhost:8080/"
        },
        "id": "jMyEmhTeB3wL",
        "outputId": "2f31f37f-b752-4a6e-9e02-c66c9216af9a"
      },
      "source": [
        "# GPUの使用確認：True or False\n",
        "torch.cuda.is_available()"
      ],
      "execution_count": null,
      "outputs": [
        {
          "output_type": "execute_result",
          "data": {
            "text/plain": [
              "True"
            ]
          },
          "metadata": {},
          "execution_count": 14
        }
      ]
    },
    {
      "cell_type": "markdown",
      "metadata": {
        "id": "ZhNsWfiiCx-q"
      },
      "source": [
        "学習率をいじる　0.5を0.05"
      ]
    },
    {
      "cell_type": "code",
      "metadata": {
        "colab": {
          "base_uri": "https://localhost:8080/"
        },
        "id": "Omi4wNhtB5kT",
        "outputId": "ce748834-3253-4742-97b3-3a7adff18137"
      },
      "source": [
        "# numpyの出力を小数点2桁に\n",
        "np.set_printoptions(precision=2, floatmode='fixed', suppress=True)\n",
        "\n",
        "# 因果探索の結果を格納するリスト\n",
        "m_list = []\n",
        "loss_list = []\n",
        "\n",
        "for i in range(5):\n",
        "    m, loss = run_SAM(in_data=df, lr_gen=0.01*0.5,\n",
        "                      lr_disc=0.01*0.5*2,\n",
        "                      #lambda1=0.01, lambda2=1e-05,\n",
        "                      lambda1=5.0*20, lambda2=0.005*20,\n",
        "                      hlayers=2,\n",
        "                      nh=200, dnh=200,\n",
        "                      train_epochs=10000,\n",
        "                      test_epochs=1000,\n",
        "                      device='cuda:0')\n",
        "\n",
        "    print(loss)\n",
        "    print(m)\n",
        "\n",
        "    m_list.append(m)\n",
        "    loss_list.append(loss)"
      ],
      "execution_count": null,
      "outputs": [
        {
          "output_type": "stream",
          "name": "stderr",
          "text": [
            "100%|██████████| 11000/11000 [06:38<00:00, 27.58it/s, disc=0.129, gen=8.23, regul_loss=3.46, tot=71.2]\n"
          ]
        },
        {
          "output_type": "stream",
          "name": "stdout",
          "text": [
            "[[7.94]]\n",
            "[[0.00 0.95 0.41 0.01 0.00 1.00 0.02 0.03]\n",
            " [0.04 0.00 0.05 0.01 0.03 0.03 1.00 0.00]\n",
            " [0.00 0.99 0.00 0.01 0.04 0.84 0.35 0.00]\n",
            " [0.99 0.97 0.98 0.00 0.99 0.94 0.00 0.00]\n",
            " [0.30 0.95 0.84 0.00 0.00 0.96 0.00 0.00]\n",
            " [0.01 0.32 0.00 0.00 0.00 0.00 0.96 0.00]\n",
            " [0.04 0.02 0.02 0.01 0.02 0.04 0.00 0.00]\n",
            " [0.99 0.95 0.96 0.99 0.00 0.98 0.00 0.00]]\n"
          ]
        },
        {
          "output_type": "stream",
          "name": "stderr",
          "text": [
            "100%|██████████| 11000/11000 [06:38<00:00, 27.61it/s, disc=0.199, gen=7.78, regul_loss=3.79, tot=68.4]\n"
          ]
        },
        {
          "output_type": "stream",
          "name": "stdout",
          "text": [
            "[[8.06]]\n",
            "[[0.00 0.02 0.08 0.00 0.81 1.00 0.95 0.00]\n",
            " [0.99 0.00 0.09 0.02 0.98 0.59 0.99 0.00]\n",
            " [0.00 0.95 0.00 0.05 0.99 0.99 0.00 0.00]\n",
            " [0.99 0.78 0.99 0.00 0.98 0.99 0.01 0.00]\n",
            " [0.01 0.03 0.04 0.00 0.00 0.98 0.00 0.00]\n",
            " [0.00 0.00 0.00 0.00 0.01 0.00 0.01 0.00]\n",
            " [0.01 0.02 0.02 0.00 0.43 0.58 0.00 0.00]\n",
            " [1.00 0.98 0.98 0.98 0.92 0.00 0.89 0.00]]\n"
          ]
        },
        {
          "output_type": "stream",
          "name": "stderr",
          "text": [
            "100%|██████████| 11000/11000 [06:42<00:00, 27.31it/s, disc=0.168, gen=8.62, regul_loss=3.11, tot=76.7]\n"
          ]
        },
        {
          "output_type": "stream",
          "name": "stdout",
          "text": [
            "[[8.33]]\n",
            "[[0.00 0.91 0.00 0.00 0.00 0.00 0.53 0.03]\n",
            " [0.09 0.00 1.00 0.02 0.94 0.00 1.00 0.00]\n",
            " [0.00 0.04 0.00 0.02 0.00 0.99 0.00 0.00]\n",
            " [0.02 0.63 1.00 0.00 0.91 0.98 0.82 0.00]\n",
            " [0.01 0.14 0.99 0.01 0.00 0.96 0.00 0.00]\n",
            " [0.00 0.00 0.00 0.00 0.00 0.00 0.01 0.00]\n",
            " [0.03 0.07 0.46 0.00 0.41 0.82 0.00 0.00]\n",
            " [0.99 0.94 0.99 0.99 0.96 0.98 0.00 0.00]]\n"
          ]
        },
        {
          "output_type": "stream",
          "name": "stderr",
          "text": [
            "100%|██████████| 11000/11000 [06:33<00:00, 27.96it/s, disc=0.0247, gen=11.3, regul_loss=3.28, tot=99.2]\n"
          ]
        },
        {
          "output_type": "stream",
          "name": "stdout",
          "text": [
            "[[12.26]]\n",
            "[[0.00 0.03 0.00 0.00 0.44 0.98 0.41 0.01]\n",
            " [0.20 0.00 1.00 0.68 0.02 0.06 0.99 0.00]\n",
            " [0.00 0.02 0.00 0.05 0.01 0.02 0.00 0.00]\n",
            " [0.04 0.02 1.00 0.00 0.00 0.01 0.00 0.00]\n",
            " [0.02 0.96 1.00 0.04 0.00 0.06 0.00 0.07]\n",
            " [0.00 0.00 0.99 0.97 0.99 0.00 0.25 0.04]\n",
            " [0.09 0.06 0.55 0.83 0.04 0.17 0.00 0.01]\n",
            " [0.55 0.78 0.99 0.99 0.00 0.24 0.88 0.00]]\n"
          ]
        },
        {
          "output_type": "stream",
          "name": "stderr",
          "text": [
            "100%|██████████| 11000/11000 [06:44<00:00, 27.17it/s, disc=0.375, gen=6.79, regul_loss=3.28, tot=58.7]"
          ]
        },
        {
          "output_type": "stream",
          "name": "stdout",
          "text": [
            "[[6.75]]\n",
            "[[0.00 0.93 0.00 0.00 0.98 1.00 0.69 0.01]\n",
            " [0.03 0.00 1.00 0.01 0.00 0.62 0.98 0.00]\n",
            " [0.01 0.03 0.00 0.01 0.00 0.80 0.00 0.00]\n",
            " [0.98 0.79 1.00 0.00 0.06 0.94 0.05 0.00]\n",
            " [0.00 0.98 0.99 0.00 0.00 0.96 0.00 0.00]\n",
            " [0.00 0.01 0.00 0.02 0.01 0.00 0.00 0.00]\n",
            " [0.03 0.03 0.69 0.01 0.05 0.04 0.00 0.00]\n",
            " [0.96 0.97 0.99 0.93 0.99 0.98 0.00 0.00]]\n"
          ]
        },
        {
          "output_type": "stream",
          "name": "stderr",
          "text": [
            "\n"
          ]
        }
      ]
    },
    {
      "cell_type": "code",
      "metadata": {
        "id": "HWm86OVxOH34"
      },
      "source": [
        "final_list=sum(m_list)/len(m_list)"
      ],
      "execution_count": null,
      "outputs": []
    },
    {
      "cell_type": "code",
      "metadata": {
        "colab": {
          "base_uri": "https://localhost:8080/"
        },
        "id": "gszTMfOYOIMd",
        "outputId": "b05fcdb9-e8b0-4ae0-da77-2ce1e2b29829"
      },
      "source": [
        "final_list"
      ],
      "execution_count": null,
      "outputs": [
        {
          "output_type": "execute_result",
          "data": {
            "text/plain": [
              "array([[0.00, 0.57, 0.10, 0.00, 0.45, 0.80, 0.52, 0.02],\n",
              "       [0.27, 0.00, 0.63, 0.15, 0.40, 0.26, 0.99, 0.00],\n",
              "       [0.00, 0.41, 0.00, 0.03, 0.21, 0.73, 0.07, 0.00],\n",
              "       [0.61, 0.64, 0.99, 0.00, 0.59, 0.77, 0.18, 0.00],\n",
              "       [0.07, 0.61, 0.77, 0.01, 0.00, 0.78, 0.00, 0.01],\n",
              "       [0.00, 0.07, 0.20, 0.20, 0.20, 0.00, 0.25, 0.01],\n",
              "       [0.04, 0.04, 0.35, 0.17, 0.19, 0.33, 0.00, 0.00],\n",
              "       [0.90, 0.93, 0.99, 0.98, 0.58, 0.64, 0.35, 0.00]], dtype=float32)"
            ]
          },
          "metadata": {},
          "execution_count": 18
        }
      ]
    },
    {
      "cell_type": "code",
      "metadata": {
        "id": "mzHwireWOJEc"
      },
      "source": [
        ""
      ],
      "execution_count": null,
      "outputs": []
    },
    {
      "cell_type": "code",
      "metadata": {
        "id": "FGBfQoLePjIg"
      },
      "source": [
        ""
      ],
      "execution_count": null,
      "outputs": []
    },
    {
      "cell_type": "code",
      "metadata": {
        "id": "WLp1S1DWPjGH"
      },
      "source": [
        "df = pd.read_csv('/content/コロナデータ　実験３.csv')"
      ],
      "execution_count": null,
      "outputs": []
    },
    {
      "cell_type": "code",
      "metadata": {
        "colab": {
          "base_uri": "https://localhost:8080/",
          "height": 511
        },
        "id": "sNIv7H6HPmZC",
        "outputId": "c8d67bf2-5bfb-47fd-9f4a-c2d235a91fb0"
      },
      "source": [
        ""
      ],
      "execution_count": null,
      "outputs": [
        {
          "output_type": "execute_result",
          "data": {
            "text/html": [
              "<div>\n",
              "<style scoped>\n",
              "    .dataframe tbody tr th:only-of-type {\n",
              "        vertical-align: middle;\n",
              "    }\n",
              "\n",
              "    .dataframe tbody tr th {\n",
              "        vertical-align: top;\n",
              "    }\n",
              "\n",
              "    .dataframe thead th {\n",
              "        text-align: right;\n",
              "    }\n",
              "</style>\n",
              "<table border=\"1\" class=\"dataframe\">\n",
              "  <thead>\n",
              "    <tr style=\"text-align: right;\">\n",
              "      <th></th>\n",
              "      <th>感染者数</th>\n",
              "      <th>飲食店情報閲覧\\n（前年同週比を日毎データに）</th>\n",
              "      <th>人流データ　小売店と娯楽施設\\n（基準：2020 年 1 月 3 日〜2 月 6 日の 5 週間の曜日別中央値）</th>\n",
              "      <th>食料品店と薬局</th>\n",
              "      <th>公共交通機関</th>\n",
              "      <th>実効再生産数</th>\n",
              "      <th>緊急事態宣言\\n（宣言中は１）</th>\n",
              "      <th>天気\\n（全国的に半分が雨\\nor台風など上陸などがあったら１）</th>\n",
              "    </tr>\n",
              "  </thead>\n",
              "  <tbody>\n",
              "    <tr>\n",
              "      <th>0</th>\n",
              "      <td>8.0</td>\n",
              "      <td>-4.310739</td>\n",
              "      <td>-1.0</td>\n",
              "      <td>4.0</td>\n",
              "      <td>1.0</td>\n",
              "      <td>0.749</td>\n",
              "      <td>0.0</td>\n",
              "      <td>1.0</td>\n",
              "    </tr>\n",
              "    <tr>\n",
              "      <th>1</th>\n",
              "      <td>22.0</td>\n",
              "      <td>-4.310739</td>\n",
              "      <td>-9.0</td>\n",
              "      <td>-6.0</td>\n",
              "      <td>-10.0</td>\n",
              "      <td>1.241</td>\n",
              "      <td>0.0</td>\n",
              "      <td>1.0</td>\n",
              "    </tr>\n",
              "    <tr>\n",
              "      <th>2</th>\n",
              "      <td>24.0</td>\n",
              "      <td>-4.310739</td>\n",
              "      <td>-2.0</td>\n",
              "      <td>1.0</td>\n",
              "      <td>-1.0</td>\n",
              "      <td>1.915</td>\n",
              "      <td>0.0</td>\n",
              "      <td>1.0</td>\n",
              "    </tr>\n",
              "    <tr>\n",
              "      <th>3</th>\n",
              "      <td>19.0</td>\n",
              "      <td>-4.310739</td>\n",
              "      <td>1.0</td>\n",
              "      <td>2.0</td>\n",
              "      <td>-2.0</td>\n",
              "      <td>2.692</td>\n",
              "      <td>0.0</td>\n",
              "      <td>0.0</td>\n",
              "    </tr>\n",
              "    <tr>\n",
              "      <th>4</th>\n",
              "      <td>9.0</td>\n",
              "      <td>-4.310739</td>\n",
              "      <td>0.0</td>\n",
              "      <td>2.0</td>\n",
              "      <td>-3.0</td>\n",
              "      <td>4.116</td>\n",
              "      <td>0.0</td>\n",
              "      <td>0.0</td>\n",
              "    </tr>\n",
              "    <tr>\n",
              "      <th>...</th>\n",
              "      <td>...</td>\n",
              "      <td>...</td>\n",
              "      <td>...</td>\n",
              "      <td>...</td>\n",
              "      <td>...</td>\n",
              "      <td>...</td>\n",
              "      <td>...</td>\n",
              "      <td>...</td>\n",
              "    </tr>\n",
              "    <tr>\n",
              "      <th>583</th>\n",
              "      <td>NaN</td>\n",
              "      <td>NaN</td>\n",
              "      <td>NaN</td>\n",
              "      <td>NaN</td>\n",
              "      <td>NaN</td>\n",
              "      <td>NaN</td>\n",
              "      <td>NaN</td>\n",
              "      <td>NaN</td>\n",
              "    </tr>\n",
              "    <tr>\n",
              "      <th>584</th>\n",
              "      <td>NaN</td>\n",
              "      <td>NaN</td>\n",
              "      <td>NaN</td>\n",
              "      <td>NaN</td>\n",
              "      <td>NaN</td>\n",
              "      <td>NaN</td>\n",
              "      <td>NaN</td>\n",
              "      <td>NaN</td>\n",
              "    </tr>\n",
              "    <tr>\n",
              "      <th>585</th>\n",
              "      <td>NaN</td>\n",
              "      <td>NaN</td>\n",
              "      <td>NaN</td>\n",
              "      <td>NaN</td>\n",
              "      <td>NaN</td>\n",
              "      <td>NaN</td>\n",
              "      <td>NaN</td>\n",
              "      <td>NaN</td>\n",
              "    </tr>\n",
              "    <tr>\n",
              "      <th>586</th>\n",
              "      <td>NaN</td>\n",
              "      <td>NaN</td>\n",
              "      <td>NaN</td>\n",
              "      <td>NaN</td>\n",
              "      <td>NaN</td>\n",
              "      <td>NaN</td>\n",
              "      <td>NaN</td>\n",
              "      <td>NaN</td>\n",
              "    </tr>\n",
              "    <tr>\n",
              "      <th>587</th>\n",
              "      <td>NaN</td>\n",
              "      <td>NaN</td>\n",
              "      <td>NaN</td>\n",
              "      <td>NaN</td>\n",
              "      <td>NaN</td>\n",
              "      <td>NaN</td>\n",
              "      <td>NaN</td>\n",
              "      <td>NaN</td>\n",
              "    </tr>\n",
              "  </tbody>\n",
              "</table>\n",
              "<p>588 rows × 8 columns</p>\n",
              "</div>"
            ],
            "text/plain": [
              "     感染者数  ...  天気\\n（全国的に半分が雨\\nor台風など上陸などがあったら１）\n",
              "0     8.0  ...                               1.0\n",
              "1    22.0  ...                               1.0\n",
              "2    24.0  ...                               1.0\n",
              "3    19.0  ...                               0.0\n",
              "4     9.0  ...                               0.0\n",
              "..    ...  ...                               ...\n",
              "583   NaN  ...                               NaN\n",
              "584   NaN  ...                               NaN\n",
              "585   NaN  ...                               NaN\n",
              "586   NaN  ...                               NaN\n",
              "587   NaN  ...                               NaN\n",
              "\n",
              "[588 rows x 8 columns]"
            ]
          },
          "metadata": {},
          "execution_count": 20
        }
      ]
    },
    {
      "cell_type": "code",
      "metadata": {
        "id": "rcEXzdpjPnH2"
      },
      "source": [
        "df=df[0:578]"
      ],
      "execution_count": null,
      "outputs": []
    },
    {
      "cell_type": "code",
      "metadata": {
        "colab": {
          "base_uri": "https://localhost:8080/"
        },
        "id": "aWlvAMnsPzEx",
        "outputId": "ef2d06f9-176f-4d1e-89ea-ce7a4d779b36"
      },
      "source": [
        "df.isnull().sum()"
      ],
      "execution_count": null,
      "outputs": [
        {
          "output_type": "execute_result",
          "data": {
            "text/plain": [
              "感染者数                                                        0\n",
              "飲食店情報閲覧\\n（前年同週比を日毎データに）                                     0\n",
              "人流データ　小売店と娯楽施設\\n（基準：2020 年 1 月 3 日〜2 月 6 日の 5 週間の曜日別中央値）    0\n",
              "食料品店と薬局                                                     0\n",
              "公共交通機関                                                      0\n",
              "実効再生産数                                                      0\n",
              "緊急事態宣言\\n（宣言中は１）                                             0\n",
              "天気\\n（全国的に半分が雨\\nor台風など上陸などがあったら１）                            0\n",
              "dtype: int64"
            ]
          },
          "metadata": {},
          "execution_count": 25
        }
      ]
    },
    {
      "cell_type": "markdown",
      "metadata": {
        "id": "9W-GwBohP_aB"
      },
      "source": [
        "感染者数をずらす"
      ]
    },
    {
      "cell_type": "code",
      "metadata": {
        "colab": {
          "base_uri": "https://localhost:8080/"
        },
        "id": "CX5RbL5bP8B_",
        "outputId": "4a69d5d1-57a9-45ba-bb2c-54147eac6a8d"
      },
      "source": [
        "# numpyの出力を小数点2桁に\n",
        "np.set_printoptions(precision=2, floatmode='fixed', suppress=True)\n",
        "\n",
        "# 因果探索の結果を格納するリスト\n",
        "m_list = []\n",
        "loss_list = []\n",
        "\n",
        "for i in range(5):\n",
        "    m, loss = run_SAM(in_data=df, lr_gen=0.01*0.5,\n",
        "                      lr_disc=0.01*0.5*2,\n",
        "                      #lambda1=0.01, lambda2=1e-05,\n",
        "                      lambda1=5.0*20, lambda2=0.005*20,\n",
        "                      hlayers=2,\n",
        "                      nh=200, dnh=200,\n",
        "                      train_epochs=10000,\n",
        "                      test_epochs=1000,\n",
        "                      device='cuda:0')\n",
        "\n",
        "    print(loss)\n",
        "    print(m)\n",
        "\n",
        "    m_list.append(m)\n",
        "    loss_list.append(loss)"
      ],
      "execution_count": null,
      "outputs": [
        {
          "output_type": "stream",
          "name": "stderr",
          "text": [
            "100%|██████████| 11000/11000 [06:45<00:00, 27.10it/s, disc=0.432, gen=3.44, regul_loss=4.03, tot=33.5]\n"
          ]
        },
        {
          "output_type": "stream",
          "name": "stdout",
          "text": [
            "[[4.17]]\n",
            "[[0.00 0.97 0.99 0.00 0.00 0.07 0.99 0.00]\n",
            " [0.04 0.00 0.07 0.01 0.01 0.01 1.00 0.00]\n",
            " [0.00 0.01 0.00 0.03 0.99 0.00 0.00 0.01]\n",
            " [0.81 0.50 1.00 0.00 0.34 0.07 0.99 0.00]\n",
            " [0.01 0.98 0.01 0.01 0.00 0.04 0.07 0.00]\n",
            " [0.82 0.00 0.94 0.26 0.94 0.00 0.03 0.00]\n",
            " [0.02 0.01 0.05 0.00 0.03 0.02 0.00 0.01]\n",
            " [0.98 0.94 0.99 0.99 0.97 0.99 0.88 0.00]]\n"
          ]
        },
        {
          "output_type": "stream",
          "name": "stderr",
          "text": [
            "100%|██████████| 11000/11000 [06:47<00:00, 26.98it/s, disc=0.0254, gen=9.52, regul_loss=3.34, tot=84.8]\n"
          ]
        },
        {
          "output_type": "stream",
          "name": "stdout",
          "text": [
            "[[9.75]]\n",
            "[[0.00 0.97 0.94 0.00 0.00 0.99 0.00 0.02]\n",
            " [0.00 0.00 0.89 1.00 0.06 0.07 0.99 0.00]\n",
            " [0.00 0.05 0.00 0.96 0.10 0.04 0.00 0.00]\n",
            " [0.01 0.00 0.08 0.00 0.02 0.00 0.05 0.00]\n",
            " [0.04 0.99 0.68 0.93 0.00 0.11 0.13 0.00]\n",
            " [0.01 0.01 0.00 1.00 0.91 0.00 0.43 0.00]\n",
            " [0.04 0.02 0.17 0.00 0.04 0.09 0.00 0.00]\n",
            " [0.92 0.98 0.70 0.98 0.97 0.85 0.07 0.00]]\n"
          ]
        },
        {
          "output_type": "stream",
          "name": "stderr",
          "text": [
            "100%|██████████| 11000/11000 [06:48<00:00, 26.92it/s, disc=0.00878, gen=11.3, regul_loss=3.18, tot=104]\n"
          ]
        },
        {
          "output_type": "stream",
          "name": "stdout",
          "text": [
            "[[10.58]]\n",
            "[[0.00 0.05 0.00 0.00 0.00 0.05 0.00 0.01]\n",
            " [0.88 0.00 0.98 0.00 0.21 0.51 1.00 0.00]\n",
            " [0.95 0.09 0.00 0.98 0.66 0.89 0.00 0.01]\n",
            " [0.98 0.02 0.13 0.00 0.10 0.03 0.01 0.00]\n",
            " [0.98 0.29 0.11 0.04 0.00 0.99 0.00 0.01]\n",
            " [0.00 0.03 0.00 0.39 0.06 0.00 0.09 0.00]\n",
            " [1.00 0.06 0.07 0.98 0.29 0.20 0.00 0.01]\n",
            " [0.99 0.95 0.99 0.98 0.85 0.96 0.00 0.00]]\n"
          ]
        },
        {
          "output_type": "stream",
          "name": "stderr",
          "text": [
            "100%|██████████| 11000/11000 [06:52<00:00, 26.65it/s, disc=0.111, gen=8.75, regul_loss=3.68, tot=76.9]\n"
          ]
        },
        {
          "output_type": "stream",
          "name": "stdout",
          "text": [
            "[[9.25]]\n",
            "[[0.00 0.98 0.06 0.00 0.00 1.00 0.01 0.02]\n",
            " [0.01 0.00 1.00 1.00 0.97 0.90 1.00 0.00]\n",
            " [0.02 0.02 0.00 0.98 0.00 0.00 0.00 0.01]\n",
            " [0.01 0.01 0.11 0.00 0.02 0.01 0.00 0.00]\n",
            " [0.00 0.06 1.00 0.86 0.00 0.95 0.00 0.01]\n",
            " [0.01 0.00 0.00 0.98 0.00 0.00 0.03 0.00]\n",
            " [0.02 0.06 0.95 0.98 0.85 0.75 0.00 0.00]\n",
            " [0.78 0.88 0.98 0.99 0.01 0.97 0.00 0.00]]\n"
          ]
        },
        {
          "output_type": "stream",
          "name": "stderr",
          "text": [
            "100%|██████████| 11000/11000 [07:05<00:00, 25.85it/s, disc=0.0932, gen=10.1, regul_loss=3.51, tot=91.2]"
          ]
        },
        {
          "output_type": "stream",
          "name": "stdout",
          "text": [
            "[[8.94]]\n",
            "[[0.00 0.02 0.99 0.94 0.00 0.99 0.20 0.02]\n",
            " [0.55 0.00 0.99 1.00 0.09 0.97 0.94 0.00]\n",
            " [0.02 0.02 0.00 1.00 0.16 0.00 0.00 0.01]\n",
            " [0.02 0.02 0.06 0.00 0.01 0.06 0.00 0.00]\n",
            " [0.05 0.99 0.22 0.97 0.00 0.72 0.00 0.00]\n",
            " [0.05 0.01 0.15 0.00 0.02 0.00 0.18 0.00]\n",
            " [0.14 0.03 0.21 0.98 0.11 0.15 0.00 0.01]\n",
            " [0.99 0.99 0.87 0.97 0.11 0.48 0.00 0.00]]\n"
          ]
        },
        {
          "output_type": "stream",
          "name": "stderr",
          "text": [
            "\n"
          ]
        }
      ]
    },
    {
      "cell_type": "code",
      "metadata": {
        "id": "ME-MofJoX8Fz"
      },
      "source": [
        "final_list=sum(m_list)/len(m_list)"
      ],
      "execution_count": null,
      "outputs": []
    },
    {
      "cell_type": "code",
      "metadata": {
        "colab": {
          "base_uri": "https://localhost:8080/"
        },
        "id": "ImSvJKchX_aW",
        "outputId": "c0f8d468-46b8-433b-a06e-863e70c4f73c"
      },
      "source": [
        "final_list"
      ],
      "execution_count": null,
      "outputs": [
        {
          "output_type": "execute_result",
          "data": {
            "text/plain": [
              "array([[0.00, 0.60, 0.60, 0.19, 0.00, 0.62, 0.24, 0.01],\n",
              "       [0.29, 0.00, 0.79, 0.60, 0.27, 0.49, 0.99, 0.00],\n",
              "       [0.20, 0.04, 0.00, 0.79, 0.38, 0.19, 0.00, 0.01],\n",
              "       [0.37, 0.11, 0.28, 0.00, 0.10, 0.03, 0.21, 0.00],\n",
              "       [0.22, 0.66, 0.40, 0.56, 0.00, 0.56, 0.04, 0.00],\n",
              "       [0.18, 0.01, 0.22, 0.52, 0.39, 0.00, 0.15, 0.00],\n",
              "       [0.24, 0.04, 0.29, 0.59, 0.27, 0.24, 0.00, 0.00],\n",
              "       [0.93, 0.95, 0.91, 0.98, 0.58, 0.85, 0.19, 0.00]], dtype=float32)"
            ]
          },
          "metadata": {},
          "execution_count": 28
        }
      ]
    },
    {
      "cell_type": "code",
      "metadata": {
        "id": "WQZTegtlX_qn"
      },
      "source": [
        ""
      ],
      "execution_count": null,
      "outputs": []
    },
    {
      "cell_type": "code",
      "metadata": {
        "id": "ze0LuKazbF8m"
      },
      "source": [
        ""
      ],
      "execution_count": null,
      "outputs": []
    },
    {
      "cell_type": "code",
      "metadata": {
        "id": "cpJy1n8FbF6e"
      },
      "source": [
        "df = pd.read_csv('/content/コロナデータ　実験４.csv')"
      ],
      "execution_count": null,
      "outputs": []
    },
    {
      "cell_type": "code",
      "metadata": {
        "colab": {
          "base_uri": "https://localhost:8080/",
          "height": 511
        },
        "id": "KiwQgBlXbF30",
        "outputId": "e5713fd2-28ec-4dae-ddc4-026a81db8bf0"
      },
      "source": [
        "df"
      ],
      "execution_count": null,
      "outputs": [
        {
          "output_type": "execute_result",
          "data": {
            "text/html": [
              "<div>\n",
              "<style scoped>\n",
              "    .dataframe tbody tr th:only-of-type {\n",
              "        vertical-align: middle;\n",
              "    }\n",
              "\n",
              "    .dataframe tbody tr th {\n",
              "        vertical-align: top;\n",
              "    }\n",
              "\n",
              "    .dataframe thead th {\n",
              "        text-align: right;\n",
              "    }\n",
              "</style>\n",
              "<table border=\"1\" class=\"dataframe\">\n",
              "  <thead>\n",
              "    <tr style=\"text-align: right;\">\n",
              "      <th></th>\n",
              "      <th>感染者数</th>\n",
              "      <th>飲食店情報閲覧\\n（前年同週比を日毎データに）</th>\n",
              "      <th>人流データ　小売店と娯楽施設\\n（基準：2020 年 1 月 3 日〜2 月 6 日の 5 週間の曜日別中央値）</th>\n",
              "      <th>食料品店と薬局</th>\n",
              "      <th>公共交通機関</th>\n",
              "      <th>実効再生産数</th>\n",
              "      <th>緊急事態宣言\\n（宣言中は１）</th>\n",
              "      <th>天気\\n（全国的に半分が雨\\nor台風など上陸などがあったら１）</th>\n",
              "      <th>感染者数.1</th>\n",
              "    </tr>\n",
              "  </thead>\n",
              "  <tbody>\n",
              "    <tr>\n",
              "      <th>0</th>\n",
              "      <td>9.0</td>\n",
              "      <td>-4.310739</td>\n",
              "      <td>-1.0</td>\n",
              "      <td>4.0</td>\n",
              "      <td>1.0</td>\n",
              "      <td>0.749</td>\n",
              "      <td>0.0</td>\n",
              "      <td>1.0</td>\n",
              "      <td>4.0</td>\n",
              "    </tr>\n",
              "    <tr>\n",
              "      <th>1</th>\n",
              "      <td>14.0</td>\n",
              "      <td>-4.310739</td>\n",
              "      <td>-9.0</td>\n",
              "      <td>-6.0</td>\n",
              "      <td>-10.0</td>\n",
              "      <td>1.241</td>\n",
              "      <td>0.0</td>\n",
              "      <td>1.0</td>\n",
              "      <td>1.0</td>\n",
              "    </tr>\n",
              "    <tr>\n",
              "      <th>2</th>\n",
              "      <td>14.0</td>\n",
              "      <td>-4.310739</td>\n",
              "      <td>-2.0</td>\n",
              "      <td>1.0</td>\n",
              "      <td>-1.0</td>\n",
              "      <td>1.915</td>\n",
              "      <td>0.0</td>\n",
              "      <td>1.0</td>\n",
              "      <td>6.0</td>\n",
              "    </tr>\n",
              "    <tr>\n",
              "      <th>3</th>\n",
              "      <td>22.0</td>\n",
              "      <td>-4.310739</td>\n",
              "      <td>1.0</td>\n",
              "      <td>2.0</td>\n",
              "      <td>-2.0</td>\n",
              "      <td>2.692</td>\n",
              "      <td>0.0</td>\n",
              "      <td>0.0</td>\n",
              "      <td>8.0</td>\n",
              "    </tr>\n",
              "    <tr>\n",
              "      <th>4</th>\n",
              "      <td>34.0</td>\n",
              "      <td>-4.310739</td>\n",
              "      <td>0.0</td>\n",
              "      <td>2.0</td>\n",
              "      <td>-3.0</td>\n",
              "      <td>4.116</td>\n",
              "      <td>0.0</td>\n",
              "      <td>0.0</td>\n",
              "      <td>9.0</td>\n",
              "    </tr>\n",
              "    <tr>\n",
              "      <th>...</th>\n",
              "      <td>...</td>\n",
              "      <td>...</td>\n",
              "      <td>...</td>\n",
              "      <td>...</td>\n",
              "      <td>...</td>\n",
              "      <td>...</td>\n",
              "      <td>...</td>\n",
              "      <td>...</td>\n",
              "      <td>...</td>\n",
              "    </tr>\n",
              "    <tr>\n",
              "      <th>583</th>\n",
              "      <td>NaN</td>\n",
              "      <td>NaN</td>\n",
              "      <td>NaN</td>\n",
              "      <td>NaN</td>\n",
              "      <td>NaN</td>\n",
              "      <td>NaN</td>\n",
              "      <td>NaN</td>\n",
              "      <td>NaN</td>\n",
              "      <td>NaN</td>\n",
              "    </tr>\n",
              "    <tr>\n",
              "      <th>584</th>\n",
              "      <td>NaN</td>\n",
              "      <td>NaN</td>\n",
              "      <td>NaN</td>\n",
              "      <td>NaN</td>\n",
              "      <td>NaN</td>\n",
              "      <td>NaN</td>\n",
              "      <td>NaN</td>\n",
              "      <td>NaN</td>\n",
              "      <td>NaN</td>\n",
              "    </tr>\n",
              "    <tr>\n",
              "      <th>585</th>\n",
              "      <td>NaN</td>\n",
              "      <td>NaN</td>\n",
              "      <td>NaN</td>\n",
              "      <td>NaN</td>\n",
              "      <td>NaN</td>\n",
              "      <td>NaN</td>\n",
              "      <td>NaN</td>\n",
              "      <td>NaN</td>\n",
              "      <td>NaN</td>\n",
              "    </tr>\n",
              "    <tr>\n",
              "      <th>586</th>\n",
              "      <td>NaN</td>\n",
              "      <td>NaN</td>\n",
              "      <td>NaN</td>\n",
              "      <td>NaN</td>\n",
              "      <td>NaN</td>\n",
              "      <td>NaN</td>\n",
              "      <td>NaN</td>\n",
              "      <td>NaN</td>\n",
              "      <td>NaN</td>\n",
              "    </tr>\n",
              "    <tr>\n",
              "      <th>587</th>\n",
              "      <td>NaN</td>\n",
              "      <td>NaN</td>\n",
              "      <td>NaN</td>\n",
              "      <td>NaN</td>\n",
              "      <td>NaN</td>\n",
              "      <td>NaN</td>\n",
              "      <td>NaN</td>\n",
              "      <td>NaN</td>\n",
              "      <td>NaN</td>\n",
              "    </tr>\n",
              "  </tbody>\n",
              "</table>\n",
              "<p>588 rows × 9 columns</p>\n",
              "</div>"
            ],
            "text/plain": [
              "     感染者数  飲食店情報閲覧\\n（前年同週比を日毎データに）  ...  天気\\n（全国的に半分が雨\\nor台風など上陸などがあったら１）  感染者数.1\n",
              "0     9.0                -4.310739  ...                               1.0     4.0\n",
              "1    14.0                -4.310739  ...                               1.0     1.0\n",
              "2    14.0                -4.310739  ...                               1.0     6.0\n",
              "3    22.0                -4.310739  ...                               0.0     8.0\n",
              "4    34.0                -4.310739  ...                               0.0     9.0\n",
              "..    ...                      ...  ...                               ...     ...\n",
              "583   NaN                      NaN  ...                               NaN     NaN\n",
              "584   NaN                      NaN  ...                               NaN     NaN\n",
              "585   NaN                      NaN  ...                               NaN     NaN\n",
              "586   NaN                      NaN  ...                               NaN     NaN\n",
              "587   NaN                      NaN  ...                               NaN     NaN\n",
              "\n",
              "[588 rows x 9 columns]"
            ]
          },
          "metadata": {},
          "execution_count": 30
        }
      ]
    },
    {
      "cell_type": "code",
      "metadata": {
        "id": "U7Oo9307bLCD"
      },
      "source": [
        "df=df[0:574]"
      ],
      "execution_count": null,
      "outputs": []
    },
    {
      "cell_type": "code",
      "metadata": {
        "colab": {
          "base_uri": "https://localhost:8080/",
          "height": 545
        },
        "id": "FPIEyPXRbSKB",
        "outputId": "8228ad70-938c-42af-93b3-99087155d893"
      },
      "source": [
        "df"
      ],
      "execution_count": null,
      "outputs": [
        {
          "output_type": "execute_result",
          "data": {
            "text/html": [
              "<div>\n",
              "<style scoped>\n",
              "    .dataframe tbody tr th:only-of-type {\n",
              "        vertical-align: middle;\n",
              "    }\n",
              "\n",
              "    .dataframe tbody tr th {\n",
              "        vertical-align: top;\n",
              "    }\n",
              "\n",
              "    .dataframe thead th {\n",
              "        text-align: right;\n",
              "    }\n",
              "</style>\n",
              "<table border=\"1\" class=\"dataframe\">\n",
              "  <thead>\n",
              "    <tr style=\"text-align: right;\">\n",
              "      <th></th>\n",
              "      <th>感染者数</th>\n",
              "      <th>飲食店情報閲覧\\n（前年同週比を日毎データに）</th>\n",
              "      <th>人流データ　小売店と娯楽施設\\n（基準：2020 年 1 月 3 日〜2 月 6 日の 5 週間の曜日別中央値）</th>\n",
              "      <th>食料品店と薬局</th>\n",
              "      <th>公共交通機関</th>\n",
              "      <th>実効再生産数</th>\n",
              "      <th>緊急事態宣言\\n（宣言中は１）</th>\n",
              "      <th>天気\\n（全国的に半分が雨\\nor台風など上陸などがあったら１）</th>\n",
              "      <th>感染者数.1</th>\n",
              "    </tr>\n",
              "  </thead>\n",
              "  <tbody>\n",
              "    <tr>\n",
              "      <th>0</th>\n",
              "      <td>9.0</td>\n",
              "      <td>-4.310739</td>\n",
              "      <td>-1.0</td>\n",
              "      <td>4.0</td>\n",
              "      <td>1.0</td>\n",
              "      <td>0.749</td>\n",
              "      <td>0.0</td>\n",
              "      <td>1.0</td>\n",
              "      <td>4.0</td>\n",
              "    </tr>\n",
              "    <tr>\n",
              "      <th>1</th>\n",
              "      <td>14.0</td>\n",
              "      <td>-4.310739</td>\n",
              "      <td>-9.0</td>\n",
              "      <td>-6.0</td>\n",
              "      <td>-10.0</td>\n",
              "      <td>1.241</td>\n",
              "      <td>0.0</td>\n",
              "      <td>1.0</td>\n",
              "      <td>1.0</td>\n",
              "    </tr>\n",
              "    <tr>\n",
              "      <th>2</th>\n",
              "      <td>14.0</td>\n",
              "      <td>-4.310739</td>\n",
              "      <td>-2.0</td>\n",
              "      <td>1.0</td>\n",
              "      <td>-1.0</td>\n",
              "      <td>1.915</td>\n",
              "      <td>0.0</td>\n",
              "      <td>1.0</td>\n",
              "      <td>6.0</td>\n",
              "    </tr>\n",
              "    <tr>\n",
              "      <th>3</th>\n",
              "      <td>22.0</td>\n",
              "      <td>-4.310739</td>\n",
              "      <td>1.0</td>\n",
              "      <td>2.0</td>\n",
              "      <td>-2.0</td>\n",
              "      <td>2.692</td>\n",
              "      <td>0.0</td>\n",
              "      <td>0.0</td>\n",
              "      <td>8.0</td>\n",
              "    </tr>\n",
              "    <tr>\n",
              "      <th>4</th>\n",
              "      <td>34.0</td>\n",
              "      <td>-4.310739</td>\n",
              "      <td>0.0</td>\n",
              "      <td>2.0</td>\n",
              "      <td>-3.0</td>\n",
              "      <td>4.116</td>\n",
              "      <td>0.0</td>\n",
              "      <td>0.0</td>\n",
              "      <td>9.0</td>\n",
              "    </tr>\n",
              "    <tr>\n",
              "      <th>...</th>\n",
              "      <td>...</td>\n",
              "      <td>...</td>\n",
              "      <td>...</td>\n",
              "      <td>...</td>\n",
              "      <td>...</td>\n",
              "      <td>...</td>\n",
              "      <td>...</td>\n",
              "      <td>...</td>\n",
              "      <td>...</td>\n",
              "    </tr>\n",
              "    <tr>\n",
              "      <th>569</th>\n",
              "      <td>2219.0</td>\n",
              "      <td>-58.803064</td>\n",
              "      <td>-18.0</td>\n",
              "      <td>3.0</td>\n",
              "      <td>-27.0</td>\n",
              "      <td>0.860</td>\n",
              "      <td>1.0</td>\n",
              "      <td>0.0</td>\n",
              "      <td>8223.0</td>\n",
              "    </tr>\n",
              "    <tr>\n",
              "      <th>570</th>\n",
              "      <td>1758.0</td>\n",
              "      <td>-58.803064</td>\n",
              "      <td>-14.0</td>\n",
              "      <td>7.0</td>\n",
              "      <td>-26.0</td>\n",
              "      <td>0.838</td>\n",
              "      <td>1.0</td>\n",
              "      <td>0.0</td>\n",
              "      <td>10585.0</td>\n",
              "    </tr>\n",
              "    <tr>\n",
              "      <th>571</th>\n",
              "      <td>3229.0</td>\n",
              "      <td>-58.803064</td>\n",
              "      <td>-18.0</td>\n",
              "      <td>3.0</td>\n",
              "      <td>-28.0</td>\n",
              "      <td>0.815</td>\n",
              "      <td>1.0</td>\n",
              "      <td>1.0</td>\n",
              "      <td>12378.0</td>\n",
              "    </tr>\n",
              "    <tr>\n",
              "      <th>572</th>\n",
              "      <td>3598.0</td>\n",
              "      <td>-56.676452</td>\n",
              "      <td>-18.0</td>\n",
              "      <td>3.0</td>\n",
              "      <td>-28.0</td>\n",
              "      <td>0.794</td>\n",
              "      <td>1.0</td>\n",
              "      <td>0.0</td>\n",
              "      <td>10377.0</td>\n",
              "    </tr>\n",
              "    <tr>\n",
              "      <th>573</th>\n",
              "      <td>2085.0</td>\n",
              "      <td>-56.676452</td>\n",
              "      <td>-18.0</td>\n",
              "      <td>7.0</td>\n",
              "      <td>-28.0</td>\n",
              "      <td>0.774</td>\n",
              "      <td>1.0</td>\n",
              "      <td>0.0</td>\n",
              "      <td>8864.0</td>\n",
              "    </tr>\n",
              "  </tbody>\n",
              "</table>\n",
              "<p>574 rows × 9 columns</p>\n",
              "</div>"
            ],
            "text/plain": [
              "       感染者数  飲食店情報閲覧\\n（前年同週比を日毎データに）  ...  天気\\n（全国的に半分が雨\\nor台風など上陸などがあったら１）   感染者数.1\n",
              "0       9.0                -4.310739  ...                               1.0      4.0\n",
              "1      14.0                -4.310739  ...                               1.0      1.0\n",
              "2      14.0                -4.310739  ...                               1.0      6.0\n",
              "3      22.0                -4.310739  ...                               0.0      8.0\n",
              "4      34.0                -4.310739  ...                               0.0      9.0\n",
              "..      ...                      ...  ...                               ...      ...\n",
              "569  2219.0               -58.803064  ...                               0.0   8223.0\n",
              "570  1758.0               -58.803064  ...                               0.0  10585.0\n",
              "571  3229.0               -58.803064  ...                               1.0  12378.0\n",
              "572  3598.0               -56.676452  ...                               0.0  10377.0\n",
              "573  2085.0               -56.676452  ...                               0.0   8864.0\n",
              "\n",
              "[574 rows x 9 columns]"
            ]
          },
          "metadata": {},
          "execution_count": 35
        }
      ]
    },
    {
      "cell_type": "code",
      "metadata": {
        "colab": {
          "base_uri": "https://localhost:8080/"
        },
        "id": "KD3iaoSRbMlI",
        "outputId": "185bf8fe-f9d5-4bda-d6c5-8ea14eadaaf4"
      },
      "source": [
        "df.isnull().sum()"
      ],
      "execution_count": null,
      "outputs": [
        {
          "output_type": "execute_result",
          "data": {
            "text/plain": [
              "感染者数                                                        0\n",
              "飲食店情報閲覧\\n（前年同週比を日毎データに）                                     0\n",
              "人流データ　小売店と娯楽施設\\n（基準：2020 年 1 月 3 日〜2 月 6 日の 5 週間の曜日別中央値）    0\n",
              "食料品店と薬局                                                     0\n",
              "公共交通機関                                                      0\n",
              "実効再生産数                                                      0\n",
              "緊急事態宣言\\n（宣言中は１）                                             0\n",
              "天気\\n（全国的に半分が雨\\nor台風など上陸などがあったら１）                            0\n",
              "感染者数.1                                                      0\n",
              "dtype: int64"
            ]
          },
          "metadata": {},
          "execution_count": 36
        }
      ]
    },
    {
      "cell_type": "markdown",
      "metadata": {
        "id": "U_Qp94TSbbUa"
      },
      "source": [
        "感染者数を２週間ずらし、２週間前の感染者数も変数に入れる"
      ]
    },
    {
      "cell_type": "code",
      "metadata": {
        "colab": {
          "base_uri": "https://localhost:8080/"
        },
        "id": "TneAzX2FbOva",
        "outputId": "3d4c4deb-535d-479c-df43-9a067513caeb"
      },
      "source": [
        "# numpyの出力を小数点2桁に\n",
        "np.set_printoptions(precision=2, floatmode='fixed', suppress=True)\n",
        "\n",
        "# 因果探索の結果を格納するリスト\n",
        "m_list = []\n",
        "loss_list = []\n",
        "\n",
        "for i in range(5):\n",
        "    m, loss = run_SAM(in_data=df, lr_gen=0.01*0.5,\n",
        "                      lr_disc=0.01*0.5*2,\n",
        "                      #lambda1=0.01, lambda2=1e-05,\n",
        "                      lambda1=5.0*20, lambda2=0.005*20,\n",
        "                      hlayers=2,\n",
        "                      nh=200, dnh=200,\n",
        "                      train_epochs=10000,\n",
        "                      test_epochs=1000,\n",
        "                      device='cuda:0')\n",
        "\n",
        "    print(loss)\n",
        "    print(m)\n",
        "\n",
        "    m_list.append(m)\n",
        "    loss_list.append(loss)"
      ],
      "execution_count": null,
      "outputs": [
        {
          "output_type": "stream",
          "name": "stderr",
          "text": [
            "100%|██████████| 11000/11000 [07:20<00:00, 24.97it/s, disc=1.74, gen=4.38, regul_loss=4.59, tot=54.4]\n"
          ]
        },
        {
          "output_type": "stream",
          "name": "stdout",
          "text": [
            "[[4.61]]\n",
            "[[0.00 0.00 0.01 0.00 0.00 0.99 0.00 0.00 0.24]\n",
            " [0.19 0.00 1.00 0.01 0.10 0.98 1.00 0.00 0.08]\n",
            " [0.00 0.07 0.00 0.01 0.00 0.82 0.22 0.01 0.00]\n",
            " [0.00 0.54 1.00 0.00 0.96 0.97 0.79 0.00 0.11]\n",
            " [0.34 0.98 1.00 0.01 0.00 0.82 0.05 0.00 0.04]\n",
            " [0.00 0.02 0.02 0.01 0.02 0.00 0.96 0.00 0.00]\n",
            " [0.00 0.01 0.00 0.01 0.04 0.00 0.00 0.00 0.02]\n",
            " [1.00 0.98 0.99 0.99 0.96 0.94 0.00 0.00 0.98]\n",
            " [1.00 1.00 0.00 0.01 0.34 0.00 0.98 0.02 0.00]]\n"
          ]
        },
        {
          "output_type": "stream",
          "name": "stderr",
          "text": [
            "100%|██████████| 11000/11000 [07:22<00:00, 24.88it/s, disc=0.131, gen=11.3, regul_loss=3.89, tot=111]\n"
          ]
        },
        {
          "output_type": "stream",
          "name": "stdout",
          "text": [
            "[[9.36]]\n",
            "[[0.00 0.17 0.03 0.00 0.01 1.00 0.00 0.00 0.09]\n",
            " [0.00 0.00 0.25 1.00 0.07 0.97 1.00 0.00 0.05]\n",
            " [0.01 0.04 0.00 0.10 0.06 0.00 0.00 0.00 0.01]\n",
            " [0.01 0.01 0.98 0.00 0.03 0.00 0.00 0.00 0.01]\n",
            " [0.01 0.68 1.00 0.94 0.00 0.98 0.12 0.00 0.00]\n",
            " [0.03 0.00 0.25 0.99 0.03 0.00 0.15 0.00 0.00]\n",
            " [0.08 0.04 0.92 0.99 0.04 0.49 0.00 0.01 0.04]\n",
            " [0.97 0.94 0.00 0.99 0.82 0.96 0.00 0.00 0.99]\n",
            " [0.97 0.97 0.00 0.99 0.92 0.00 0.29 0.01 0.00]]\n"
          ]
        },
        {
          "output_type": "stream",
          "name": "stderr",
          "text": [
            "100%|██████████| 11000/11000 [07:21<00:00, 24.94it/s, disc=0.0272, gen=8.57, regul_loss=5.64, tot=91.3]\n"
          ]
        },
        {
          "output_type": "stream",
          "name": "stdout",
          "text": [
            "[[10.16]]\n",
            "[[0.00 0.05 0.00 0.00 0.00 1.00 0.00 0.00 0.05]\n",
            " [0.00 0.00 0.97 1.00 0.04 1.00 1.00 0.00 0.99]\n",
            " [0.94 0.06 0.00 0.99 0.08 0.65 0.11 0.00 0.98]\n",
            " [0.99 0.03 0.15 0.00 0.03 0.97 0.01 0.00 0.87]\n",
            " [0.99 0.98 0.96 0.34 0.00 0.99 0.00 0.00 0.00]\n",
            " [0.07 0.00 0.01 0.00 0.01 0.00 0.01 0.00 0.03]\n",
            " [0.47 0.04 0.04 0.44 0.03 1.00 0.00 0.01 0.97]\n",
            " [0.99 0.88 0.88 0.94 0.99 0.99 0.00 0.00 1.00]\n",
            " [0.99 0.06 0.00 0.02 0.00 0.00 0.04 0.00 0.00]]\n"
          ]
        },
        {
          "output_type": "stream",
          "name": "stderr",
          "text": [
            "100%|██████████| 11000/11000 [07:23<00:00, 24.79it/s, disc=0.323, gen=7.94, regul_loss=4.06, tot=87.8]\n"
          ]
        },
        {
          "output_type": "stream",
          "name": "stdout",
          "text": [
            "[[8.15]]\n",
            "[[0.00 0.22 0.98 0.89 0.99 1.00 0.00 0.00 0.99]\n",
            " [0.01 0.00 1.00 0.09 0.98 0.74 1.00 0.00 0.05]\n",
            " [0.00 0.06 0.00 0.03 0.00 0.00 0.00 0.00 0.02]\n",
            " [0.02 0.06 0.99 0.00 0.96 0.00 0.00 0.01 0.04]\n",
            " [0.00 0.11 1.00 0.01 0.00 0.33 0.00 0.00 0.01]\n",
            " [0.03 0.04 0.00 0.00 0.10 0.00 0.01 0.00 0.00]\n",
            " [0.01 0.06 0.00 0.27 0.03 0.99 0.00 0.00 0.03]\n",
            " [0.98 0.93 0.98 0.99 0.00 0.96 0.00 0.00 1.00]\n",
            " [0.26 0.92 0.00 0.56 0.91 0.00 0.00 0.01 0.00]]\n"
          ]
        },
        {
          "output_type": "stream",
          "name": "stderr",
          "text": [
            "100%|██████████| 11000/11000 [07:28<00:00, 24.53it/s, disc=0.265, gen=11.5, regul_loss=3.19, tot=115]"
          ]
        },
        {
          "output_type": "stream",
          "name": "stdout",
          "text": [
            "[[10.13]]\n",
            "[[0.00 0.00 0.00 0.98 0.00 1.00 0.00 0.00 0.18]\n",
            " [0.16 0.00 1.00 0.01 0.01 0.00 1.00 0.00 0.05]\n",
            " [0.01 0.04 0.00 0.07 0.02 0.00 0.00 0.00 0.00]\n",
            " [0.01 0.01 1.00 0.00 0.31 0.85 0.00 0.00 0.02]\n",
            " [0.01 0.26 1.00 0.00 0.00 0.54 0.01 0.00 0.00]\n",
            " [0.01 0.03 0.00 0.05 0.00 0.00 0.04 0.00 0.00]\n",
            " [0.48 0.04 0.97 0.80 0.46 0.78 0.00 0.01 0.02]\n",
            " [0.91 0.95 0.97 0.98 0.00 0.97 0.00 0.00 0.99]\n",
            " [0.99 0.97 0.00 0.00 0.98 0.00 0.21 0.03 0.00]]\n"
          ]
        },
        {
          "output_type": "stream",
          "name": "stderr",
          "text": [
            "\n"
          ]
        }
      ]
    },
    {
      "cell_type": "code",
      "metadata": {
        "id": "TaxcA-DykFPP"
      },
      "source": [
        "m_list1=m_list"
      ],
      "execution_count": null,
      "outputs": []
    },
    {
      "cell_type": "code",
      "metadata": {
        "id": "0LnWZyJqkHo4"
      },
      "source": [
        "final_list1=sum(m_list1)/len(m_list1)"
      ],
      "execution_count": null,
      "outputs": []
    },
    {
      "cell_type": "code",
      "metadata": {
        "colab": {
          "base_uri": "https://localhost:8080/"
        },
        "id": "KoRGmaCikLq2",
        "outputId": "34cda6c1-8e76-4d82-ba8c-df599b72d93f"
      },
      "source": [
        "final_list1"
      ],
      "execution_count": null,
      "outputs": [
        {
          "output_type": "execute_result",
          "data": {
            "text/plain": [
              "array([[0.00, 0.09, 0.20, 0.37, 0.20, 1.00, 0.00, 0.00, 0.31],\n",
              "       [0.07, 0.00, 0.84, 0.42, 0.24, 0.74, 1.00, 0.00, 0.24],\n",
              "       [0.19, 0.05, 0.00, 0.24, 0.03, 0.29, 0.07, 0.00, 0.20],\n",
              "       [0.21, 0.13, 0.82, 0.00, 0.46, 0.56, 0.16, 0.00, 0.21],\n",
              "       [0.27, 0.60, 0.99, 0.26, 0.00, 0.73, 0.04, 0.00, 0.01],\n",
              "       [0.03, 0.02, 0.05, 0.21, 0.03, 0.00, 0.23, 0.00, 0.01],\n",
              "       [0.21, 0.04, 0.39, 0.50, 0.12, 0.65, 0.00, 0.01, 0.22],\n",
              "       [0.97, 0.94, 0.76, 0.98, 0.55, 0.96, 0.00, 0.00, 0.99],\n",
              "       [0.84, 0.78, 0.00, 0.31, 0.63, 0.00, 0.30, 0.01, 0.00]],\n",
              "      dtype=float32)"
            ]
          },
          "metadata": {},
          "execution_count": 40
        }
      ]
    },
    {
      "cell_type": "code",
      "metadata": {
        "id": "ERL7IeSRkMiP"
      },
      "source": [
        ""
      ],
      "execution_count": null,
      "outputs": []
    },
    {
      "cell_type": "code",
      "metadata": {
        "id": "R6xprE3nkS0z"
      },
      "source": [
        ""
      ],
      "execution_count": null,
      "outputs": []
    },
    {
      "cell_type": "markdown",
      "metadata": {
        "id": "e6NnvaEatfx6"
      },
      "source": [
        "学習率0.01を0.1"
      ]
    },
    {
      "cell_type": "code",
      "metadata": {
        "colab": {
          "base_uri": "https://localhost:8080/"
        },
        "id": "lq10N0klkSyY",
        "outputId": "4195374e-2299-4245-a390-8436c3a7e776"
      },
      "source": [
        "# numpyの出力を小数点2桁に\n",
        "np.set_printoptions(precision=2, floatmode='fixed', suppress=True)\n",
        "\n",
        "# 因果探索の結果を格納するリスト\n",
        "m_list = []\n",
        "loss_list = []\n",
        "\n",
        "for i in range(5):\n",
        "    m, loss = run_SAM(in_data=df, lr_gen=0.1*0.5,\n",
        "                      lr_disc=0.1*0.5*2,\n",
        "                      #lambda1=0.01, lambda2=1e-05,\n",
        "                      lambda1=5.0*20, lambda2=0.005*20,\n",
        "                      hlayers=2,\n",
        "                      nh=200, dnh=200,\n",
        "                      train_epochs=10000,\n",
        "                      test_epochs=1000,\n",
        "                      device='cuda:0')\n",
        "\n",
        "    print(loss)\n",
        "    print(m)\n",
        "\n",
        "    m_list.append(m)\n",
        "    loss_list.append(loss)"
      ],
      "execution_count": null,
      "outputs": [
        {
          "output_type": "stream",
          "name": "stderr",
          "text": [
            "100%|██████████| 11000/11000 [07:31<00:00, 24.35it/s, disc=1.55, gen=1.01, regul_loss=3.68, tot=12.9]\n"
          ]
        },
        {
          "output_type": "stream",
          "name": "stdout",
          "text": [
            "[[1.01]]\n",
            "[[0.00 0.00 1.00 1.00 0.00 1.00 0.00 0.00 0.00]\n",
            " [0.00 0.00 0.00 0.00 0.03 0.00 0.00 0.00 0.00]\n",
            " [0.00 1.00 0.00 1.00 0.99 1.00 0.00 0.00 0.00]\n",
            " [0.00 1.00 0.00 0.00 0.00 0.00 0.00 0.00 0.01]\n",
            " [0.00 1.00 0.00 0.00 0.00 1.00 0.00 0.00 0.00]\n",
            " [0.00 0.00 0.00 0.02 0.00 0.00 0.00 0.00 0.00]\n",
            " [1.00 1.00 1.00 1.00 1.00 1.00 0.00 0.00 0.00]\n",
            " [0.99 0.00 0.00 1.00 0.00 0.00 0.00 0.00 0.00]\n",
            " [1.00 0.00 0.00 1.00 0.00 0.00 1.00 0.00 0.00]]\n"
          ]
        },
        {
          "output_type": "stream",
          "name": "stderr",
          "text": [
            "100%|██████████| 11000/11000 [07:26<00:00, 24.62it/s, disc=0.174, gen=8.86, regul_loss=3.16, tot=86.2]\n"
          ]
        },
        {
          "output_type": "stream",
          "name": "stdout",
          "text": [
            "[[8.67]]\n",
            "[[0.00 0.00 0.00 1.00 0.00 1.00 1.00 0.00 0.13]\n",
            " [0.00 0.00 1.00 1.00 0.01 0.00 0.00 0.00 0.02]\n",
            " [0.00 0.00 0.00 1.00 0.00 0.00 0.00 0.00 0.00]\n",
            " [0.00 0.00 0.07 0.00 0.00 0.00 0.00 0.00 0.00]\n",
            " [0.00 1.00 1.00 0.00 0.00 0.99 0.00 0.00 1.00]\n",
            " [0.07 1.00 0.00 0.00 0.00 0.00 1.00 0.62 0.00]\n",
            " [0.00 1.00 0.00 0.00 0.00 0.00 0.00 0.00 0.00]\n",
            " [0.00 0.00 0.00 0.00 0.00 0.00 0.00 0.00 0.01]\n",
            " [1.00 1.00 0.00 1.00 0.00 0.00 1.00 1.00 0.00]]\n"
          ]
        },
        {
          "output_type": "stream",
          "name": "stderr",
          "text": [
            "100%|██████████| 11000/11000 [07:28<00:00, 24.54it/s, disc=0.0773, gen=10.8, regul_loss=3.5, tot=102]\n"
          ]
        },
        {
          "output_type": "stream",
          "name": "stdout",
          "text": [
            "[[11.02]]\n",
            "[[0.00 0.00 0.00 0.00 0.07 0.00 1.00 0.00 1.00]\n",
            " [0.00 0.00 0.00 0.04 1.00 0.33 0.00 0.00 0.00]\n",
            " [0.00 1.00 0.00 1.00 0.00 0.00 0.19 0.00 1.00]\n",
            " [1.00 1.00 0.00 0.00 1.00 1.00 0.00 0.00 0.00]\n",
            " [0.00 0.03 0.00 0.02 0.00 0.00 0.00 0.00 0.00]\n",
            " [0.00 0.00 0.00 0.03 0.00 0.00 0.00 0.00 0.00]\n",
            " [0.00 1.00 0.00 0.00 0.00 1.00 0.00 1.00 1.00]\n",
            " [0.00 1.00 0.00 0.00 0.00 1.00 0.00 0.00 1.00]\n",
            " [0.00 1.00 0.00 0.07 0.00 1.00 0.00 0.00 0.00]]\n"
          ]
        },
        {
          "output_type": "stream",
          "name": "stderr",
          "text": [
            "100%|██████████| 11000/11000 [07:37<00:00, 24.07it/s, disc=0.689, gen=7, regul_loss=2.98, tot=66]\n"
          ]
        },
        {
          "output_type": "stream",
          "name": "stdout",
          "text": [
            "[[7.02]]\n",
            "[[0.00 0.00 0.00 1.00 0.00 0.00 1.00 0.00 1.00]\n",
            " [0.00 0.00 0.00 0.96 1.00 1.00 1.00 0.00 1.00]\n",
            " [0.00 0.00 0.00 0.00 0.00 1.00 0.00 0.00 0.00]\n",
            " [0.00 0.00 0.00 0.00 1.00 0.00 1.00 0.00 1.00]\n",
            " [0.00 0.00 0.00 0.00 0.00 1.00 0.00 0.00 1.00]\n",
            " [0.00 0.00 0.00 0.00 0.00 0.00 1.00 0.00 0.00]\n",
            " [0.00 0.00 0.00 0.00 0.00 0.00 0.00 1.00 0.00]\n",
            " [0.00 0.00 0.00 0.00 0.00 0.00 0.00 0.00 0.00]\n",
            " [0.00 0.00 0.00 0.00 0.00 0.00 1.00 0.00 0.00]]\n"
          ]
        },
        {
          "output_type": "stream",
          "name": "stderr",
          "text": [
            "100%|██████████| 11000/11000 [07:34<00:00, 24.20it/s, disc=0.217, gen=8.73, regul_loss=3.68, tot=87.5]"
          ]
        },
        {
          "output_type": "stream",
          "name": "stdout",
          "text": [
            "[[8.40]]\n",
            "[[0.00 0.00 0.00 0.00 0.00 0.00 1.00 0.00 0.06]\n",
            " [0.17 0.00 1.00 1.00 0.99 1.00 0.00 0.00 0.07]\n",
            " [0.00 0.03 0.00 0.00 0.00 0.00 0.00 0.00 0.00]\n",
            " [0.00 0.00 1.00 0.00 1.00 0.00 0.16 0.00 0.00]\n",
            " [0.00 0.06 1.00 0.03 0.00 0.00 0.06 0.00 0.00]\n",
            " [1.00 0.00 0.00 0.00 0.00 0.00 0.62 0.00 0.00]\n",
            " [0.00 0.18 0.00 0.00 1.00 0.00 0.00 0.00 0.01]\n",
            " [0.00 0.97 1.00 1.00 0.00 1.00 0.54 0.00 0.99]\n",
            " [1.00 0.99 0.00 0.00 1.00 0.00 1.00 0.00 0.00]]\n"
          ]
        },
        {
          "output_type": "stream",
          "name": "stderr",
          "text": [
            "\n"
          ]
        }
      ]
    },
    {
      "cell_type": "code",
      "metadata": {
        "id": "MQ0QaTHDtG0Z"
      },
      "source": [
        "m_list2=m_list"
      ],
      "execution_count": null,
      "outputs": []
    },
    {
      "cell_type": "code",
      "metadata": {
        "id": "Q3oqiRtltJjI"
      },
      "source": [
        "final_list2=sum(m_list2)/len(m_list2)"
      ],
      "execution_count": null,
      "outputs": []
    },
    {
      "cell_type": "code",
      "metadata": {
        "colab": {
          "base_uri": "https://localhost:8080/"
        },
        "id": "7yndTlQ6tNgo",
        "outputId": "6e3b6321-3fae-47d6-af03-8e687f1f3d85"
      },
      "source": [
        "final_list2"
      ],
      "execution_count": null,
      "outputs": [
        {
          "output_type": "execute_result",
          "data": {
            "text/plain": [
              "array([[0.00, 0.00, 0.20, 0.60, 0.01, 0.40, 0.80, 0.00, 0.44],\n",
              "       [0.03, 0.00, 0.40, 0.60, 0.61, 0.47, 0.20, 0.00, 0.22],\n",
              "       [0.00, 0.41, 0.00, 0.60, 0.20, 0.40, 0.04, 0.00, 0.20],\n",
              "       [0.20, 0.40, 0.21, 0.00, 0.60, 0.20, 0.23, 0.00, 0.20],\n",
              "       [0.00, 0.42, 0.40, 0.01, 0.00, 0.60, 0.01, 0.00, 0.40],\n",
              "       [0.21, 0.20, 0.00, 0.01, 0.00, 0.00, 0.52, 0.12, 0.00],\n",
              "       [0.20, 0.64, 0.20, 0.20, 0.40, 0.40, 0.00, 0.40, 0.20],\n",
              "       [0.20, 0.39, 0.20, 0.40, 0.00, 0.40, 0.11, 0.00, 0.40],\n",
              "       [0.60, 0.60, 0.00, 0.41, 0.20, 0.20, 0.80, 0.20, 0.00]],\n",
              "      dtype=float32)"
            ]
          },
          "metadata": {},
          "execution_count": 44
        }
      ]
    },
    {
      "cell_type": "code",
      "metadata": {
        "id": "7MqBvdwVtOWc"
      },
      "source": [
        ""
      ],
      "execution_count": null,
      "outputs": []
    },
    {
      "cell_type": "code",
      "metadata": {
        "id": "ekrD_mS0to62"
      },
      "source": [
        ""
      ],
      "execution_count": null,
      "outputs": []
    },
    {
      "cell_type": "code",
      "metadata": {
        "id": "ZFLwIteGto39"
      },
      "source": [
        ""
      ],
      "execution_count": null,
      "outputs": []
    },
    {
      "cell_type": "markdown",
      "metadata": {
        "id": "ZCjzAkHDtv82"
      },
      "source": [
        "学習率0.5を0.05"
      ]
    },
    {
      "cell_type": "code",
      "metadata": {
        "colab": {
          "base_uri": "https://localhost:8080/"
        },
        "id": "PEEQTLINto1K",
        "outputId": "46d69aaf-e8b1-4a63-917d-1ebdfcf4e44b"
      },
      "source": [
        "# numpyの出力を小数点2桁に\n",
        "np.set_printoptions(precision=2, floatmode='fixed', suppress=True)\n",
        "\n",
        "# 因果探索の結果を格納するリスト\n",
        "m_list = []\n",
        "loss_list = []\n",
        "\n",
        "for i in range(5):\n",
        "    m, loss = run_SAM(in_data=df, lr_gen=0.01*0.05,\n",
        "                      lr_disc=0.01*0.05*2,\n",
        "                      #lambda1=0.01, lambda2=1e-05,\n",
        "                      lambda1=5.0*20, lambda2=0.005*20,\n",
        "                      hlayers=2,\n",
        "                      nh=200, dnh=200,\n",
        "                      train_epochs=10000,\n",
        "                      test_epochs=1000,\n",
        "                      device='cuda:0')\n",
        "\n",
        "    print(loss)\n",
        "    print(m)\n",
        "\n",
        "    m_list.append(m)\n",
        "    loss_list.append(loss)"
      ],
      "execution_count": null,
      "outputs": [
        {
          "output_type": "stream",
          "name": "stderr",
          "text": [
            "100%|██████████| 11000/11000 [07:38<00:00, 23.99it/s, disc=0.0675, gen=6.9, regul_loss=3.16, tot=97.9]\n"
          ]
        },
        {
          "output_type": "stream",
          "name": "stdout",
          "text": [
            "[[7.89]]\n",
            "[[0.00 0.33 0.26 0.26 0.16 0.22 0.25 0.10 0.29]\n",
            " [0.21 0.00 0.51 0.30 0.26 0.36 0.51 0.08 0.32]\n",
            " [0.23 0.33 0.00 0.44 0.39 0.29 0.25 0.15 0.25]\n",
            " [0.26 0.25 0.33 0.00 0.23 0.20 0.20 0.08 0.20]\n",
            " [0.23 0.39 0.44 0.28 0.00 0.45 0.28 0.09 0.30]\n",
            " [0.31 0.09 0.12 0.21 0.13 0.00 0.23 0.07 0.21]\n",
            " [0.26 0.29 0.20 0.25 0.22 0.27 0.00 0.09 0.26]\n",
            " [0.20 0.18 0.15 0.23 0.15 0.29 0.16 0.00 0.30]\n",
            " [0.57 0.28 0.23 0.22 0.13 0.24 0.30 0.08 0.00]]\n"
          ]
        },
        {
          "output_type": "stream",
          "name": "stderr",
          "text": [
            "100%|██████████| 11000/11000 [07:34<00:00, 24.22it/s, disc=0.0864, gen=6.95, regul_loss=2.64, tot=94.7]\n"
          ]
        },
        {
          "output_type": "stream",
          "name": "stdout",
          "text": [
            "[[6.65]]\n",
            "[[0.00 0.31 0.27 0.23 0.17 0.27 0.23 0.09 0.30]\n",
            " [0.23 0.00 0.50 0.34 0.27 0.35 0.59 0.08 0.26]\n",
            " [0.26 0.29 0.00 0.34 0.35 0.27 0.27 0.11 0.22]\n",
            " [0.27 0.27 0.35 0.00 0.23 0.25 0.24 0.07 0.27]\n",
            " [0.22 0.41 0.37 0.26 0.00 0.54 0.27 0.10 0.26]\n",
            " [0.30 0.12 0.17 0.19 0.13 0.00 0.23 0.07 0.14]\n",
            " [0.28 0.23 0.22 0.24 0.21 0.26 0.00 0.08 0.27]\n",
            " [0.18 0.13 0.17 0.33 0.16 0.25 0.23 0.00 0.43]\n",
            " [0.52 0.27 0.24 0.19 0.16 0.33 0.27 0.07 0.00]]\n"
          ]
        },
        {
          "output_type": "stream",
          "name": "stderr",
          "text": [
            "100%|██████████| 11000/11000 [07:38<00:00, 24.01it/s, disc=0.132, gen=5.61, regul_loss=3.51, tot=79.7]\n"
          ]
        },
        {
          "output_type": "stream",
          "name": "stdout",
          "text": [
            "[[6.15]]\n",
            "[[0.00 0.30 0.20 0.23 0.16 0.29 0.19 0.08 0.28]\n",
            " [0.17 0.00 0.51 0.30 0.31 0.34 0.70 0.08 0.25]\n",
            " [0.22 0.33 0.00 0.39 0.46 0.36 0.27 0.09 0.19]\n",
            " [0.24 0.25 0.30 0.00 0.23 0.26 0.23 0.07 0.24]\n",
            " [0.21 0.31 0.34 0.24 0.00 0.44 0.21 0.08 0.22]\n",
            " [0.23 0.10 0.13 0.21 0.14 0.00 0.23 0.08 0.17]\n",
            " [0.25 0.16 0.16 0.20 0.21 0.24 0.00 0.07 0.25]\n",
            " [0.21 0.11 0.22 0.24 0.13 0.22 0.19 0.00 0.39]\n",
            " [0.58 0.25 0.17 0.19 0.12 0.31 0.23 0.07 0.00]]\n"
          ]
        },
        {
          "output_type": "stream",
          "name": "stderr",
          "text": [
            "100%|██████████| 11000/11000 [07:41<00:00, 23.82it/s, disc=0.0903, gen=6.49, regul_loss=3.86, tot=95.9]\n"
          ]
        },
        {
          "output_type": "stream",
          "name": "stdout",
          "text": [
            "[[7.07]]\n",
            "[[0.00 0.32 0.24 0.24 0.22 0.28 0.26 0.12 0.40]\n",
            " [0.22 0.00 0.49 0.32 0.26 0.35 0.56 0.09 0.31]\n",
            " [0.26 0.36 0.00 0.41 0.38 0.30 0.28 0.15 0.24]\n",
            " [0.25 0.26 0.30 0.00 0.25 0.26 0.23 0.12 0.25]\n",
            " [0.25 0.39 0.42 0.29 0.00 0.49 0.27 0.11 0.29]\n",
            " [0.29 0.11 0.18 0.21 0.16 0.00 0.27 0.09 0.18]\n",
            " [0.26 0.22 0.22 0.26 0.23 0.26 0.00 0.08 0.26]\n",
            " [0.22 0.14 0.15 0.25 0.16 0.26 0.22 0.00 0.27]\n",
            " [0.42 0.23 0.21 0.22 0.13 0.28 0.31 0.12 0.00]]\n"
          ]
        },
        {
          "output_type": "stream",
          "name": "stderr",
          "text": [
            "100%|██████████| 11000/11000 [07:40<00:00, 23.89it/s, disc=0.0577, gen=7.39, regul_loss=3.5, tot=102]"
          ]
        },
        {
          "output_type": "stream",
          "name": "stdout",
          "text": [
            "[[7.40]]\n",
            "[[0.00 0.29 0.24 0.23 0.18 0.23 0.17 0.13 0.43]\n",
            " [0.20 0.00 0.56 0.31 0.32 0.34 0.79 0.09 0.38]\n",
            " [0.24 0.37 0.00 0.54 0.45 0.27 0.22 0.13 0.30]\n",
            " [0.22 0.23 0.26 0.00 0.24 0.23 0.24 0.11 0.25]\n",
            " [0.19 0.32 0.34 0.27 0.00 0.47 0.19 0.11 0.28]\n",
            " [0.31 0.08 0.17 0.20 0.10 0.00 0.09 0.08 0.19]\n",
            " [0.24 0.15 0.20 0.22 0.20 0.33 0.00 0.08 0.28]\n",
            " [0.12 0.14 0.14 0.24 0.14 0.18 0.14 0.00 0.29]\n",
            " [0.42 0.22 0.18 0.24 0.13 0.28 0.22 0.10 0.00]]\n"
          ]
        },
        {
          "output_type": "stream",
          "name": "stderr",
          "text": [
            "\n"
          ]
        }
      ]
    }
  ]
}