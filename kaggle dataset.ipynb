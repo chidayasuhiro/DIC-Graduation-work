{
  "nbformat": 4,
  "nbformat_minor": 0,
  "metadata": {
    "colab": {
      "name": "sotsugyo_seisaku4.ipynb",
      "provenance": [],
      "collapsed_sections": []
    },
    "kernelspec": {
      "name": "python3",
      "display_name": "Python 3"
    },
    "language_info": {
      "name": "python"
    },
    "accelerator": "GPU"
  },
  "cells": [
    {
      "cell_type": "code",
      "metadata": {
        "id": "_6FoaqAAc8Y9"
      },
      "source": [
        "import pandas as pd\n",
        "from sklearn.preprocessing import LabelEncoder, StandardScaler\n",
        "from sklearn.model_selection import train_test_split, GridSearchCV\n",
        "from sklearn.ensemble import RandomForestClassifier\n",
        "from sklearn.metrics import confusion_matrix,accuracy_score"
      ],
      "execution_count": null,
      "outputs": []
    },
    {
      "cell_type": "code",
      "metadata": {
        "id": "FuwSMw1QyZ-0"
      },
      "source": [
        "df = pd.read_csv('/content/drive/MyDrive/heart.csv')"
      ],
      "execution_count": null,
      "outputs": []
    },
    {
      "cell_type": "code",
      "metadata": {
        "colab": {
          "base_uri": "https://localhost:8080/",
          "height": 226
        },
        "id": "Yp-v1ZWlywVs",
        "outputId": "79553867-5b87-4845-acc9-50710f8942e8"
      },
      "source": [
        "df.head()"
      ],
      "execution_count": null,
      "outputs": [
        {
          "output_type": "execute_result",
          "data": {
            "text/html": [
              "<div>\n",
              "<style scoped>\n",
              "    .dataframe tbody tr th:only-of-type {\n",
              "        vertical-align: middle;\n",
              "    }\n",
              "\n",
              "    .dataframe tbody tr th {\n",
              "        vertical-align: top;\n",
              "    }\n",
              "\n",
              "    .dataframe thead th {\n",
              "        text-align: right;\n",
              "    }\n",
              "</style>\n",
              "<table border=\"1\" class=\"dataframe\">\n",
              "  <thead>\n",
              "    <tr style=\"text-align: right;\">\n",
              "      <th></th>\n",
              "      <th>Age</th>\n",
              "      <th>Sex</th>\n",
              "      <th>ChestPainType</th>\n",
              "      <th>RestingBP</th>\n",
              "      <th>Cholesterol</th>\n",
              "      <th>FastingBS</th>\n",
              "      <th>RestingECG</th>\n",
              "      <th>MaxHR</th>\n",
              "      <th>ExerciseAngina</th>\n",
              "      <th>Oldpeak</th>\n",
              "      <th>ST_Slope</th>\n",
              "      <th>HeartDisease</th>\n",
              "    </tr>\n",
              "  </thead>\n",
              "  <tbody>\n",
              "    <tr>\n",
              "      <th>0</th>\n",
              "      <td>40</td>\n",
              "      <td>M</td>\n",
              "      <td>ATA</td>\n",
              "      <td>140</td>\n",
              "      <td>289</td>\n",
              "      <td>0</td>\n",
              "      <td>Normal</td>\n",
              "      <td>172</td>\n",
              "      <td>N</td>\n",
              "      <td>0.0</td>\n",
              "      <td>Up</td>\n",
              "      <td>0</td>\n",
              "    </tr>\n",
              "    <tr>\n",
              "      <th>1</th>\n",
              "      <td>49</td>\n",
              "      <td>F</td>\n",
              "      <td>NAP</td>\n",
              "      <td>160</td>\n",
              "      <td>180</td>\n",
              "      <td>0</td>\n",
              "      <td>Normal</td>\n",
              "      <td>156</td>\n",
              "      <td>N</td>\n",
              "      <td>1.0</td>\n",
              "      <td>Flat</td>\n",
              "      <td>1</td>\n",
              "    </tr>\n",
              "    <tr>\n",
              "      <th>2</th>\n",
              "      <td>37</td>\n",
              "      <td>M</td>\n",
              "      <td>ATA</td>\n",
              "      <td>130</td>\n",
              "      <td>283</td>\n",
              "      <td>0</td>\n",
              "      <td>ST</td>\n",
              "      <td>98</td>\n",
              "      <td>N</td>\n",
              "      <td>0.0</td>\n",
              "      <td>Up</td>\n",
              "      <td>0</td>\n",
              "    </tr>\n",
              "    <tr>\n",
              "      <th>3</th>\n",
              "      <td>48</td>\n",
              "      <td>F</td>\n",
              "      <td>ASY</td>\n",
              "      <td>138</td>\n",
              "      <td>214</td>\n",
              "      <td>0</td>\n",
              "      <td>Normal</td>\n",
              "      <td>108</td>\n",
              "      <td>Y</td>\n",
              "      <td>1.5</td>\n",
              "      <td>Flat</td>\n",
              "      <td>1</td>\n",
              "    </tr>\n",
              "    <tr>\n",
              "      <th>4</th>\n",
              "      <td>54</td>\n",
              "      <td>M</td>\n",
              "      <td>NAP</td>\n",
              "      <td>150</td>\n",
              "      <td>195</td>\n",
              "      <td>0</td>\n",
              "      <td>Normal</td>\n",
              "      <td>122</td>\n",
              "      <td>N</td>\n",
              "      <td>0.0</td>\n",
              "      <td>Up</td>\n",
              "      <td>0</td>\n",
              "    </tr>\n",
              "  </tbody>\n",
              "</table>\n",
              "</div>"
            ],
            "text/plain": [
              "   Age Sex ChestPainType  ...  Oldpeak  ST_Slope  HeartDisease\n",
              "0   40   M           ATA  ...      0.0        Up             0\n",
              "1   49   F           NAP  ...      1.0      Flat             1\n",
              "2   37   M           ATA  ...      0.0        Up             0\n",
              "3   48   F           ASY  ...      1.5      Flat             1\n",
              "4   54   M           NAP  ...      0.0        Up             0\n",
              "\n",
              "[5 rows x 12 columns]"
            ]
          },
          "metadata": {},
          "execution_count": 5
        }
      ]
    },
    {
      "cell_type": "code",
      "metadata": {
        "colab": {
          "base_uri": "https://localhost:8080/"
        },
        "id": "dwTPx8FtzCDp",
        "outputId": "992b0e42-2161-433b-f79d-eea73c35a5f8"
      },
      "source": [
        "df.info()"
      ],
      "execution_count": null,
      "outputs": [
        {
          "output_type": "stream",
          "name": "stdout",
          "text": [
            "<class 'pandas.core.frame.DataFrame'>\n",
            "RangeIndex: 918 entries, 0 to 917\n",
            "Data columns (total 12 columns):\n",
            " #   Column          Non-Null Count  Dtype  \n",
            "---  ------          --------------  -----  \n",
            " 0   Age             918 non-null    int64  \n",
            " 1   Sex             918 non-null    object \n",
            " 2   ChestPainType   918 non-null    object \n",
            " 3   RestingBP       918 non-null    int64  \n",
            " 4   Cholesterol     918 non-null    int64  \n",
            " 5   FastingBS       918 non-null    int64  \n",
            " 6   RestingECG      918 non-null    object \n",
            " 7   MaxHR           918 non-null    int64  \n",
            " 8   ExerciseAngina  918 non-null    object \n",
            " 9   Oldpeak         918 non-null    float64\n",
            " 10  ST_Slope        918 non-null    object \n",
            " 11  HeartDisease    918 non-null    int64  \n",
            "dtypes: float64(1), int64(6), object(5)\n",
            "memory usage: 86.2+ KB\n"
          ]
        }
      ]
    },
    {
      "cell_type": "code",
      "metadata": {
        "colab": {
          "base_uri": "https://localhost:8080/"
        },
        "id": "bg4Y11DlyyO7",
        "outputId": "b05c7979-af9b-4542-e1ba-16cfbe7d6d9f"
      },
      "source": [
        "df.isnull().sum()"
      ],
      "execution_count": null,
      "outputs": [
        {
          "output_type": "execute_result",
          "data": {
            "text/plain": [
              "Age               0\n",
              "Sex               0\n",
              "ChestPainType     0\n",
              "RestingBP         0\n",
              "Cholesterol       0\n",
              "FastingBS         0\n",
              "RestingECG        0\n",
              "MaxHR             0\n",
              "ExerciseAngina    0\n",
              "Oldpeak           0\n",
              "ST_Slope          0\n",
              "HeartDisease      0\n",
              "dtype: int64"
            ]
          },
          "metadata": {},
          "execution_count": 7
        }
      ]
    },
    {
      "cell_type": "code",
      "metadata": {
        "id": "JKKw1k3Ey8VZ"
      },
      "source": [
        "df = pd.get_dummies(df, columns=['RestingECG','ChestPainType','ST_Slope'])"
      ],
      "execution_count": null,
      "outputs": []
    },
    {
      "cell_type": "code",
      "metadata": {
        "colab": {
          "base_uri": "https://localhost:8080/",
          "height": 226
        },
        "id": "gVmggtF019yS",
        "outputId": "9cbb69fd-361f-4361-827c-d19799c779e1"
      },
      "source": [
        "df.head()"
      ],
      "execution_count": null,
      "outputs": [
        {
          "output_type": "execute_result",
          "data": {
            "text/html": [
              "<div>\n",
              "<style scoped>\n",
              "    .dataframe tbody tr th:only-of-type {\n",
              "        vertical-align: middle;\n",
              "    }\n",
              "\n",
              "    .dataframe tbody tr th {\n",
              "        vertical-align: top;\n",
              "    }\n",
              "\n",
              "    .dataframe thead th {\n",
              "        text-align: right;\n",
              "    }\n",
              "</style>\n",
              "<table border=\"1\" class=\"dataframe\">\n",
              "  <thead>\n",
              "    <tr style=\"text-align: right;\">\n",
              "      <th></th>\n",
              "      <th>Age</th>\n",
              "      <th>Sex</th>\n",
              "      <th>RestingBP</th>\n",
              "      <th>Cholesterol</th>\n",
              "      <th>FastingBS</th>\n",
              "      <th>MaxHR</th>\n",
              "      <th>ExerciseAngina</th>\n",
              "      <th>Oldpeak</th>\n",
              "      <th>HeartDisease</th>\n",
              "      <th>RestingECG_LVH</th>\n",
              "      <th>RestingECG_Normal</th>\n",
              "      <th>RestingECG_ST</th>\n",
              "      <th>ChestPainType_ASY</th>\n",
              "      <th>ChestPainType_ATA</th>\n",
              "      <th>ChestPainType_NAP</th>\n",
              "      <th>ChestPainType_TA</th>\n",
              "      <th>ST_Slope_Down</th>\n",
              "      <th>ST_Slope_Flat</th>\n",
              "      <th>ST_Slope_Up</th>\n",
              "    </tr>\n",
              "  </thead>\n",
              "  <tbody>\n",
              "    <tr>\n",
              "      <th>0</th>\n",
              "      <td>40</td>\n",
              "      <td>M</td>\n",
              "      <td>140</td>\n",
              "      <td>289</td>\n",
              "      <td>0</td>\n",
              "      <td>172</td>\n",
              "      <td>N</td>\n",
              "      <td>0.0</td>\n",
              "      <td>0</td>\n",
              "      <td>0</td>\n",
              "      <td>1</td>\n",
              "      <td>0</td>\n",
              "      <td>0</td>\n",
              "      <td>1</td>\n",
              "      <td>0</td>\n",
              "      <td>0</td>\n",
              "      <td>0</td>\n",
              "      <td>0</td>\n",
              "      <td>1</td>\n",
              "    </tr>\n",
              "    <tr>\n",
              "      <th>1</th>\n",
              "      <td>49</td>\n",
              "      <td>F</td>\n",
              "      <td>160</td>\n",
              "      <td>180</td>\n",
              "      <td>0</td>\n",
              "      <td>156</td>\n",
              "      <td>N</td>\n",
              "      <td>1.0</td>\n",
              "      <td>1</td>\n",
              "      <td>0</td>\n",
              "      <td>1</td>\n",
              "      <td>0</td>\n",
              "      <td>0</td>\n",
              "      <td>0</td>\n",
              "      <td>1</td>\n",
              "      <td>0</td>\n",
              "      <td>0</td>\n",
              "      <td>1</td>\n",
              "      <td>0</td>\n",
              "    </tr>\n",
              "    <tr>\n",
              "      <th>2</th>\n",
              "      <td>37</td>\n",
              "      <td>M</td>\n",
              "      <td>130</td>\n",
              "      <td>283</td>\n",
              "      <td>0</td>\n",
              "      <td>98</td>\n",
              "      <td>N</td>\n",
              "      <td>0.0</td>\n",
              "      <td>0</td>\n",
              "      <td>0</td>\n",
              "      <td>0</td>\n",
              "      <td>1</td>\n",
              "      <td>0</td>\n",
              "      <td>1</td>\n",
              "      <td>0</td>\n",
              "      <td>0</td>\n",
              "      <td>0</td>\n",
              "      <td>0</td>\n",
              "      <td>1</td>\n",
              "    </tr>\n",
              "    <tr>\n",
              "      <th>3</th>\n",
              "      <td>48</td>\n",
              "      <td>F</td>\n",
              "      <td>138</td>\n",
              "      <td>214</td>\n",
              "      <td>0</td>\n",
              "      <td>108</td>\n",
              "      <td>Y</td>\n",
              "      <td>1.5</td>\n",
              "      <td>1</td>\n",
              "      <td>0</td>\n",
              "      <td>1</td>\n",
              "      <td>0</td>\n",
              "      <td>1</td>\n",
              "      <td>0</td>\n",
              "      <td>0</td>\n",
              "      <td>0</td>\n",
              "      <td>0</td>\n",
              "      <td>1</td>\n",
              "      <td>0</td>\n",
              "    </tr>\n",
              "    <tr>\n",
              "      <th>4</th>\n",
              "      <td>54</td>\n",
              "      <td>M</td>\n",
              "      <td>150</td>\n",
              "      <td>195</td>\n",
              "      <td>0</td>\n",
              "      <td>122</td>\n",
              "      <td>N</td>\n",
              "      <td>0.0</td>\n",
              "      <td>0</td>\n",
              "      <td>0</td>\n",
              "      <td>1</td>\n",
              "      <td>0</td>\n",
              "      <td>0</td>\n",
              "      <td>0</td>\n",
              "      <td>1</td>\n",
              "      <td>0</td>\n",
              "      <td>0</td>\n",
              "      <td>0</td>\n",
              "      <td>1</td>\n",
              "    </tr>\n",
              "  </tbody>\n",
              "</table>\n",
              "</div>"
            ],
            "text/plain": [
              "   Age Sex  RestingBP  ...  ST_Slope_Down  ST_Slope_Flat  ST_Slope_Up\n",
              "0   40   M        140  ...              0              0            1\n",
              "1   49   F        160  ...              0              1            0\n",
              "2   37   M        130  ...              0              0            1\n",
              "3   48   F        138  ...              0              1            0\n",
              "4   54   M        150  ...              0              0            1\n",
              "\n",
              "[5 rows x 19 columns]"
            ]
          },
          "metadata": {},
          "execution_count": 4
        }
      ]
    },
    {
      "cell_type": "code",
      "metadata": {
        "id": "CyHVDWXx0ls1"
      },
      "source": [
        "for binfeat in ['Sex','ExerciseAngina']:        \n",
        "    df[binfeat] = LabelEncoder().fit_transform(df[binfeat])"
      ],
      "execution_count": null,
      "outputs": []
    },
    {
      "cell_type": "code",
      "metadata": {
        "colab": {
          "base_uri": "https://localhost:8080/",
          "height": 444
        },
        "id": "fg2JJHbwLV9P",
        "outputId": "29514895-689f-4986-e38f-2a3a8104b1bb"
      },
      "source": [
        "df"
      ],
      "execution_count": null,
      "outputs": [
        {
          "output_type": "execute_result",
          "data": {
            "text/html": [
              "<div>\n",
              "<style scoped>\n",
              "    .dataframe tbody tr th:only-of-type {\n",
              "        vertical-align: middle;\n",
              "    }\n",
              "\n",
              "    .dataframe tbody tr th {\n",
              "        vertical-align: top;\n",
              "    }\n",
              "\n",
              "    .dataframe thead th {\n",
              "        text-align: right;\n",
              "    }\n",
              "</style>\n",
              "<table border=\"1\" class=\"dataframe\">\n",
              "  <thead>\n",
              "    <tr style=\"text-align: right;\">\n",
              "      <th></th>\n",
              "      <th>Age</th>\n",
              "      <th>Sex</th>\n",
              "      <th>RestingBP</th>\n",
              "      <th>Cholesterol</th>\n",
              "      <th>FastingBS</th>\n",
              "      <th>MaxHR</th>\n",
              "      <th>ExerciseAngina</th>\n",
              "      <th>Oldpeak</th>\n",
              "      <th>HeartDisease</th>\n",
              "      <th>RestingECG_LVH</th>\n",
              "      <th>RestingECG_Normal</th>\n",
              "      <th>RestingECG_ST</th>\n",
              "      <th>ChestPainType_ASY</th>\n",
              "      <th>ChestPainType_ATA</th>\n",
              "      <th>ChestPainType_NAP</th>\n",
              "      <th>ChestPainType_TA</th>\n",
              "      <th>ST_Slope_Down</th>\n",
              "      <th>ST_Slope_Flat</th>\n",
              "      <th>ST_Slope_Up</th>\n",
              "    </tr>\n",
              "  </thead>\n",
              "  <tbody>\n",
              "    <tr>\n",
              "      <th>0</th>\n",
              "      <td>40</td>\n",
              "      <td>1</td>\n",
              "      <td>140</td>\n",
              "      <td>289</td>\n",
              "      <td>0</td>\n",
              "      <td>172</td>\n",
              "      <td>0</td>\n",
              "      <td>0.0</td>\n",
              "      <td>0</td>\n",
              "      <td>0</td>\n",
              "      <td>1</td>\n",
              "      <td>0</td>\n",
              "      <td>0</td>\n",
              "      <td>1</td>\n",
              "      <td>0</td>\n",
              "      <td>0</td>\n",
              "      <td>0</td>\n",
              "      <td>0</td>\n",
              "      <td>1</td>\n",
              "    </tr>\n",
              "    <tr>\n",
              "      <th>1</th>\n",
              "      <td>49</td>\n",
              "      <td>0</td>\n",
              "      <td>160</td>\n",
              "      <td>180</td>\n",
              "      <td>0</td>\n",
              "      <td>156</td>\n",
              "      <td>0</td>\n",
              "      <td>1.0</td>\n",
              "      <td>1</td>\n",
              "      <td>0</td>\n",
              "      <td>1</td>\n",
              "      <td>0</td>\n",
              "      <td>0</td>\n",
              "      <td>0</td>\n",
              "      <td>1</td>\n",
              "      <td>0</td>\n",
              "      <td>0</td>\n",
              "      <td>1</td>\n",
              "      <td>0</td>\n",
              "    </tr>\n",
              "    <tr>\n",
              "      <th>2</th>\n",
              "      <td>37</td>\n",
              "      <td>1</td>\n",
              "      <td>130</td>\n",
              "      <td>283</td>\n",
              "      <td>0</td>\n",
              "      <td>98</td>\n",
              "      <td>0</td>\n",
              "      <td>0.0</td>\n",
              "      <td>0</td>\n",
              "      <td>0</td>\n",
              "      <td>0</td>\n",
              "      <td>1</td>\n",
              "      <td>0</td>\n",
              "      <td>1</td>\n",
              "      <td>0</td>\n",
              "      <td>0</td>\n",
              "      <td>0</td>\n",
              "      <td>0</td>\n",
              "      <td>1</td>\n",
              "    </tr>\n",
              "    <tr>\n",
              "      <th>3</th>\n",
              "      <td>48</td>\n",
              "      <td>0</td>\n",
              "      <td>138</td>\n",
              "      <td>214</td>\n",
              "      <td>0</td>\n",
              "      <td>108</td>\n",
              "      <td>1</td>\n",
              "      <td>1.5</td>\n",
              "      <td>1</td>\n",
              "      <td>0</td>\n",
              "      <td>1</td>\n",
              "      <td>0</td>\n",
              "      <td>1</td>\n",
              "      <td>0</td>\n",
              "      <td>0</td>\n",
              "      <td>0</td>\n",
              "      <td>0</td>\n",
              "      <td>1</td>\n",
              "      <td>0</td>\n",
              "    </tr>\n",
              "    <tr>\n",
              "      <th>4</th>\n",
              "      <td>54</td>\n",
              "      <td>1</td>\n",
              "      <td>150</td>\n",
              "      <td>195</td>\n",
              "      <td>0</td>\n",
              "      <td>122</td>\n",
              "      <td>0</td>\n",
              "      <td>0.0</td>\n",
              "      <td>0</td>\n",
              "      <td>0</td>\n",
              "      <td>1</td>\n",
              "      <td>0</td>\n",
              "      <td>0</td>\n",
              "      <td>0</td>\n",
              "      <td>1</td>\n",
              "      <td>0</td>\n",
              "      <td>0</td>\n",
              "      <td>0</td>\n",
              "      <td>1</td>\n",
              "    </tr>\n",
              "    <tr>\n",
              "      <th>...</th>\n",
              "      <td>...</td>\n",
              "      <td>...</td>\n",
              "      <td>...</td>\n",
              "      <td>...</td>\n",
              "      <td>...</td>\n",
              "      <td>...</td>\n",
              "      <td>...</td>\n",
              "      <td>...</td>\n",
              "      <td>...</td>\n",
              "      <td>...</td>\n",
              "      <td>...</td>\n",
              "      <td>...</td>\n",
              "      <td>...</td>\n",
              "      <td>...</td>\n",
              "      <td>...</td>\n",
              "      <td>...</td>\n",
              "      <td>...</td>\n",
              "      <td>...</td>\n",
              "      <td>...</td>\n",
              "    </tr>\n",
              "    <tr>\n",
              "      <th>913</th>\n",
              "      <td>45</td>\n",
              "      <td>1</td>\n",
              "      <td>110</td>\n",
              "      <td>264</td>\n",
              "      <td>0</td>\n",
              "      <td>132</td>\n",
              "      <td>0</td>\n",
              "      <td>1.2</td>\n",
              "      <td>1</td>\n",
              "      <td>0</td>\n",
              "      <td>1</td>\n",
              "      <td>0</td>\n",
              "      <td>0</td>\n",
              "      <td>0</td>\n",
              "      <td>0</td>\n",
              "      <td>1</td>\n",
              "      <td>0</td>\n",
              "      <td>1</td>\n",
              "      <td>0</td>\n",
              "    </tr>\n",
              "    <tr>\n",
              "      <th>914</th>\n",
              "      <td>68</td>\n",
              "      <td>1</td>\n",
              "      <td>144</td>\n",
              "      <td>193</td>\n",
              "      <td>1</td>\n",
              "      <td>141</td>\n",
              "      <td>0</td>\n",
              "      <td>3.4</td>\n",
              "      <td>1</td>\n",
              "      <td>0</td>\n",
              "      <td>1</td>\n",
              "      <td>0</td>\n",
              "      <td>1</td>\n",
              "      <td>0</td>\n",
              "      <td>0</td>\n",
              "      <td>0</td>\n",
              "      <td>0</td>\n",
              "      <td>1</td>\n",
              "      <td>0</td>\n",
              "    </tr>\n",
              "    <tr>\n",
              "      <th>915</th>\n",
              "      <td>57</td>\n",
              "      <td>1</td>\n",
              "      <td>130</td>\n",
              "      <td>131</td>\n",
              "      <td>0</td>\n",
              "      <td>115</td>\n",
              "      <td>1</td>\n",
              "      <td>1.2</td>\n",
              "      <td>1</td>\n",
              "      <td>0</td>\n",
              "      <td>1</td>\n",
              "      <td>0</td>\n",
              "      <td>1</td>\n",
              "      <td>0</td>\n",
              "      <td>0</td>\n",
              "      <td>0</td>\n",
              "      <td>0</td>\n",
              "      <td>1</td>\n",
              "      <td>0</td>\n",
              "    </tr>\n",
              "    <tr>\n",
              "      <th>916</th>\n",
              "      <td>57</td>\n",
              "      <td>0</td>\n",
              "      <td>130</td>\n",
              "      <td>236</td>\n",
              "      <td>0</td>\n",
              "      <td>174</td>\n",
              "      <td>0</td>\n",
              "      <td>0.0</td>\n",
              "      <td>1</td>\n",
              "      <td>1</td>\n",
              "      <td>0</td>\n",
              "      <td>0</td>\n",
              "      <td>0</td>\n",
              "      <td>1</td>\n",
              "      <td>0</td>\n",
              "      <td>0</td>\n",
              "      <td>0</td>\n",
              "      <td>1</td>\n",
              "      <td>0</td>\n",
              "    </tr>\n",
              "    <tr>\n",
              "      <th>917</th>\n",
              "      <td>38</td>\n",
              "      <td>1</td>\n",
              "      <td>138</td>\n",
              "      <td>175</td>\n",
              "      <td>0</td>\n",
              "      <td>173</td>\n",
              "      <td>0</td>\n",
              "      <td>0.0</td>\n",
              "      <td>0</td>\n",
              "      <td>0</td>\n",
              "      <td>1</td>\n",
              "      <td>0</td>\n",
              "      <td>0</td>\n",
              "      <td>0</td>\n",
              "      <td>1</td>\n",
              "      <td>0</td>\n",
              "      <td>0</td>\n",
              "      <td>0</td>\n",
              "      <td>1</td>\n",
              "    </tr>\n",
              "  </tbody>\n",
              "</table>\n",
              "<p>918 rows × 19 columns</p>\n",
              "</div>"
            ],
            "text/plain": [
              "     Age  Sex  RestingBP  ...  ST_Slope_Down  ST_Slope_Flat  ST_Slope_Up\n",
              "0     40    1        140  ...              0              0            1\n",
              "1     49    0        160  ...              0              1            0\n",
              "2     37    1        130  ...              0              0            1\n",
              "3     48    0        138  ...              0              1            0\n",
              "4     54    1        150  ...              0              0            1\n",
              "..   ...  ...        ...  ...            ...            ...          ...\n",
              "913   45    1        110  ...              0              1            0\n",
              "914   68    1        144  ...              0              1            0\n",
              "915   57    1        130  ...              0              1            0\n",
              "916   57    0        130  ...              0              1            0\n",
              "917   38    1        138  ...              0              0            1\n",
              "\n",
              "[918 rows x 19 columns]"
            ]
          },
          "metadata": {},
          "execution_count": 6
        }
      ]
    },
    {
      "cell_type": "code",
      "metadata": {
        "id": "eccpA1o6J7BS"
      },
      "source": [
        "X = df.drop(columns='HeartDisease')\n",
        "Y = df['HeartDisease']"
      ],
      "execution_count": null,
      "outputs": []
    },
    {
      "cell_type": "code",
      "metadata": {
        "id": "PjOqULT0NdqZ"
      },
      "source": [
        "X_train, X_test, y_train, y_test = train_test_split(X, Y, test_size = 0.2, random_state=48, stratify=Y)"
      ],
      "execution_count": null,
      "outputs": []
    },
    {
      "cell_type": "markdown",
      "metadata": {
        "id": "C5Yzga4uIUqQ"
      },
      "source": [
        "全てのデータ（説明変数１８個）での検証"
      ]
    },
    {
      "cell_type": "code",
      "metadata": {
        "colab": {
          "base_uri": "https://localhost:8080/"
        },
        "id": "W0hIgrxNNd9M",
        "outputId": "40942b4c-cc53-4ded-8e2d-749b9b4ec280"
      },
      "source": [
        "rf = RandomForestClassifier()\n",
        "param_grid = {\n",
        "                 'n_estimators': [10, 50, 100, 500, 1000],\n",
        "                 'max_depth': [2, 5, 7, 9, 10]\n",
        "             }\n",
        "grid_rf = GridSearchCV(rf, param_grid, cv=10)\n",
        "grid_rf.fit(X_train, y_train)"
      ],
      "execution_count": null,
      "outputs": [
        {
          "output_type": "execute_result",
          "data": {
            "text/plain": [
              "GridSearchCV(cv=10, error_score=nan,\n",
              "             estimator=RandomForestClassifier(bootstrap=True, ccp_alpha=0.0,\n",
              "                                              class_weight=None,\n",
              "                                              criterion='gini', max_depth=None,\n",
              "                                              max_features='auto',\n",
              "                                              max_leaf_nodes=None,\n",
              "                                              max_samples=None,\n",
              "                                              min_impurity_decrease=0.0,\n",
              "                                              min_impurity_split=None,\n",
              "                                              min_samples_leaf=1,\n",
              "                                              min_samples_split=2,\n",
              "                                              min_weight_fraction_leaf=0.0,\n",
              "                                              n_estimators=100, n_jobs=None,\n",
              "                                              oob_score=False,\n",
              "                                              random_state=None, verbose=0,\n",
              "                                              warm_start=False),\n",
              "             iid='deprecated', n_jobs=None,\n",
              "             param_grid={'max_depth': [2, 5, 7, 9, 10],\n",
              "                         'n_estimators': [10, 50, 100, 500, 1000]},\n",
              "             pre_dispatch='2*n_jobs', refit=True, return_train_score=False,\n",
              "             scoring=None, verbose=0)"
            ]
          },
          "metadata": {},
          "execution_count": 41
        }
      ]
    },
    {
      "cell_type": "code",
      "metadata": {
        "colab": {
          "base_uri": "https://localhost:8080/"
        },
        "id": "XOF_N9lIQLcr",
        "outputId": "81c8d3ff-f1da-490b-9e41-185c635cfbbe"
      },
      "source": [
        "grid_rf.best_estimator_"
      ],
      "execution_count": null,
      "outputs": [
        {
          "output_type": "execute_result",
          "data": {
            "text/plain": [
              "RandomForestClassifier(bootstrap=True, ccp_alpha=0.0, class_weight=None,\n",
              "                       criterion='gini', max_depth=10, max_features='auto',\n",
              "                       max_leaf_nodes=None, max_samples=None,\n",
              "                       min_impurity_decrease=0.0, min_impurity_split=None,\n",
              "                       min_samples_leaf=1, min_samples_split=2,\n",
              "                       min_weight_fraction_leaf=0.0, n_estimators=100,\n",
              "                       n_jobs=None, oob_score=False, random_state=None,\n",
              "                       verbose=0, warm_start=False)"
            ]
          },
          "metadata": {},
          "execution_count": 42
        }
      ]
    },
    {
      "cell_type": "code",
      "metadata": {
        "id": "i8QJXw3nQc3S"
      },
      "source": [
        "y_pred = grid_rf.predict(X_test)"
      ],
      "execution_count": null,
      "outputs": []
    },
    {
      "cell_type": "code",
      "metadata": {
        "colab": {
          "base_uri": "https://localhost:8080/"
        },
        "id": "WiI72IFWQMVJ",
        "outputId": "df137100-0557-44fc-87c8-5e0cd9ebb6ff"
      },
      "source": [
        "confusion_matrix(y_test, y_pred)"
      ],
      "execution_count": null,
      "outputs": [
        {
          "output_type": "execute_result",
          "data": {
            "text/plain": [
              "array([[71, 11],\n",
              "       [ 8, 94]])"
            ]
          },
          "metadata": {},
          "execution_count": 45
        }
      ]
    },
    {
      "cell_type": "code",
      "metadata": {
        "colab": {
          "base_uri": "https://localhost:8080/"
        },
        "id": "7mEmVXnlQgQb",
        "outputId": "070296e2-e5c1-4284-996b-74a5fc858e83"
      },
      "source": [
        "accuracy_score(y_test, y_pred)"
      ],
      "execution_count": null,
      "outputs": [
        {
          "output_type": "execute_result",
          "data": {
            "text/plain": [
              "0.8967391304347826"
            ]
          },
          "metadata": {},
          "execution_count": 46
        }
      ]
    },
    {
      "cell_type": "code",
      "metadata": {
        "id": "qDJunfHBYuN4"
      },
      "source": [
        ""
      ],
      "execution_count": null,
      "outputs": []
    },
    {
      "cell_type": "code",
      "metadata": {
        "id": "IrY3ro3LYuLZ"
      },
      "source": [
        ""
      ],
      "execution_count": null,
      "outputs": []
    },
    {
      "cell_type": "markdown",
      "metadata": {
        "id": "mBVRXQIRIjmm"
      },
      "source": [
        "全てのデータ（説明変数１８個）での検証  \n",
        "決定木"
      ]
    },
    {
      "cell_type": "code",
      "metadata": {
        "id": "u6EK9VFJQgbJ"
      },
      "source": [
        "from sklearn.tree import DecisionTreeClassifier"
      ],
      "execution_count": null,
      "outputs": []
    },
    {
      "cell_type": "code",
      "metadata": {
        "colab": {
          "base_uri": "https://localhost:8080/"
        },
        "id": "stJonBv4Ym0H",
        "outputId": "1b4d50a3-1b42-471d-d6f5-e44174a2c4bd"
      },
      "source": [
        "clf2=DecisionTreeClassifier()\n",
        "clf2.fit(X_train,y_train)"
      ],
      "execution_count": null,
      "outputs": [
        {
          "output_type": "execute_result",
          "data": {
            "text/plain": [
              "DecisionTreeClassifier(ccp_alpha=0.0, class_weight=None, criterion='gini',\n",
              "                       max_depth=None, max_features=None, max_leaf_nodes=None,\n",
              "                       min_impurity_decrease=0.0, min_impurity_split=None,\n",
              "                       min_samples_leaf=1, min_samples_split=2,\n",
              "                       min_weight_fraction_leaf=0.0, presort='deprecated',\n",
              "                       random_state=None, splitter='best')"
            ]
          },
          "metadata": {},
          "execution_count": 96
        }
      ]
    },
    {
      "cell_type": "code",
      "metadata": {
        "id": "vOLvlcD3Y6-t"
      },
      "source": [
        "y_pred = clf2.predict(X_test)"
      ],
      "execution_count": null,
      "outputs": []
    },
    {
      "cell_type": "code",
      "metadata": {
        "colab": {
          "base_uri": "https://localhost:8080/"
        },
        "id": "icpVi93yZRhm",
        "outputId": "38ca9ec1-9a3d-4b3f-da84-15ae7aac965e"
      },
      "source": [
        "confusion_matrix(y_test, y_pred)"
      ],
      "execution_count": null,
      "outputs": [
        {
          "output_type": "execute_result",
          "data": {
            "text/plain": [
              "array([[68, 14],\n",
              "       [13, 89]])"
            ]
          },
          "metadata": {},
          "execution_count": 98
        }
      ]
    },
    {
      "cell_type": "code",
      "metadata": {
        "colab": {
          "base_uri": "https://localhost:8080/"
        },
        "id": "LIYOfy-9ZFD8",
        "outputId": "7874cde6-b7a0-44a5-bb83-a24f99b3f09c"
      },
      "source": [
        "accuracy_score(y_test, y_pred)"
      ],
      "execution_count": null,
      "outputs": [
        {
          "output_type": "execute_result",
          "data": {
            "text/plain": [
              "0.8532608695652174"
            ]
          },
          "metadata": {},
          "execution_count": 99
        }
      ]
    },
    {
      "cell_type": "code",
      "metadata": {
        "id": "78hKThTcZePb"
      },
      "source": [
        "import graphviz\n",
        "from sklearn import tree\n",
        "from sklearn.tree import plot_tree\n",
        "#from sklearn.tree import DecisionTreeClassifier, plot_tree\n",
        "import matplotlib.pyplot as plt"
      ],
      "execution_count": null,
      "outputs": []
    },
    {
      "cell_type": "code",
      "metadata": {
        "colab": {
          "base_uri": "https://localhost:8080/"
        },
        "id": "0WfzGVyeZm2E",
        "outputId": "576e9f01-52dd-44d7-fc3e-7fad47480270"
      },
      "source": [
        "df.columns"
      ],
      "execution_count": null,
      "outputs": [
        {
          "output_type": "execute_result",
          "data": {
            "text/plain": [
              "Index(['Age', 'Sex', 'RestingBP', 'Cholesterol', 'FastingBS', 'MaxHR',\n",
              "       'ExerciseAngina', 'Oldpeak', 'HeartDisease', 'RestingECG_LVH',\n",
              "       'RestingECG_Normal', 'RestingECG_ST', 'ChestPainType_ASY',\n",
              "       'ChestPainType_ATA', 'ChestPainType_NAP', 'ChestPainType_TA',\n",
              "       'ST_Slope_Down', 'ST_Slope_Flat', 'ST_Slope_Up'],\n",
              "      dtype='object')"
            ]
          },
          "metadata": {},
          "execution_count": 100
        }
      ]
    },
    {
      "cell_type": "code",
      "metadata": {
        "colab": {
          "base_uri": "https://localhost:8080/",
          "height": 576
        },
        "id": "spLZfT5Jd6MT",
        "outputId": "8ce3bc6e-c454-4ae4-f310-5d08add0f476"
      },
      "source": [
        "tree.plot_tree(clf)"
      ],
      "execution_count": null,
      "outputs": [
        {
          "output_type": "execute_result",
          "data": {
            "text/plain": [
              "[Text(167.4, 199.32, 'X[3] <= 0.8\\ngini = 0.667\\nsamples = 150\\nvalue = [50, 50, 50]'),\n",
              " Text(141.64615384615385, 163.07999999999998, 'gini = 0.0\\nsamples = 50\\nvalue = [50, 0, 0]'),\n",
              " Text(193.15384615384616, 163.07999999999998, 'X[3] <= 1.75\\ngini = 0.5\\nsamples = 100\\nvalue = [0, 50, 50]'),\n",
              " Text(103.01538461538462, 126.83999999999999, 'X[2] <= 4.95\\ngini = 0.168\\nsamples = 54\\nvalue = [0, 49, 5]'),\n",
              " Text(51.50769230769231, 90.6, 'X[3] <= 1.65\\ngini = 0.041\\nsamples = 48\\nvalue = [0, 47, 1]'),\n",
              " Text(25.753846153846155, 54.359999999999985, 'gini = 0.0\\nsamples = 47\\nvalue = [0, 47, 0]'),\n",
              " Text(77.26153846153846, 54.359999999999985, 'gini = 0.0\\nsamples = 1\\nvalue = [0, 0, 1]'),\n",
              " Text(154.52307692307693, 90.6, 'X[3] <= 1.55\\ngini = 0.444\\nsamples = 6\\nvalue = [0, 2, 4]'),\n",
              " Text(128.76923076923077, 54.359999999999985, 'gini = 0.0\\nsamples = 3\\nvalue = [0, 0, 3]'),\n",
              " Text(180.27692307692308, 54.359999999999985, 'X[2] <= 5.45\\ngini = 0.444\\nsamples = 3\\nvalue = [0, 2, 1]'),\n",
              " Text(154.52307692307693, 18.119999999999976, 'gini = 0.0\\nsamples = 2\\nvalue = [0, 2, 0]'),\n",
              " Text(206.03076923076924, 18.119999999999976, 'gini = 0.0\\nsamples = 1\\nvalue = [0, 0, 1]'),\n",
              " Text(283.2923076923077, 126.83999999999999, 'X[2] <= 4.85\\ngini = 0.043\\nsamples = 46\\nvalue = [0, 1, 45]'),\n",
              " Text(257.53846153846155, 90.6, 'X[1] <= 3.1\\ngini = 0.444\\nsamples = 3\\nvalue = [0, 1, 2]'),\n",
              " Text(231.7846153846154, 54.359999999999985, 'gini = 0.0\\nsamples = 2\\nvalue = [0, 0, 2]'),\n",
              " Text(283.2923076923077, 54.359999999999985, 'gini = 0.0\\nsamples = 1\\nvalue = [0, 1, 0]'),\n",
              " Text(309.04615384615386, 90.6, 'gini = 0.0\\nsamples = 43\\nvalue = [0, 0, 43]')]"
            ]
          },
          "metadata": {},
          "execution_count": 102
        },
        {
          "output_type": "display_data",
          "data": {
            "image/png": "[encoded data removed]",
            "text/plain": [
              "<Figure size 432x288 with 1 Axes>"
            ]
          },
          "metadata": {
            "needs_background": "light"
          }
        }
      ]
    },
    {
      "cell_type": "code",
      "metadata": {
        "colab": {
          "base_uri": "https://localhost:8080/",
          "height": 1000
        },
        "id": "HUWQSFH4ZeZ0",
        "outputId": "439b56fa-e09d-497e-c6f3-ca11bc1efd2b"
      },
      "source": [
        "tree.plot_tree(clf2)"
      ],
      "execution_count": null,
      "outputs": [
        {
          "output_type": "execute_result",
          "data": {
            "text/plain": [
              "[Text(170.83636363636364, 211.04470588235293, 'X[17] <= 0.5\\ngini = 0.494\\nsamples = 734\\nvalue = [328, 406]'),\n",
              " Text(87.62727272727273, 198.25411764705882, 'X[1] <= 0.5\\ngini = 0.296\\nsamples = 426\\nvalue = [77, 349]'),\n",
              " Text(33.38181818181818, 185.4635294117647, 'X[11] <= 0.5\\ngini = 0.5\\nsamples = 67\\nvalue = [33, 34]'),\n",
              " Text(15.709090909090909, 172.6729411764706, 'X[3] <= 235.5\\ngini = 0.408\\nsamples = 28\\nvalue = [20, 8]'),\n",
              " Text(7.8545454545454545, 159.88235294117646, 'X[2] <= 155.0\\ngini = 0.124\\nsamples = 15\\nvalue = [14, 1]'),\n",
              " Text(3.9272727272727272, 147.09176470588235, 'gini = 0.0\\nsamples = 14\\nvalue = [14, 0]'),\n",
              " Text(11.781818181818181, 147.09176470588235, 'gini = 0.0\\nsamples = 1\\nvalue = [0, 1]'),\n",
              " Text(23.563636363636363, 159.88235294117646, 'X[7] <= 1.25\\ngini = 0.497\\nsamples = 13\\nvalue = [6, 7]'),\n",
              " Text(19.636363636363637, 147.09176470588235, 'X[0] <= 64.0\\ngini = 0.42\\nsamples = 10\\nvalue = [3, 7]'),\n",
              " Text(15.709090909090909, 134.30117647058825, 'X[14] <= 0.5\\ngini = 0.346\\nsamples = 9\\nvalue = [2, 7]'),\n",
              " Text(11.781818181818181, 121.51058823529411, 'X[0] <= 49.5\\ngini = 0.219\\nsamples = 8\\nvalue = [1, 7]'),\n",
              " Text(7.8545454545454545, 108.72, 'X[2] <= 134.5\\ngini = 0.5\\nsamples = 2\\nvalue = [1, 1]'),\n",
              " Text(3.9272727272727272, 95.92941176470588, 'gini = 0.0\\nsamples = 1\\nvalue = [1, 0]'),\n",
              " Text(11.781818181818181, 95.92941176470588, 'gini = 0.0\\nsamples = 1\\nvalue = [0, 1]'),\n",
              " Text(15.709090909090909, 108.72, 'gini = 0.0\\nsamples = 6\\nvalue = [0, 6]'),\n",
              " Text(19.636363636363637, 121.51058823529411, 'gini = 0.0\\nsamples = 1\\nvalue = [1, 0]'),\n",
              " Text(23.563636363636363, 134.30117647058825, 'gini = 0.0\\nsamples = 1\\nvalue = [1, 0]'),\n",
              " Text(27.490909090909092, 147.09176470588235, 'gini = 0.0\\nsamples = 3\\nvalue = [3, 0]'),\n",
              " Text(51.054545454545455, 172.6729411764706, 'X[7] <= 1.3\\ngini = 0.444\\nsamples = 39\\nvalue = [13, 26]'),\n",
              " Text(39.27272727272727, 159.88235294117646, 'X[0] <= 63.0\\ngini = 0.499\\nsamples = 23\\nvalue = [11, 12]'),\n",
              " Text(35.345454545454544, 147.09176470588235, 'X[0] <= 40.0\\ngini = 0.475\\nsamples = 18\\nvalue = [11, 7]'),\n",
              " Text(31.418181818181818, 134.30117647058825, 'gini = 0.0\\nsamples = 2\\nvalue = [0, 2]'),\n",
              " Text(39.27272727272727, 134.30117647058825, 'X[4] <= 0.5\\ngini = 0.43\\nsamples = 16\\nvalue = [11, 5]'),\n",
              " Text(35.345454545454544, 121.51058823529411, 'X[6] <= 0.5\\ngini = 0.337\\nsamples = 14\\nvalue = [11, 3]'),\n",
              " Text(31.418181818181818, 108.72, 'gini = 0.0\\nsamples = 5\\nvalue = [5, 0]'),\n",
              " Text(39.27272727272727, 108.72, 'X[0] <= 50.5\\ngini = 0.444\\nsamples = 9\\nvalue = [6, 3]'),\n",
              " Text(35.345454545454544, 95.92941176470588, 'gini = 0.0\\nsamples = 4\\nvalue = [4, 0]'),\n",
              " Text(43.2, 95.92941176470588, 'X[10] <= 0.5\\ngini = 0.48\\nsamples = 5\\nvalue = [2, 3]'),\n",
              " Text(39.27272727272727, 83.13882352941175, 'gini = 0.0\\nsamples = 3\\nvalue = [0, 3]'),\n",
              " Text(47.127272727272725, 83.13882352941175, 'gini = 0.0\\nsamples = 2\\nvalue = [2, 0]'),\n",
              " Text(43.2, 121.51058823529411, 'gini = 0.0\\nsamples = 2\\nvalue = [0, 2]'),\n",
              " Text(43.2, 147.09176470588235, 'gini = 0.0\\nsamples = 5\\nvalue = [0, 5]'),\n",
              " Text(62.836363636363636, 159.88235294117646, 'X[0] <= 63.5\\ngini = 0.219\\nsamples = 16\\nvalue = [2, 14]'),\n",
              " Text(58.90909090909091, 147.09176470588235, 'X[3] <= 192.5\\ngini = 0.124\\nsamples = 15\\nvalue = [1, 14]'),\n",
              " Text(54.981818181818184, 134.30117647058825, 'X[0] <= 57.0\\ngini = 0.5\\nsamples = 2\\nvalue = [1, 1]'),\n",
              " Text(51.054545454545455, 121.51058823529411, 'gini = 0.0\\nsamples = 1\\nvalue = [1, 0]'),\n",
              " Text(58.90909090909091, 121.51058823529411, 'gini = 0.0\\nsamples = 1\\nvalue = [0, 1]'),\n",
              " Text(62.836363636363636, 134.30117647058825, 'gini = 0.0\\nsamples = 13\\nvalue = [0, 13]'),\n",
              " Text(66.76363636363637, 147.09176470588235, 'gini = 0.0\\nsamples = 1\\nvalue = [1, 0]'),\n",
              " Text(141.87272727272727, 185.4635294117647, 'X[5] <= 140.5\\ngini = 0.215\\nsamples = 359\\nvalue = [44, 315]'),\n",
              " Text(108.0, 172.6729411764706, 'X[7] <= 1.65\\ngini = 0.109\\nsamples = 260\\nvalue = [15, 245]'),\n",
              " Text(90.32727272727273, 159.88235294117646, 'X[7] <= 0.05\\ngini = 0.157\\nsamples = 163\\nvalue = [14, 149]'),\n",
              " Text(78.54545454545455, 147.09176470588235, 'X[12] <= 0.5\\ngini = 0.061\\nsamples = 64\\nvalue = [2, 62]'),\n",
              " Text(70.69090909090909, 134.30117647058825, 'X[5] <= 97.5\\ngini = 0.032\\nsamples = 61\\nvalue = [1, 60]'),\n",
              " Text(66.76363636363637, 121.51058823529411, 'X[5] <= 95.5\\ngini = 0.133\\nsamples = 14\\nvalue = [1, 13]'),\n",
              " Text(62.836363636363636, 108.72, 'gini = 0.0\\nsamples = 13\\nvalue = [0, 13]'),\n",
              " Text(70.69090909090909, 108.72, 'gini = 0.0\\nsamples = 1\\nvalue = [1, 0]'),\n",
              " Text(74.61818181818182, 121.51058823529411, 'gini = 0.0\\nsamples = 47\\nvalue = [0, 47]'),\n",
              " Text(86.4, 134.30117647058825, 'X[2] <= 127.5\\ngini = 0.444\\nsamples = 3\\nvalue = [1, 2]'),\n",
              " Text(82.47272727272727, 121.51058823529411, 'gini = 0.0\\nsamples = 2\\nvalue = [0, 2]'),\n",
              " Text(90.32727272727273, 121.51058823529411, 'gini = 0.0\\nsamples = 1\\nvalue = [1, 0]'),\n",
              " Text(102.10909090909091, 147.09176470588235, 'X[7] <= 0.35\\ngini = 0.213\\nsamples = 99\\nvalue = [12, 87]'),\n",
              " Text(98.18181818181819, 134.30117647058825, 'gini = 0.0\\nsamples = 2\\nvalue = [2, 0]'),\n",
              " Text(106.03636363636363, 134.30117647058825, 'X[5] <= 75.5\\ngini = 0.185\\nsamples = 97\\nvalue = [10, 87]'),\n",
              " Text(98.18181818181819, 121.51058823529411, 'X[0] <= 61.5\\ngini = 0.5\\nsamples = 2\\nvalue = [1, 1]'),\n",
              " Text(94.25454545454545, 108.72, 'gini = 0.0\\nsamples = 1\\nvalue = [1, 0]'),\n",
              " Text(102.10909090909091, 108.72, 'gini = 0.0\\nsamples = 1\\nvalue = [0, 1]'),\n",
              " Text(113.89090909090909, 121.51058823529411, 'X[4] <= 0.5\\ngini = 0.172\\nsamples = 95\\nvalue = [9, 86]'),\n",
              " Text(109.96363636363637, 108.72, 'X[3] <= 240.0\\ngini = 0.245\\nsamples = 63\\nvalue = [9, 54]'),\n",
              " Text(106.03636363636363, 95.92941176470588, 'X[2] <= 112.5\\ngini = 0.337\\nsamples = 42\\nvalue = [9, 33]'),\n",
              " Text(102.10909090909091, 83.13882352941175, 'gini = 0.0\\nsamples = 2\\nvalue = [2, 0]'),\n",
              " Text(109.96363636363637, 83.13882352941175, 'X[6] <= 0.5\\ngini = 0.289\\nsamples = 40\\nvalue = [7, 33]'),\n",
              " Text(102.10909090909091, 70.34823529411764, 'X[9] <= 0.5\\ngini = 0.5\\nsamples = 6\\nvalue = [3, 3]'),\n",
              " Text(98.18181818181819, 57.557647058823534, 'gini = 0.0\\nsamples = 3\\nvalue = [3, 0]'),\n",
              " Text(106.03636363636363, 57.557647058823534, 'gini = 0.0\\nsamples = 3\\nvalue = [0, 3]'),\n",
              " Text(117.81818181818181, 70.34823529411764, 'X[2] <= 175.0\\ngini = 0.208\\nsamples = 34\\nvalue = [4, 30]'),\n",
              " Text(113.89090909090909, 57.557647058823534, 'X[5] <= 97.5\\ngini = 0.165\\nsamples = 33\\nvalue = [3, 30]'),\n",
              " Text(104.07272727272728, 44.767058823529396, 'X[10] <= 0.5\\ngini = 0.5\\nsamples = 2\\nvalue = [1, 1]'),\n",
              " Text(100.14545454545454, 31.976470588235287, 'gini = 0.0\\nsamples = 1\\nvalue = [0, 1]'),\n",
              " Text(108.0, 31.976470588235287, 'gini = 0.0\\nsamples = 1\\nvalue = [1, 0]'),\n",
              " Text(123.7090909090909, 44.767058823529396, 'X[0] <= 42.0\\ngini = 0.121\\nsamples = 31\\nvalue = [2, 29]'),\n",
              " Text(115.85454545454546, 31.976470588235287, 'X[2] <= 145.0\\ngini = 0.444\\nsamples = 3\\nvalue = [1, 2]'),\n",
              " Text(111.92727272727272, 19.185882352941178, 'gini = 0.0\\nsamples = 2\\nvalue = [0, 2]'),\n",
              " Text(119.78181818181818, 19.185882352941178, 'gini = 0.0\\nsamples = 1\\nvalue = [1, 0]'),\n",
              " Text(131.56363636363636, 31.976470588235287, 'X[3] <= 226.0\\ngini = 0.069\\nsamples = 28\\nvalue = [1, 27]'),\n",
              " Text(127.63636363636364, 19.185882352941178, 'gini = 0.0\\nsamples = 24\\nvalue = [0, 24]'),\n",
              " Text(135.4909090909091, 19.185882352941178, 'X[7] <= 0.75\\ngini = 0.375\\nsamples = 4\\nvalue = [1, 3]'),\n",
              " Text(131.56363636363636, 6.39529411764704, 'gini = 0.0\\nsamples = 1\\nvalue = [1, 0]'),\n",
              " Text(139.4181818181818, 6.39529411764704, 'gini = 0.0\\nsamples = 3\\nvalue = [0, 3]'),\n",
              " Text(121.74545454545455, 57.557647058823534, 'gini = 0.0\\nsamples = 1\\nvalue = [1, 0]'),\n",
              " Text(113.89090909090909, 95.92941176470588, 'gini = 0.0\\nsamples = 21\\nvalue = [0, 21]'),\n",
              " Text(117.81818181818181, 108.72, 'gini = 0.0\\nsamples = 32\\nvalue = [0, 32]'),\n",
              " Text(125.67272727272727, 159.88235294117646, 'X[2] <= 124.5\\ngini = 0.02\\nsamples = 97\\nvalue = [1, 96]'),\n",
              " Text(121.74545454545455, 147.09176470588235, 'X[2] <= 123.5\\ngini = 0.091\\nsamples = 21\\nvalue = [1, 20]'),\n",
              " Text(117.81818181818181, 134.30117647058825, 'gini = 0.0\\nsamples = 18\\nvalue = [0, 18]'),\n",
              " Text(125.67272727272727, 134.30117647058825, 'X[10] <= 0.5\\ngini = 0.444\\nsamples = 3\\nvalue = [1, 2]'),\n",
              " Text(121.74545454545455, 121.51058823529411, 'gini = 0.0\\nsamples = 2\\nvalue = [0, 2]'),\n",
              " Text(129.6, 121.51058823529411, 'gini = 0.0\\nsamples = 1\\nvalue = [1, 0]'),\n",
              " Text(129.6, 147.09176470588235, 'gini = 0.0\\nsamples = 76\\nvalue = [0, 76]'),\n",
              " Text(175.74545454545455, 172.6729411764706, 'X[11] <= 0.5\\ngini = 0.414\\nsamples = 99\\nvalue = [29, 70]'),\n",
              " Text(155.12727272727273, 159.88235294117646, 'X[2] <= 132.0\\ngini = 0.496\\nsamples = 53\\nvalue = [24, 29]'),\n",
              " Text(137.45454545454547, 147.09176470588235, 'X[3] <= 92.0\\ngini = 0.484\\nsamples = 34\\nvalue = [20, 14]'),\n",
              " Text(133.52727272727273, 134.30117647058825, 'gini = 0.0\\nsamples = 4\\nvalue = [0, 4]'),\n",
              " Text(141.38181818181818, 134.30117647058825, 'X[3] <= 226.5\\ngini = 0.444\\nsamples = 30\\nvalue = [20, 10]'),\n",
              " Text(137.45454545454547, 121.51058823529411, 'gini = 0.0\\nsamples = 9\\nvalue = [9, 0]'),\n",
              " Text(145.3090909090909, 121.51058823529411, 'X[3] <= 238.5\\ngini = 0.499\\nsamples = 21\\nvalue = [11, 10]'),\n",
              " Text(137.45454545454547, 108.72, 'X[0] <= 60.0\\ngini = 0.278\\nsamples = 6\\nvalue = [1, 5]'),\n",
              " Text(133.52727272727273, 95.92941176470588, 'gini = 0.0\\nsamples = 5\\nvalue = [0, 5]'),\n",
              " Text(141.38181818181818, 95.92941176470588, 'gini = 0.0\\nsamples = 1\\nvalue = [1, 0]'),\n",
              " Text(153.16363636363636, 108.72, 'X[3] <= 253.0\\ngini = 0.444\\nsamples = 15\\nvalue = [10, 5]'),\n",
              " Text(149.23636363636365, 95.92941176470588, 'gini = 0.0\\nsamples = 7\\nvalue = [7, 0]'),\n",
              " Text(157.0909090909091, 95.92941176470588, 'X[13] <= 0.5\\ngini = 0.469\\nsamples = 8\\nvalue = [3, 5]'),\n",
              " Text(153.16363636363636, 83.13882352941175, 'gini = 0.0\\nsamples = 3\\nvalue = [0, 3]'),\n",
              " Text(161.01818181818183, 83.13882352941175, 'X[3] <= 269.0\\ngini = 0.48\\nsamples = 5\\nvalue = [3, 2]'),\n",
              " Text(157.0909090909091, 70.34823529411764, 'X[5] <= 144.5\\ngini = 0.444\\nsamples = 3\\nvalue = [1, 2]'),\n",
              " Text(153.16363636363636, 57.557647058823534, 'gini = 0.0\\nsamples = 1\\nvalue = [0, 1]'),\n",
              " Text(161.01818181818183, 57.557647058823534, 'X[8] <= 0.5\\ngini = 0.5\\nsamples = 2\\nvalue = [1, 1]'),\n",
              " Text(157.0909090909091, 44.767058823529396, 'gini = 0.0\\nsamples = 1\\nvalue = [0, 1]'),\n",
              " Text(164.94545454545454, 44.767058823529396, 'gini = 0.0\\nsamples = 1\\nvalue = [1, 0]'),\n",
              " Text(164.94545454545454, 70.34823529411764, 'gini = 0.0\\nsamples = 2\\nvalue = [2, 0]'),\n",
              " Text(172.8, 147.09176470588235, 'X[15] <= 0.5\\ngini = 0.332\\nsamples = 19\\nvalue = [4, 15]'),\n",
              " Text(168.87272727272727, 134.30117647058825, 'X[3] <= 295.0\\ngini = 0.208\\nsamples = 17\\nvalue = [2, 15]'),\n",
              " Text(164.94545454545454, 121.51058823529411, 'X[2] <= 165.0\\ngini = 0.117\\nsamples = 16\\nvalue = [1, 15]'),\n",
              " Text(161.01818181818183, 108.72, 'gini = 0.0\\nsamples = 13\\nvalue = [0, 13]'),\n",
              " Text(168.87272727272727, 108.72, 'X[3] <= 250.5\\ngini = 0.444\\nsamples = 3\\nvalue = [1, 2]'),\n",
              " Text(164.94545454545454, 95.92941176470588, 'gini = 0.0\\nsamples = 1\\nvalue = [1, 0]'),\n",
              " Text(172.8, 95.92941176470588, 'gini = 0.0\\nsamples = 2\\nvalue = [0, 2]'),\n",
              " Text(172.8, 121.51058823529411, 'gini = 0.0\\nsamples = 1\\nvalue = [1, 0]'),\n",
              " Text(176.72727272727272, 134.30117647058825, 'gini = 0.0\\nsamples = 2\\nvalue = [2, 0]'),\n",
              " Text(196.36363636363637, 159.88235294117646, 'X[2] <= 107.0\\ngini = 0.194\\nsamples = 46\\nvalue = [5, 41]'),\n",
              " Text(188.5090909090909, 147.09176470588235, 'X[6] <= 0.5\\ngini = 0.444\\nsamples = 3\\nvalue = [2, 1]'),\n",
              " Text(184.5818181818182, 134.30117647058825, 'gini = 0.0\\nsamples = 1\\nvalue = [0, 1]'),\n",
              " Text(192.43636363636364, 134.30117647058825, 'gini = 0.0\\nsamples = 2\\nvalue = [2, 0]'),\n",
              " Text(204.21818181818182, 147.09176470588235, 'X[0] <= 56.5\\ngini = 0.13\\nsamples = 43\\nvalue = [3, 40]'),\n",
              " Text(200.29090909090908, 134.30117647058825, 'gini = 0.0\\nsamples = 25\\nvalue = [0, 25]'),\n",
              " Text(208.14545454545456, 134.30117647058825, 'X[7] <= 0.85\\ngini = 0.278\\nsamples = 18\\nvalue = [3, 15]'),\n",
              " Text(204.21818181818182, 121.51058823529411, 'X[4] <= 0.5\\ngini = 0.48\\nsamples = 5\\nvalue = [3, 2]'),\n",
              " Text(200.29090909090908, 108.72, 'gini = 0.0\\nsamples = 3\\nvalue = [3, 0]'),\n",
              " Text(208.14545454545456, 108.72, 'gini = 0.0\\nsamples = 2\\nvalue = [0, 2]'),\n",
              " Text(212.07272727272726, 121.51058823529411, 'gini = 0.0\\nsamples = 13\\nvalue = [0, 13]'),\n",
              " Text(254.04545454545453, 198.25411764705882, 'X[3] <= 42.5\\ngini = 0.302\\nsamples = 308\\nvalue = [251, 57]'),\n",
              " Text(227.78181818181818, 185.4635294117647, 'X[4] <= 0.5\\ngini = 0.444\\nsamples = 33\\nvalue = [11, 22]'),\n",
              " Text(223.85454545454544, 172.6729411764706, 'X[7] <= 0.25\\ngini = 0.475\\nsamples = 18\\nvalue = [11, 7]'),\n",
              " Text(216.0, 159.88235294117646, 'X[0] <= 67.0\\ngini = 0.278\\nsamples = 12\\nvalue = [10, 2]'),\n",
              " Text(212.07272727272726, 147.09176470588235, 'gini = 0.0\\nsamples = 9\\nvalue = [9, 0]'),\n",
              " Text(219.92727272727274, 147.09176470588235, 'X[10] <= 0.5\\ngini = 0.444\\nsamples = 3\\nvalue = [1, 2]'),\n",
              " Text(216.0, 134.30117647058825, 'gini = 0.0\\nsamples = 1\\nvalue = [1, 0]'),\n",
              " Text(223.85454545454544, 134.30117647058825, 'gini = 0.0\\nsamples = 2\\nvalue = [0, 2]'),\n",
              " Text(231.70909090909092, 159.88235294117646, 'X[0] <= 58.5\\ngini = 0.278\\nsamples = 6\\nvalue = [1, 5]'),\n",
              " Text(227.78181818181818, 147.09176470588235, 'gini = 0.0\\nsamples = 5\\nvalue = [0, 5]'),\n",
              " Text(235.63636363636363, 147.09176470588235, 'gini = 0.0\\nsamples = 1\\nvalue = [1, 0]'),\n",
              " Text(231.70909090909092, 172.6729411764706, 'gini = 0.0\\nsamples = 15\\nvalue = [0, 15]'),\n",
              " Text(280.3090909090909, 185.4635294117647, 'X[11] <= 0.5\\ngini = 0.222\\nsamples = 275\\nvalue = [240, 35]'),\n",
              " Text(251.34545454545454, 172.6729411764706, 'X[7] <= 2.25\\ngini = 0.096\\nsamples = 197\\nvalue = [187, 10]'),\n",
              " Text(247.4181818181818, 159.88235294117646, 'X[2] <= 191.0\\ngini = 0.079\\nsamples = 195\\nvalue = [187, 8]'),\n",
              " Text(243.4909090909091, 147.09176470588235, 'X[0] <= 56.5\\ngini = 0.07\\nsamples = 194\\nvalue = [187, 7]'),\n",
              " Text(232.6909090909091, 134.30117647058825, 'X[2] <= 109.0\\ngini = 0.013\\nsamples = 158\\nvalue = [157, 1]'),\n",
              " Text(228.76363636363635, 121.51058823529411, 'X[2] <= 107.0\\ngini = 0.153\\nsamples = 12\\nvalue = [11, 1]'),\n",
              " Text(224.83636363636364, 108.72, 'gini = 0.0\\nsamples = 9\\nvalue = [9, 0]'),\n",
              " Text(232.6909090909091, 108.72, 'X[5] <= 154.0\\ngini = 0.444\\nsamples = 3\\nvalue = [2, 1]'),\n",
              " Text(228.76363636363635, 95.92941176470588, 'gini = 0.0\\nsamples = 1\\nvalue = [0, 1]'),\n",
              " Text(236.61818181818182, 95.92941176470588, 'gini = 0.0\\nsamples = 2\\nvalue = [2, 0]'),\n",
              " Text(236.61818181818182, 121.51058823529411, 'gini = 0.0\\nsamples = 146\\nvalue = [146, 0]'),\n",
              " Text(254.29090909090908, 134.30117647058825, 'X[0] <= 57.5\\ngini = 0.278\\nsamples = 36\\nvalue = [30, 6]'),\n",
              " Text(244.47272727272727, 121.51058823529411, 'X[5] <= 168.5\\ngini = 0.444\\nsamples = 3\\nvalue = [1, 2]'),\n",
              " Text(240.54545454545453, 108.72, 'gini = 0.0\\nsamples = 2\\nvalue = [0, 2]'),\n",
              " Text(248.4, 108.72, 'gini = 0.0\\nsamples = 1\\nvalue = [1, 0]'),\n",
              " Text(264.1090909090909, 121.51058823529411, 'X[3] <= 318.5\\ngini = 0.213\\nsamples = 33\\nvalue = [29, 4]'),\n",
              " Text(256.25454545454545, 108.72, 'X[14] <= 0.5\\ngini = 0.133\\nsamples = 28\\nvalue = [26, 2]'),\n",
              " Text(252.3272727272727, 95.92941176470588, 'gini = 0.0\\nsamples = 22\\nvalue = [22, 0]'),\n",
              " Text(260.1818181818182, 95.92941176470588, 'X[0] <= 60.5\\ngini = 0.444\\nsamples = 6\\nvalue = [4, 2]'),\n",
              " Text(256.25454545454545, 83.13882352941175, 'X[3] <= 278.0\\ngini = 0.444\\nsamples = 3\\nvalue = [1, 2]'),\n",
              " Text(252.3272727272727, 70.34823529411764, 'gini = 0.0\\nsamples = 2\\nvalue = [0, 2]'),\n",
              " Text(260.1818181818182, 70.34823529411764, 'gini = 0.0\\nsamples = 1\\nvalue = [1, 0]'),\n",
              " Text(264.1090909090909, 83.13882352941175, 'gini = 0.0\\nsamples = 3\\nvalue = [3, 0]'),\n",
              " Text(271.96363636363634, 108.72, 'X[3] <= 337.5\\ngini = 0.48\\nsamples = 5\\nvalue = [3, 2]'),\n",
              " Text(268.03636363636366, 95.92941176470588, 'gini = 0.0\\nsamples = 2\\nvalue = [0, 2]'),\n",
              " Text(275.8909090909091, 95.92941176470588, 'gini = 0.0\\nsamples = 3\\nvalue = [3, 0]'),\n",
              " Text(251.34545454545454, 147.09176470588235, 'gini = 0.0\\nsamples = 1\\nvalue = [0, 1]'),\n",
              " Text(255.27272727272728, 159.88235294117646, 'gini = 0.0\\nsamples = 2\\nvalue = [0, 2]'),\n",
              " Text(309.27272727272725, 172.6729411764706, 'X[6] <= 0.5\\ngini = 0.436\\nsamples = 78\\nvalue = [53, 25]'),\n",
              " Text(291.6, 159.88235294117646, 'X[5] <= 143.5\\ngini = 0.311\\nsamples = 57\\nvalue = [46, 11]'),\n",
              " Text(287.6727272727273, 147.09176470588235, 'gini = 0.0\\nsamples = 26\\nvalue = [26, 0]'),\n",
              " Text(295.5272727272727, 147.09176470588235, 'X[8] <= 0.5\\ngini = 0.458\\nsamples = 31\\nvalue = [20, 11]'),\n",
              " Text(287.6727272727273, 134.30117647058825, 'X[2] <= 151.0\\ngini = 0.32\\nsamples = 20\\nvalue = [16, 4]'),\n",
              " Text(283.74545454545455, 121.51058823529411, 'X[0] <= 50.5\\ngini = 0.266\\nsamples = 19\\nvalue = [16, 3]'),\n",
              " Text(279.8181818181818, 108.72, 'gini = 0.0\\nsamples = 11\\nvalue = [11, 0]'),\n",
              " Text(287.6727272727273, 108.72, 'X[0] <= 52.5\\ngini = 0.469\\nsamples = 8\\nvalue = [5, 3]'),\n",
              " Text(283.74545454545455, 95.92941176470588, 'gini = 0.0\\nsamples = 2\\nvalue = [0, 2]'),\n",
              " Text(291.6, 95.92941176470588, 'X[0] <= 58.0\\ngini = 0.278\\nsamples = 6\\nvalue = [5, 1]'),\n",
              " Text(287.6727272727273, 83.13882352941175, 'gini = 0.0\\nsamples = 4\\nvalue = [4, 0]'),\n",
              " Text(295.5272727272727, 83.13882352941175, 'X[0] <= 61.5\\ngini = 0.5\\nsamples = 2\\nvalue = [1, 1]'),\n",
              " Text(291.6, 70.34823529411764, 'gini = 0.0\\nsamples = 1\\nvalue = [0, 1]'),\n",
              " Text(299.45454545454544, 70.34823529411764, 'gini = 0.0\\nsamples = 1\\nvalue = [1, 0]'),\n",
              " Text(291.6, 121.51058823529411, 'gini = 0.0\\nsamples = 1\\nvalue = [0, 1]'),\n",
              " Text(303.3818181818182, 134.30117647058825, 'X[5] <= 179.5\\ngini = 0.463\\nsamples = 11\\nvalue = [4, 7]'),\n",
              " Text(299.45454545454544, 121.51058823529411, 'X[2] <= 134.0\\ngini = 0.219\\nsamples = 8\\nvalue = [1, 7]'),\n",
              " Text(295.5272727272727, 108.72, 'gini = 0.0\\nsamples = 7\\nvalue = [0, 7]'),\n",
              " Text(303.3818181818182, 108.72, 'gini = 0.0\\nsamples = 1\\nvalue = [1, 0]'),\n",
              " Text(307.3090909090909, 121.51058823529411, 'gini = 0.0\\nsamples = 3\\nvalue = [3, 0]'),\n",
              " Text(326.94545454545454, 159.88235294117646, 'X[7] <= 0.7\\ngini = 0.444\\nsamples = 21\\nvalue = [7, 14]'),\n",
              " Text(323.0181818181818, 147.09176470588235, 'X[2] <= 131.0\\ngini = 0.486\\nsamples = 12\\nvalue = [7, 5]'),\n",
              " Text(319.09090909090907, 134.30117647058825, 'X[3] <= 287.0\\ngini = 0.408\\nsamples = 7\\nvalue = [2, 5]'),\n",
              " Text(315.1636363636364, 121.51058823529411, 'gini = 0.0\\nsamples = 4\\nvalue = [0, 4]'),\n",
              " Text(323.0181818181818, 121.51058823529411, 'X[0] <= 69.0\\ngini = 0.444\\nsamples = 3\\nvalue = [2, 1]'),\n",
              " Text(319.09090909090907, 108.72, 'gini = 0.0\\nsamples = 2\\nvalue = [2, 0]'),\n",
              " Text(326.94545454545454, 108.72, 'gini = 0.0\\nsamples = 1\\nvalue = [0, 1]'),\n",
              " Text(326.94545454545454, 134.30117647058825, 'gini = 0.0\\nsamples = 5\\nvalue = [5, 0]'),\n",
              " Text(330.8727272727273, 147.09176470588235, 'gini = 0.0\\nsamples = 9\\nvalue = [0, 9]')]"
            ]
          },
          "metadata": {},
          "execution_count": 101
        },
        {
          "output_type": "display_data",
          "data": {
            "image/png": "[encoded data removed]",
            "text/plain": [
              "<Figure size 432x288 with 1 Axes>"
            ]
          },
          "metadata": {
            "needs_background": "light"
          }
        }
      ]
    },
    {
      "cell_type": "code",
      "metadata": {
        "id": "TxO9IT_ae6LI"
      },
      "source": [
        ""
      ],
      "execution_count": null,
      "outputs": []
    },
    {
      "cell_type": "code",
      "metadata": {
        "id": "F26XXFGylE0Y"
      },
      "source": [
        ""
      ],
      "execution_count": null,
      "outputs": []
    },
    {
      "cell_type": "code",
      "metadata": {
        "colab": {
          "base_uri": "https://localhost:8080/"
        },
        "id": "m3h81p4_l6Z9",
        "outputId": "94cde4fa-3b2d-47eb-bdec-7e9e6a5327a5"
      },
      "source": [
        "!pip install torch==1.4.0 torchvision==0.5.0"
      ],
      "execution_count": null,
      "outputs": [
        {
          "output_type": "stream",
          "name": "stdout",
          "text": [
            "Collecting torch==1.4.0\n",
            "  Downloading torch-1.4.0-cp37-cp37m-manylinux1_x86_64.whl (753.4 MB)\n",
            "\u001b[K     |████████████████████████████████| 753.4 MB 5.2 kB/s \n",
            "\u001b[?25hCollecting torchvision==0.5.0\n",
            "  Downloading torchvision-0.5.0-cp37-cp37m-manylinux1_x86_64.whl (4.0 MB)\n",
            "\u001b[K     |████████████████████████████████| 4.0 MB 45.9 MB/s \n",
            "\u001b[?25hRequirement already satisfied: numpy in /usr/local/lib/python3.7/dist-packages (from torchvision==0.5.0) (1.19.5)\n",
            "Requirement already satisfied: six in /usr/local/lib/python3.7/dist-packages (from torchvision==0.5.0) (1.15.0)\n",
            "Requirement already satisfied: pillow>=4.1.1 in /usr/local/lib/python3.7/dist-packages (from torchvision==0.5.0) (7.1.2)\n",
            "Installing collected packages: torch, torchvision\n",
            "  Attempting uninstall: torch\n",
            "    Found existing installation: torch 1.9.0+cu111\n",
            "    Uninstalling torch-1.9.0+cu111:\n",
            "      Successfully uninstalled torch-1.9.0+cu111\n",
            "  Attempting uninstall: torchvision\n",
            "    Found existing installation: torchvision 0.10.0+cu111\n",
            "    Uninstalling torchvision-0.10.0+cu111:\n",
            "      Successfully uninstalled torchvision-0.10.0+cu111\n",
            "\u001b[31mERROR: pip's dependency resolver does not currently take into account all the packages that are installed. This behaviour is the source of the following dependency conflicts.\n",
            "torchtext 0.10.0 requires torch==1.9.0, but you have torch 1.4.0 which is incompatible.\u001b[0m\n",
            "Successfully installed torch-1.4.0 torchvision-0.5.0\n"
          ]
        }
      ]
    },
    {
      "cell_type": "code",
      "metadata": {
        "id": "iahfLeifl9Q6"
      },
      "source": [
        "# 乱数のシードを設定\n",
        "import random\n",
        "import numpy as np\n",
        "\n",
        "np.random.seed(1234)\n",
        "random.seed(1234)\n",
        "\n",
        "# 使用するパッケージ（ライブラリと関数）を定義\n",
        "# 標準正規分布の生成用\n",
        "from numpy.random import *\n",
        "\n",
        "# グラフの描画用\n",
        "import matplotlib.pyplot as plt\n",
        "\n",
        "# その他\n",
        "import pandas as pd\n",
        "\n",
        "# シグモイド関数をimport\n",
        "from scipy.special import expit"
      ],
      "execution_count": null,
      "outputs": []
    },
    {
      "cell_type": "code",
      "metadata": {
        "colab": {
          "base_uri": "https://localhost:8080/"
        },
        "id": "t2OVXGHil9uN",
        "outputId": "b309028b-f31f-4724-baab-e2f2d4cd7215"
      },
      "source": [
        "!pip install cdt==0.5.18"
      ],
      "execution_count": null,
      "outputs": [
        {
          "output_type": "stream",
          "name": "stdout",
          "text": [
            "Collecting cdt==0.5.18\n",
            "  Downloading cdt-0.5.18-py3-none-any.whl (917 kB)\n",
            "\u001b[K     |████████████████████████████████| 917 kB 2.8 MB/s \n",
            "\u001b[?25hRequirement already satisfied: tqdm in /usr/local/lib/python3.7/dist-packages (from cdt==0.5.18) (4.62.3)\n",
            "Requirement already satisfied: joblib in /usr/local/lib/python3.7/dist-packages (from cdt==0.5.18) (1.0.1)\n",
            "Requirement already satisfied: pandas in /usr/local/lib/python3.7/dist-packages (from cdt==0.5.18) (1.1.5)\n",
            "Requirement already satisfied: scikit-learn in /usr/local/lib/python3.7/dist-packages (from cdt==0.5.18) (0.22.2.post1)\n",
            "Collecting GPUtil\n",
            "  Downloading GPUtil-1.4.0.tar.gz (5.5 kB)\n",
            "Collecting skrebate\n",
            "  Downloading skrebate-0.62.tar.gz (19 kB)\n",
            "Requirement already satisfied: scipy in /usr/local/lib/python3.7/dist-packages (from cdt==0.5.18) (1.4.1)\n",
            "Requirement already satisfied: numpy in /usr/local/lib/python3.7/dist-packages (from cdt==0.5.18) (1.19.5)\n",
            "Requirement already satisfied: statsmodels in /usr/local/lib/python3.7/dist-packages (from cdt==0.5.18) (0.10.2)\n",
            "Requirement already satisfied: networkx in /usr/local/lib/python3.7/dist-packages (from cdt==0.5.18) (2.6.3)\n",
            "Requirement already satisfied: requests in /usr/local/lib/python3.7/dist-packages (from cdt==0.5.18) (2.23.0)\n",
            "Requirement already satisfied: pytz>=2017.2 in /usr/local/lib/python3.7/dist-packages (from pandas->cdt==0.5.18) (2018.9)\n",
            "Requirement already satisfied: python-dateutil>=2.7.3 in /usr/local/lib/python3.7/dist-packages (from pandas->cdt==0.5.18) (2.8.2)\n",
            "Requirement already satisfied: six>=1.5 in /usr/local/lib/python3.7/dist-packages (from python-dateutil>=2.7.3->pandas->cdt==0.5.18) (1.15.0)\n",
            "Requirement already satisfied: idna<3,>=2.5 in /usr/local/lib/python3.7/dist-packages (from requests->cdt==0.5.18) (2.10)\n",
            "Requirement already satisfied: chardet<4,>=3.0.2 in /usr/local/lib/python3.7/dist-packages (from requests->cdt==0.5.18) (3.0.4)\n",
            "Requirement already satisfied: certifi>=2017.4.17 in /usr/local/lib/python3.7/dist-packages (from requests->cdt==0.5.18) (2021.5.30)\n",
            "Requirement already satisfied: urllib3!=1.25.0,!=1.25.1,<1.26,>=1.21.1 in /usr/local/lib/python3.7/dist-packages (from requests->cdt==0.5.18) (1.24.3)\n",
            "Requirement already satisfied: patsy>=0.4.0 in /usr/local/lib/python3.7/dist-packages (from statsmodels->cdt==0.5.18) (0.5.2)\n",
            "Building wheels for collected packages: GPUtil, skrebate\n",
            "  Building wheel for GPUtil (setup.py) ... \u001b[?25l\u001b[?25hdone\n",
            "  Created wheel for GPUtil: filename=GPUtil-1.4.0-py3-none-any.whl size=7411 sha256=99f99200352f9cb5fea2434d9d1446c67e4bd4f2a0121deb996b356abaf4abed\n",
            "  Stored in directory: /root/.cache/pip/wheels/6e/f8/83/534c52482d6da64622ddbf72cd93c35d2ef2881b78fd08ff0c\n",
            "  Building wheel for skrebate (setup.py) ... \u001b[?25l\u001b[?25hdone\n",
            "  Created wheel for skrebate: filename=skrebate-0.62-py3-none-any.whl size=29269 sha256=5fda428efe2f0b214a4d5c5bcc0e67490479645e5204dbe521204eb50f13c15e\n",
            "  Stored in directory: /root/.cache/pip/wheels/4f/3b/07/22a9a01f3f25cd376122b5ef526737a44993b4c312e50916ed\n",
            "Successfully built GPUtil skrebate\n",
            "Installing collected packages: skrebate, GPUtil, cdt\n",
            "Successfully installed GPUtil-1.4.0 cdt-0.5.18 skrebate-0.62\n"
          ]
        }
      ]
    },
    {
      "cell_type": "code",
      "metadata": {
        "id": "LvseaoDNmwcP"
      },
      "source": [
        "# PyTorchから使用するものをimport\n",
        "import torch\n",
        "import torch.nn as nn\n",
        "\n",
        "\n",
        "class SAMDiscriminator(nn.Module):\n",
        "    \"\"\"SAMのDiscriminatorのニューラルネットワーク\n",
        "    \"\"\"\n",
        "\n",
        "    def __init__(self, nfeatures, dnh, hlayers):\n",
        "        super(SAMDiscriminator, self).__init__()\n",
        "\n",
        "        # ----------------------------------\n",
        "        # ネットワークの用意\n",
        "        # ----------------------------------\n",
        "        self.nfeatures = nfeatures  # 入力変数の数\n",
        "\n",
        "        layers = []\n",
        "        layers.append(nn.Linear(nfeatures, dnh))\n",
        "        layers.append(nn.BatchNorm1d(dnh))\n",
        "        layers.append(nn.LeakyReLU(.2))\n",
        "\n",
        "        for i in range(hlayers-1):\n",
        "            layers.append(nn.Linear(dnh, dnh))\n",
        "            layers.append(nn.BatchNorm1d(dnh))\n",
        "            layers.append(nn.LeakyReLU(.2))\n",
        "\n",
        "        layers.append(nn.Linear(dnh, 1))  # 最終出力\n",
        "\n",
        "        self.layers = nn.Sequential(*layers)\n",
        "\n",
        "        # ----------------------------------\n",
        "        # maskの用意（対角成分のみ1で、他は0の行列）\n",
        "        # ----------------------------------\n",
        "        mask = torch.eye(nfeatures, nfeatures)  # 変数の数×変数の数の単位行列\n",
        "        self.register_buffer(\"mask\", mask.unsqueeze(0))  # 単位行列maskを保存しておく\n",
        "\n",
        "        # 注意：register_bufferはmodelのパラメータではないが、その後forwardで使う変数を登録するPyTorchのメソッドです\n",
        "        # self.変数名で、以降も使用可能になります\n",
        "        # https://pytorch.org/docs/stable/nn.html?highlight=register_buffer#torch.nn.Module.register_buffer\n",
        "\n",
        "    def forward(self, input, obs_data=None):\n",
        "        \"\"\"　順伝搬の計算\n",
        "        Args:\n",
        "            input (torch.Size([データ数, 観測変数の種類数])): 観測したデータ、もしくは生成されたデータ\n",
        "            obs_data (torch.Size([データ数, 観測変数の種類数])):観測したデータ\n",
        "        Returns:\n",
        "            torch.Tensor: 観測したデータか、それとも生成されたデータかの判定結果\n",
        "        \"\"\"\n",
        "\n",
        "        if obs_data is not None:\n",
        "          # 生成データを識別器に入力する場合\n",
        "            return [self.layers(i) for i in torch.unbind(obs_data.unsqueeze(1) * (1 - self.mask)\n",
        "                                                         + input.unsqueeze(1) * self.mask, 1)]\n",
        "            # 対角成分のみ生成したデータ、その他は観測データに\n",
        "            # データを各変数ごとに、生成したもの、その他観測したもので混ぜて、1変数ずつ生成したものを放り込む\n",
        "            # torch.unbind(x,1)はxの1次元目でテンソルをタプルに展開する\n",
        "            # minibatch数が2000、観測データの変数が6種類の場合、\n",
        "            # [2000,6]→[2000,6,6]→([2000,6], [2000,6], [2000,6], [2000,6], [2000,6], [2000,6])→([2000,1], [2000,1], [2000,1], [2000,1], [2000,1], [2000,1])\n",
        "            # returnは[torch.Size([2000, 1]),torch.Size([2000, 1]),torch.Size([2000, 1], torch.Size([2000, 1]),torch.Size([2000, 1]),torch.Size([2000, 1])]\n",
        "\n",
        "            # 注：生成した変数全種類を用いた判定はしない。\n",
        "            # すなわち、生成した変数1種類と、元の観測データたちをまとめて1つにし、それが観測結果か、生成結果を判定させる\n",
        "\n",
        "        else:\n",
        "            # 観測データを識別器に入力する場合\n",
        "\n",
        "            return self.layers(input)\n",
        "            # returnは[torch.Size([2000, 1])]\n",
        "\n",
        "\n",
        "    def reset_parameters(self):\n",
        "        \"\"\"識別器Dの重みパラメータの初期化を実施\"\"\"\n",
        "        for layer in self.layers:\n",
        "            if hasattr(layer, 'reset_parameters'):\n",
        "                layer.reset_parameters()"
      ],
      "execution_count": null,
      "outputs": []
    },
    {
      "cell_type": "code",
      "metadata": {
        "colab": {
          "base_uri": "https://localhost:8080/"
        },
        "id": "6l1tbMD1mwtf",
        "outputId": "033c9af3-3568-4955-d918-b8de3e096f3f"
      },
      "source": [
        "from cdt.utils.torch import ChannelBatchNorm1d, MatrixSampler, Linear3D\n",
        "\n",
        "\n",
        "class SAMGenerator(nn.Module):\n",
        "    \"\"\"SAMのGeneratorのニューラルネットワーク\n",
        "    \"\"\"\n",
        "\n",
        "    def __init__(self, data_shape, nh):\n",
        "        \"\"\"初期化\"\"\"\n",
        "        super(SAMGenerator, self).__init__()\n",
        "\n",
        "        # ----------------------------------\n",
        "        # 対角成分のみ0で、残りは1のmaskとなる変数skeletonを作成\n",
        "        # ※最後の行は、全部1です\n",
        "        # ----------------------------------\n",
        "        nb_vars = data_shape[1]  # 変数の数\n",
        "        skeleton = 1 - torch.eye(nb_vars + 1, nb_vars)\n",
        "\n",
        "        self.register_buffer('skeleton', skeleton)\n",
        "\n",
        "        # 注意：register_bufferはmodelのパラメータではないが、その後forwardで使う変数を登録するPyTorchのメソッドです\n",
        "        # self.変数名で、以降も使用可能になります\n",
        "        # https://pytorch.org/docs/stable/nn.html?highlight=register_buffer#torch.nn.Module.register_buffer\n",
        "\n",
        "        # ----------------------------------\n",
        "        # ネットワークの用意\n",
        "        # ----------------------------------\n",
        "        # 入力層（SAMの形での全結合層）　\n",
        "        self.input_layer = Linear3D(\n",
        "            (nb_vars, nb_vars + 1, nh))  # nhは中間層のニューロン数\n",
        "        # https://github.com/FenTechSolutions/CausalDiscoveryToolbox/blob/32200779ab9b63762be3a24a2147cff09ba2bb72/cdt/utils/torch.py#L289\n",
        "\n",
        "        # 中間層\n",
        "        layers = []\n",
        "        # 2次元を1次元に変換してバッチノーマライゼーションするモジュール\n",
        "        layers.append(ChannelBatchNorm1d(nb_vars, nh))\n",
        "        layers.append(nn.Tanh())\n",
        "        self.layers = nn.Sequential(*layers)\n",
        "\n",
        "        # ChannelBatchNorm1d\n",
        "        # https://github.com/FenTechSolutions/CausalDiscoveryToolbox/blob/32200779ab9b63762be3a24a2147cff09ba2bb72/cdt/utils/torch.py#L130\n",
        "\n",
        "        # 出力層（再度、SAMの形での全結合層）\n",
        "        self.output_layer = Linear3D((nb_vars, nh, 1))\n",
        "\n",
        "    def forward(self, data, noise, adj_matrix, drawn_neurons=None):\n",
        "        \"\"\"　順伝搬の計算\n",
        "        Args:\n",
        "            data (torch.Tensor): 観測データ\n",
        "            noise (torch.Tensor): データ生成用のノイズ\n",
        "            adj_matrix (torch.Tensor): 因果関係を示す因果構造マトリクスM\n",
        "            drawn_neurons (torch.Tensor): Linear3Dの複雑さを制御する複雑さマトリクスZ\n",
        "        Returns:\n",
        "            torch.Tensor: 生成されたデータ\n",
        "        \"\"\"\n",
        "\n",
        "        # 入力層\n",
        "        x = self.input_layer(data, noise, adj_matrix *\n",
        "                             self.skeleton)  # Linear3D\n",
        "\n",
        "        # 中間層（バッチノーマライゼーションとTanh）\n",
        "        x = self.layers(x)\n",
        "\n",
        "        # 出力層\n",
        "        output = self.output_layer(\n",
        "            x, noise=None, adj_matrix=drawn_neurons)  # Linear3D\n",
        "\n",
        "        return output.squeeze(2)\n",
        "\n",
        "    def reset_parameters(self):\n",
        "        \"\"\"重みパラメータの初期化を実施\"\"\"\n",
        "\n",
        "        self.input_layer.reset_parameters()\n",
        "        self.output_layer.reset_parameters()\n",
        "\n",
        "        for layer in self.layers:\n",
        "            if hasattr(layer, 'reset_parameters'):\n",
        "                layer.reset_parameters()"
      ],
      "execution_count": null,
      "outputs": [
        {
          "output_type": "stream",
          "name": "stderr",
          "text": [
            "Detecting 1 CUDA device(s).\n"
          ]
        }
      ]
    },
    {
      "cell_type": "code",
      "metadata": {
        "id": "NrvnmoQ9mykg"
      },
      "source": [
        "# ネットワークを示す因果構造マトリクスMがDAG（有向非循環グラフ）になるように加える損失\n",
        "\n",
        "def notears_constr(adj_m, max_pow=None):\n",
        "    \"\"\"No Tears constraint for binary adjacency matrixes. \n",
        "    Args:\n",
        "        adj_m (array-like): Adjacency matrix of the graph\n",
        "        max_pow (int): maximum value to which the infinite sum is to be computed.\n",
        "           defaults to the shape of the adjacency_matrix\n",
        "    Returns:\n",
        "        np.ndarray or torch.Tensor: Scalar value of the loss with the type\n",
        "            depending on the input.\n",
        "    参考：https://github.com/FenTechSolutions/CausalDiscoveryToolbox/blob/32200779ab9b63762be3a24a2147cff09ba2bb72/cdt/utils/loss.py#L215\n",
        "    \"\"\"\n",
        "    m_exp = [adj_m]\n",
        "    if max_pow is None:\n",
        "        max_pow = adj_m.shape[1]\n",
        "    while(m_exp[-1].sum() > 0 and len(m_exp) < max_pow):\n",
        "        m_exp.append(m_exp[-1] @ adj_m/len(m_exp))\n",
        "\n",
        "    return sum([i.diag().sum() for idx, i in enumerate(m_exp)])"
      ],
      "execution_count": null,
      "outputs": []
    },
    {
      "cell_type": "code",
      "metadata": {
        "id": "NaeHMq1sm0ZR"
      },
      "source": [
        "from sklearn.preprocessing import scale\n",
        "from torch import optim\n",
        "from torch.utils.data import DataLoader\n",
        "from tqdm import tqdm\n",
        "\n",
        "\n",
        "def run_SAM(in_data, lr_gen, lr_disc, lambda1, lambda2, hlayers, nh, dnh, train_epochs, test_epochs, device):\n",
        "    '''SAMの学習を実行する関数'''\n",
        "\n",
        "    # ---------------------------------------------------\n",
        "    # 入力データの前処理\n",
        "    # ---------------------------------------------------\n",
        "    list_nodes = list(in_data.columns)  # 入力データの列名のリスト\n",
        "    data = scale(in_data[list_nodes].values)  # 入力データの正規化\n",
        "    nb_var = len(list_nodes)  # 入力データの数 = d\n",
        "    data = data.astype('float32')  # 入力データをfloat32型に\n",
        "    data = torch.from_numpy(data).to(device)  # 入力データをPyTorchのテンソルに\n",
        "    rows, cols = data.size()  # rowsはデータ数、colsは変数の数\n",
        "\n",
        "    # ---------------------------------------------------\n",
        "    # DataLoaderの作成（バッチサイズは全データ）\n",
        "    # ---------------------------------------------------\n",
        "    batch_size = rows  # 入力データ全てを使用したミニバッチ学習とする\n",
        "    data_iterator = DataLoader(data, batch_size=batch_size,\n",
        "                               shuffle=True, drop_last=True)\n",
        "    # 注意：引数のdrop_lastはdataをbatch_sizeで取り出していったときに最後に余ったものは使用しない設定\n",
        "\n",
        "    # ---------------------------------------------------\n",
        "    # 【Generator】ネットワークの生成とパラメータの初期化\n",
        "    # cols：入力変数の数、nhは中間ニューロンの数、hlayersは中間層の数\n",
        "    # neuron_samplerは、Functional gatesの変数zを学習するネットワーク\n",
        "    # graph_samplerは、Structual gatesの変数aを学習するネットワーク\n",
        "    # ---------------------------------------------------\n",
        "    sam = SAMGenerator((batch_size, cols), nh).to(device)  # 生成器G\n",
        "    graph_sampler = MatrixSampler(nb_var, mask=None, gumbel=False).to(\n",
        "        device)  # 因果構造マトリクスMを作るネットワーク\n",
        "    neuron_sampler = MatrixSampler((nh, nb_var), mask=False, gumbel=True).to(\n",
        "        device)  # 複雑さマトリクスZを作るネットワーク\n",
        "\n",
        "    # 注意：MatrixSamplerはGumbel-Softmaxを使用し、0か1を出力させるニューラルネットワーク\n",
        "    # SAMの著者らの実装モジュール、MatrixSamplerを使用\n",
        "    # https://github.com/FenTechSolutions/CausalDiscoveryToolbox/blob/32200779ab9b63762be3a24a2147cff09ba2bb72/cdt/utils/torch.py#L212\n",
        "\n",
        "    # 重みパラメータの初期化\n",
        "    sam.reset_parameters()\n",
        "    graph_sampler.weights.data.fill_(2)\n",
        "\n",
        "    # ---------------------------------------------------\n",
        "    # 【Discriminator】ネットワークの生成とパラメータの初期化\n",
        "    # cols：入力変数の数、dnhは中間ニューロンの数、hlayersは中間層の数。\n",
        "    # ---------------------------------------------------\n",
        "    discriminator = SAMDiscriminator(cols, dnh, hlayers).to(device)\n",
        "    discriminator.reset_parameters()  # 重みパラメータの初期化\n",
        "\n",
        "    # ---------------------------------------------------\n",
        "    # 最適化の設定\n",
        "    # ---------------------------------------------------\n",
        "    # 生成器\n",
        "\n",
        "    g_optimizer = optim.Adam(sam.parameters(), lr=lr_gen)\n",
        "    graph_optimizer = optim.Adam(graph_sampler.parameters(), lr=lr_gen)\n",
        "    neuron_optimizer = optim.Adam(neuron_sampler.parameters(), lr=lr_gen)\n",
        "\n",
        "    # 識別器\n",
        "    d_optimizer = optim.Adam(discriminator.parameters(), lr=lr_disc)\n",
        "\n",
        "    # 損失関数\n",
        "    criterion = nn.BCEWithLogitsLoss()\n",
        "    # nn.BCEWithLogitsLoss()は、binary cross entropy with Logistic function\n",
        "    # https://pytorch.org/docs/stable/nn.html#bcewithlogitsloss\n",
        "\n",
        "    # 損失関数のDAGに関する制約の設定パラメータ\n",
        "    dagstart = 0.5\n",
        "    dagpenalization_increase = 0.001*10\n",
        "\n",
        "    # ---------------------------------------------------\n",
        "    # forward計算、および損失関数の計算に使用する変数を用意\n",
        "    # ---------------------------------------------------\n",
        "    _true = torch.ones(1).to(device)\n",
        "    _false = torch.zeros(1).to(device)\n",
        "\n",
        "    noise = torch.randn(batch_size, nb_var).to(device)  # 生成器Gで使用する生成ノイズ\n",
        "    noise_row = torch.ones(1, nb_var).to(device)\n",
        "\n",
        "    output = torch.zeros(nb_var, nb_var).to(device)  # 求まった隣接行列\n",
        "    output_loss = torch.zeros(1, 1).to(device)\n",
        "\n",
        "    # ---------------------------------------------------\n",
        "    # forwardの計算で、ネットワークを学習させる\n",
        "    # ---------------------------------------------------\n",
        "    pbar = tqdm(range(train_epochs + test_epochs),mininterval=1)  # 進捗（progressive bar）の表示\n",
        "\n",
        "    for epoch in pbar:\n",
        "        for i_batch, batch in enumerate(data_iterator):\n",
        "\n",
        "            # 最適化を初期化\n",
        "            g_optimizer.zero_grad()\n",
        "            graph_optimizer.zero_grad()\n",
        "            neuron_optimizer.zero_grad()\n",
        "            d_optimizer.zero_grad()\n",
        "\n",
        "            # 因果構造マトリクスM（drawn_graph）と複雑さマトリクスZ（drawn_neurons）をMatrixSamplerから取得\n",
        "            drawn_graph = graph_sampler()\n",
        "            drawn_neurons = neuron_sampler()\n",
        "            # (drawn_graph)のサイズは、torch.Size([nb_var, nb_var])。 出力値は0か1\n",
        "            # (drawn_neurons)のサイズは、torch.Size([nh, nb_var])。 出力値は0か1\n",
        "\n",
        "            # ノイズをリセットし、生成器Gで疑似データを生成\n",
        "            noise.normal_()\n",
        "            generated_variables = sam(data=batch, noise=noise,\n",
        "                                      adj_matrix=torch.cat(\n",
        "                                          [drawn_graph, noise_row], 0),\n",
        "                                      drawn_neurons=drawn_neurons)\n",
        "\n",
        "            # 識別器Dで判定\n",
        "            # 観測変数のリスト[]で、各torch.Size([data数, 1])が求まる\n",
        "            disc_vars_d = discriminator(generated_variables.detach(), batch)\n",
        "            # 観測変数のリスト[] で、各torch.Size([data数, 1])が求まる\n",
        "            disc_vars_g = discriminator(generated_variables, batch)\n",
        "            true_vars_disc = discriminator(batch)  # torch.Size([data数, 1])が求まる\n",
        "\n",
        "            # 損失関数の計算（DCGAN）\n",
        "            disc_loss = sum([criterion(gen, _false.expand_as(gen)) for gen in disc_vars_d]) / nb_var \\\n",
        "                + criterion(true_vars_disc, _true.expand_as(true_vars_disc))\n",
        "\n",
        "            gen_loss = sum([criterion(gen,\n",
        "                                      _true.expand_as(gen))\n",
        "                            for gen in disc_vars_g])\n",
        "\n",
        "            # 損失の計算（SAM論文のオリジナルのfgan）\n",
        "            #disc_loss = sum([torch.mean(torch.exp(gen - 1)) for gen in disc_vars_d]) / nb_var - torch.mean(true_vars_disc)\n",
        "            #gen_loss = -sum([torch.mean(torch.exp(gen - 1)) for gen in disc_vars_g])\n",
        "\n",
        "            # 識別器Dのバックプロパゲーションとパラメータの更新\n",
        "            if epoch < train_epochs:\n",
        "                disc_loss.backward()\n",
        "                d_optimizer.step()\n",
        "\n",
        "            # 生成器のGの損失の計算の残り（マトリクスの複雑さとDAGのNO TEAR）\n",
        "            struc_loss = lambda1 / batch_size*drawn_graph.sum()     # Mのloss\n",
        "            func_loss = lambda2 / batch_size*drawn_neurons.sum()   # Aのloss\n",
        "\n",
        "            regul_loss = struc_loss + func_loss\n",
        "\n",
        "            if epoch <= train_epochs * dagstart:\n",
        "                # epochが基準前のときは、DAGになるようにMへのNO TEARSの制限はかけない\n",
        "                loss = gen_loss + regul_loss\n",
        "\n",
        "            else:\n",
        "                # epochが基準後のときは、DAGになるようにNO TEARSの制限をかける\n",
        "                filters = graph_sampler.get_proba()  # マトリクスMの要素を取得（ただし、0,1ではなく、1の確率）\n",
        "                dag_constraint = notears_constr(filters*filters)  # NO TERARの計算\n",
        "\n",
        "                # 徐々に線形にDAGの正則を強くする\n",
        "                loss = gen_loss + regul_loss + \\\n",
        "                    ((epoch - train_epochs * dagstart) *\n",
        "                     dagpenalization_increase) * dag_constraint\n",
        "\n",
        "            if epoch >= train_epochs:\n",
        "                # testのepochの場合、結果を取得\n",
        "                output.add_(filters.data)\n",
        "                output_loss.add_(gen_loss.data)\n",
        "            else:\n",
        "                # trainのepochの場合、生成器Gのバックプロパゲーションと更新\n",
        "                # retain_graph=Trueにすることで、以降3つのstep()が実行できる\n",
        "                loss.backward(retain_graph=True)\n",
        "                g_optimizer.step()\n",
        "                graph_optimizer.step()\n",
        "                neuron_optimizer.step()\n",
        "\n",
        "            # 進捗の表示\n",
        "            if epoch % 50 == 0:\n",
        "                pbar.set_postfix(gen=gen_loss.item()/cols,\n",
        "                                 disc=disc_loss.item(),\n",
        "                                 regul_loss=regul_loss.item(),\n",
        "                                 tot=loss.item())\n",
        "\n",
        "    return output.cpu().numpy()/test_epochs, output_loss.cpu().numpy()/test_epochs/cols  # Mと損失を出力\n"
      ],
      "execution_count": null,
      "outputs": []
    },
    {
      "cell_type": "code",
      "metadata": {
        "colab": {
          "base_uri": "https://localhost:8080/"
        },
        "id": "NG3vj3TOm2Ek",
        "outputId": "fd13b6fe-f070-4854-e16e-14624e03a7cf"
      },
      "source": [
        "# GPUの使用確認：True or False\n",
        "torch.cuda.is_available()"
      ],
      "execution_count": null,
      "outputs": [
        {
          "output_type": "execute_result",
          "data": {
            "text/plain": [
              "True"
            ]
          },
          "metadata": {},
          "execution_count": 110
        }
      ]
    },
    {
      "cell_type": "code",
      "metadata": {
        "colab": {
          "base_uri": "https://localhost:8080/",
          "height": 444
        },
        "id": "L_VYzWR_m38x",
        "outputId": "1437720e-5038-4b89-8928-5f4c0224a72b"
      },
      "source": [
        "df"
      ],
      "execution_count": null,
      "outputs": [
        {
          "output_type": "execute_result",
          "data": {
            "text/html": [
              "<div>\n",
              "<style scoped>\n",
              "    .dataframe tbody tr th:only-of-type {\n",
              "        vertical-align: middle;\n",
              "    }\n",
              "\n",
              "    .dataframe tbody tr th {\n",
              "        vertical-align: top;\n",
              "    }\n",
              "\n",
              "    .dataframe thead th {\n",
              "        text-align: right;\n",
              "    }\n",
              "</style>\n",
              "<table border=\"1\" class=\"dataframe\">\n",
              "  <thead>\n",
              "    <tr style=\"text-align: right;\">\n",
              "      <th></th>\n",
              "      <th>Age</th>\n",
              "      <th>Sex</th>\n",
              "      <th>RestingBP</th>\n",
              "      <th>Cholesterol</th>\n",
              "      <th>FastingBS</th>\n",
              "      <th>MaxHR</th>\n",
              "      <th>ExerciseAngina</th>\n",
              "      <th>Oldpeak</th>\n",
              "      <th>HeartDisease</th>\n",
              "      <th>RestingECG_LVH</th>\n",
              "      <th>RestingECG_Normal</th>\n",
              "      <th>RestingECG_ST</th>\n",
              "      <th>ChestPainType_ASY</th>\n",
              "      <th>ChestPainType_ATA</th>\n",
              "      <th>ChestPainType_NAP</th>\n",
              "      <th>ChestPainType_TA</th>\n",
              "      <th>ST_Slope_Down</th>\n",
              "      <th>ST_Slope_Flat</th>\n",
              "      <th>ST_Slope_Up</th>\n",
              "    </tr>\n",
              "  </thead>\n",
              "  <tbody>\n",
              "    <tr>\n",
              "      <th>0</th>\n",
              "      <td>40</td>\n",
              "      <td>1</td>\n",
              "      <td>140</td>\n",
              "      <td>289</td>\n",
              "      <td>0</td>\n",
              "      <td>172</td>\n",
              "      <td>0</td>\n",
              "      <td>0.0</td>\n",
              "      <td>0</td>\n",
              "      <td>0</td>\n",
              "      <td>1</td>\n",
              "      <td>0</td>\n",
              "      <td>0</td>\n",
              "      <td>1</td>\n",
              "      <td>0</td>\n",
              "      <td>0</td>\n",
              "      <td>0</td>\n",
              "      <td>0</td>\n",
              "      <td>1</td>\n",
              "    </tr>\n",
              "    <tr>\n",
              "      <th>1</th>\n",
              "      <td>49</td>\n",
              "      <td>0</td>\n",
              "      <td>160</td>\n",
              "      <td>180</td>\n",
              "      <td>0</td>\n",
              "      <td>156</td>\n",
              "      <td>0</td>\n",
              "      <td>1.0</td>\n",
              "      <td>1</td>\n",
              "      <td>0</td>\n",
              "      <td>1</td>\n",
              "      <td>0</td>\n",
              "      <td>0</td>\n",
              "      <td>0</td>\n",
              "      <td>1</td>\n",
              "      <td>0</td>\n",
              "      <td>0</td>\n",
              "      <td>1</td>\n",
              "      <td>0</td>\n",
              "    </tr>\n",
              "    <tr>\n",
              "      <th>2</th>\n",
              "      <td>37</td>\n",
              "      <td>1</td>\n",
              "      <td>130</td>\n",
              "      <td>283</td>\n",
              "      <td>0</td>\n",
              "      <td>98</td>\n",
              "      <td>0</td>\n",
              "      <td>0.0</td>\n",
              "      <td>0</td>\n",
              "      <td>0</td>\n",
              "      <td>0</td>\n",
              "      <td>1</td>\n",
              "      <td>0</td>\n",
              "      <td>1</td>\n",
              "      <td>0</td>\n",
              "      <td>0</td>\n",
              "      <td>0</td>\n",
              "      <td>0</td>\n",
              "      <td>1</td>\n",
              "    </tr>\n",
              "    <tr>\n",
              "      <th>3</th>\n",
              "      <td>48</td>\n",
              "      <td>0</td>\n",
              "      <td>138</td>\n",
              "      <td>214</td>\n",
              "      <td>0</td>\n",
              "      <td>108</td>\n",
              "      <td>1</td>\n",
              "      <td>1.5</td>\n",
              "      <td>1</td>\n",
              "      <td>0</td>\n",
              "      <td>1</td>\n",
              "      <td>0</td>\n",
              "      <td>1</td>\n",
              "      <td>0</td>\n",
              "      <td>0</td>\n",
              "      <td>0</td>\n",
              "      <td>0</td>\n",
              "      <td>1</td>\n",
              "      <td>0</td>\n",
              "    </tr>\n",
              "    <tr>\n",
              "      <th>4</th>\n",
              "      <td>54</td>\n",
              "      <td>1</td>\n",
              "      <td>150</td>\n",
              "      <td>195</td>\n",
              "      <td>0</td>\n",
              "      <td>122</td>\n",
              "      <td>0</td>\n",
              "      <td>0.0</td>\n",
              "      <td>0</td>\n",
              "      <td>0</td>\n",
              "      <td>1</td>\n",
              "      <td>0</td>\n",
              "      <td>0</td>\n",
              "      <td>0</td>\n",
              "      <td>1</td>\n",
              "      <td>0</td>\n",
              "      <td>0</td>\n",
              "      <td>0</td>\n",
              "      <td>1</td>\n",
              "    </tr>\n",
              "    <tr>\n",
              "      <th>...</th>\n",
              "      <td>...</td>\n",
              "      <td>...</td>\n",
              "      <td>...</td>\n",
              "      <td>...</td>\n",
              "      <td>...</td>\n",
              "      <td>...</td>\n",
              "      <td>...</td>\n",
              "      <td>...</td>\n",
              "      <td>...</td>\n",
              "      <td>...</td>\n",
              "      <td>...</td>\n",
              "      <td>...</td>\n",
              "      <td>...</td>\n",
              "      <td>...</td>\n",
              "      <td>...</td>\n",
              "      <td>...</td>\n",
              "      <td>...</td>\n",
              "      <td>...</td>\n",
              "      <td>...</td>\n",
              "    </tr>\n",
              "    <tr>\n",
              "      <th>913</th>\n",
              "      <td>45</td>\n",
              "      <td>1</td>\n",
              "      <td>110</td>\n",
              "      <td>264</td>\n",
              "      <td>0</td>\n",
              "      <td>132</td>\n",
              "      <td>0</td>\n",
              "      <td>1.2</td>\n",
              "      <td>1</td>\n",
              "      <td>0</td>\n",
              "      <td>1</td>\n",
              "      <td>0</td>\n",
              "      <td>0</td>\n",
              "      <td>0</td>\n",
              "      <td>0</td>\n",
              "      <td>1</td>\n",
              "      <td>0</td>\n",
              "      <td>1</td>\n",
              "      <td>0</td>\n",
              "    </tr>\n",
              "    <tr>\n",
              "      <th>914</th>\n",
              "      <td>68</td>\n",
              "      <td>1</td>\n",
              "      <td>144</td>\n",
              "      <td>193</td>\n",
              "      <td>1</td>\n",
              "      <td>141</td>\n",
              "      <td>0</td>\n",
              "      <td>3.4</td>\n",
              "      <td>1</td>\n",
              "      <td>0</td>\n",
              "      <td>1</td>\n",
              "      <td>0</td>\n",
              "      <td>1</td>\n",
              "      <td>0</td>\n",
              "      <td>0</td>\n",
              "      <td>0</td>\n",
              "      <td>0</td>\n",
              "      <td>1</td>\n",
              "      <td>0</td>\n",
              "    </tr>\n",
              "    <tr>\n",
              "      <th>915</th>\n",
              "      <td>57</td>\n",
              "      <td>1</td>\n",
              "      <td>130</td>\n",
              "      <td>131</td>\n",
              "      <td>0</td>\n",
              "      <td>115</td>\n",
              "      <td>1</td>\n",
              "      <td>1.2</td>\n",
              "      <td>1</td>\n",
              "      <td>0</td>\n",
              "      <td>1</td>\n",
              "      <td>0</td>\n",
              "      <td>1</td>\n",
              "      <td>0</td>\n",
              "      <td>0</td>\n",
              "      <td>0</td>\n",
              "      <td>0</td>\n",
              "      <td>1</td>\n",
              "      <td>0</td>\n",
              "    </tr>\n",
              "    <tr>\n",
              "      <th>916</th>\n",
              "      <td>57</td>\n",
              "      <td>0</td>\n",
              "      <td>130</td>\n",
              "      <td>236</td>\n",
              "      <td>0</td>\n",
              "      <td>174</td>\n",
              "      <td>0</td>\n",
              "      <td>0.0</td>\n",
              "      <td>1</td>\n",
              "      <td>1</td>\n",
              "      <td>0</td>\n",
              "      <td>0</td>\n",
              "      <td>0</td>\n",
              "      <td>1</td>\n",
              "      <td>0</td>\n",
              "      <td>0</td>\n",
              "      <td>0</td>\n",
              "      <td>1</td>\n",
              "      <td>0</td>\n",
              "    </tr>\n",
              "    <tr>\n",
              "      <th>917</th>\n",
              "      <td>38</td>\n",
              "      <td>1</td>\n",
              "      <td>138</td>\n",
              "      <td>175</td>\n",
              "      <td>0</td>\n",
              "      <td>173</td>\n",
              "      <td>0</td>\n",
              "      <td>0.0</td>\n",
              "      <td>0</td>\n",
              "      <td>0</td>\n",
              "      <td>1</td>\n",
              "      <td>0</td>\n",
              "      <td>0</td>\n",
              "      <td>0</td>\n",
              "      <td>1</td>\n",
              "      <td>0</td>\n",
              "      <td>0</td>\n",
              "      <td>0</td>\n",
              "      <td>1</td>\n",
              "    </tr>\n",
              "  </tbody>\n",
              "</table>\n",
              "<p>918 rows × 19 columns</p>\n",
              "</div>"
            ],
            "text/plain": [
              "     Age  Sex  RestingBP  ...  ST_Slope_Down  ST_Slope_Flat  ST_Slope_Up\n",
              "0     40    1        140  ...              0              0            1\n",
              "1     49    0        160  ...              0              1            0\n",
              "2     37    1        130  ...              0              0            1\n",
              "3     48    0        138  ...              0              1            0\n",
              "4     54    1        150  ...              0              0            1\n",
              "..   ...  ...        ...  ...            ...            ...          ...\n",
              "913   45    1        110  ...              0              1            0\n",
              "914   68    1        144  ...              0              1            0\n",
              "915   57    1        130  ...              0              1            0\n",
              "916   57    0        130  ...              0              1            0\n",
              "917   38    1        138  ...              0              0            1\n",
              "\n",
              "[918 rows x 19 columns]"
            ]
          },
          "metadata": {},
          "execution_count": 111
        }
      ]
    },
    {
      "cell_type": "code",
      "metadata": {
        "colab": {
          "base_uri": "https://localhost:8080/"
        },
        "id": "CmRxuNkpm56Y",
        "outputId": "3169c6ff-8803-4f8a-fd32-594c6551424c"
      },
      "source": [
        "# numpyの出力を小数点2桁に\n",
        "np.set_printoptions(precision=2, floatmode='fixed', suppress=True)\n",
        "\n",
        "# 因果探索の結果を格納するリスト\n",
        "m_list = []\n",
        "loss_list = []\n",
        "\n",
        "for i in range(5):\n",
        "    m, loss = run_SAM(in_data=df, lr_gen=0.01*0.5,\n",
        "                      lr_disc=0.01*0.5*2,\n",
        "                      #lambda1=0.01, lambda2=1e-05,\n",
        "                      lambda1=5.0*20, lambda2=0.005*20,\n",
        "                      hlayers=2,\n",
        "                      nh=200, dnh=200,\n",
        "                      train_epochs=10000,\n",
        "                      test_epochs=1000,\n",
        "                      device='cuda:0')\n",
        "\n",
        "    print(loss)\n",
        "    print(m)\n",
        "\n",
        "    m_list.append(m)\n",
        "    loss_list.append(loss)"
      ],
      "execution_count": null,
      "outputs": [
        {
          "output_type": "stream",
          "name": "stderr",
          "text": [
            "100%|██████████| 11000/11000 [17:42<00:00, 10.35it/s, disc=0.554, gen=7.68, regul_loss=7.47, tot=154]\n"
          ]
        },
        {
          "output_type": "stream",
          "name": "stdout",
          "text": [
            "[[8.02]]\n",
            "[[0.00 0.00 0.97 0.00 0.00 0.01 0.00 0.00 0.00 0.00 0.00 0.00 0.00 0.00\n",
            "  0.00 0.00 0.00 0.00 0.00]\n",
            " [0.00 0.00 0.00 0.98 0.62 0.99 0.88 0.00 0.99 0.00 0.00 0.00 0.00 0.00\n",
            "  0.00 0.00 0.00 0.00 0.00]\n",
            " [0.00 0.00 0.00 0.01 0.00 0.00 0.00 0.00 0.00 0.00 0.00 0.00 0.00 0.00\n",
            "  0.00 0.00 0.00 0.00 0.00]\n",
            " [0.00 0.00 0.98 0.00 0.01 0.44 0.87 0.01 0.99 0.00 0.00 0.00 0.00 0.00\n",
            "  0.00 0.00 0.00 0.00 0.00]\n",
            " [0.98 0.01 0.00 0.99 0.00 0.00 0.99 0.00 0.95 0.00 0.00 0.00 0.00 0.00\n",
            "  0.00 0.00 0.00 0.00 0.00]\n",
            " [0.90 0.01 0.00 0.01 0.00 0.00 0.00 0.01 0.00 0.00 0.00 0.00 0.00 0.00\n",
            "  0.00 0.00 0.00 0.00 0.00]\n",
            " [0.00 0.01 0.99 0.00 0.00 0.99 0.00 0.99 0.96 0.00 0.00 0.00 0.00 0.00\n",
            "  0.00 0.00 0.00 0.00 0.00]\n",
            " [0.98 0.00 0.97 0.00 0.00 0.99 0.00 0.00 0.98 0.00 0.00 0.00 0.00 0.00\n",
            "  0.00 0.00 0.00 0.00 0.00]\n",
            " [0.00 0.01 0.00 0.01 0.01 0.99 0.00 0.00 0.00 0.00 0.00 0.00 0.00 0.00\n",
            "  0.00 0.00 0.00 0.00 0.00]\n",
            " [0.97 0.00 0.00 0.99 0.81 0.96 0.00 0.98 0.00 0.00 0.00 0.00 0.00 0.00\n",
            "  0.00 0.00 0.00 0.00 0.00]\n",
            " [0.96 0.79 0.00 0.00 0.00 0.00 0.00 0.00 0.00 0.95 0.00 0.01 0.00 0.00\n",
            "  0.00 0.00 0.00 0.00 0.00]\n",
            " [0.00 0.00 0.00 0.00 0.00 0.00 0.00 0.00 0.00 0.99 0.97 0.00 0.00 0.00\n",
            "  0.00 0.00 0.00 0.00 0.00]\n",
            " [0.99 0.00 0.97 0.99 0.95 0.99 0.98 0.96 0.98 0.00 0.00 0.00 0.00 0.00\n",
            "  0.04 0.00 0.00 0.00 0.98]\n",
            " [0.98 0.97 0.00 0.00 0.00 0.00 0.00 0.00 0.06 0.00 0.00 0.00 0.98 0.00\n",
            "  0.98 0.01 0.00 0.00 0.20]\n",
            " [0.00 0.00 0.00 0.93 0.00 0.00 0.00 0.00 0.00 0.00 0.00 0.00 0.96 0.00\n",
            "  0.00 0.00 0.00 0.00 0.00]\n",
            " [0.76 0.00 0.92 0.47 0.00 0.98 0.91 0.99 0.00 0.00 0.86 0.00 1.00 0.22\n",
            "  0.97 0.00 0.00 0.00 0.00]\n",
            " [0.29 0.00 0.95 0.00 0.00 0.00 0.00 0.90 0.00 0.00 0.00 0.00 0.00 0.00\n",
            "  0.00 0.00 0.00 0.94 0.96]\n",
            " [0.00 0.00 0.98 0.99 0.00 0.98 0.00 0.00 0.89 0.00 0.00 0.00 0.00 0.00\n",
            "  0.00 0.00 0.00 0.00 0.05]\n",
            " [0.00 0.97 0.00 0.00 0.00 0.00 0.98 0.97 0.99 0.00 0.00 0.00 0.00 0.00\n",
            "  0.00 0.00 0.00 0.98 0.00]]\n"
          ]
        },
        {
          "output_type": "stream",
          "name": "stderr",
          "text": [
            "100%|██████████| 11000/11000 [17:39<00:00, 10.38it/s, disc=0.392, gen=9.74, regul_loss=5.94, tot=193]\n"
          ]
        },
        {
          "output_type": "stream",
          "name": "stdout",
          "text": [
            "[[9.61]]\n",
            "[[0.00 0.00 0.89 0.00 0.00 0.01 0.00 0.01 0.00 0.00 0.00 0.00 0.00 0.00\n",
            "  0.00 0.00 0.00 0.00 0.00]\n",
            " [0.01 0.00 0.00 0.99 0.57 0.01 0.00 0.00 0.01 0.00 0.00 0.00 0.00 0.00\n",
            "  0.00 0.00 0.00 0.00 0.00]\n",
            " [0.01 0.00 0.00 0.99 0.00 0.00 0.00 0.00 0.00 0.00 0.00 0.00 0.00 0.00\n",
            "  0.00 0.00 0.00 0.00 0.00]\n",
            " [0.00 0.01 0.00 0.00 0.01 0.00 0.00 0.00 0.00 0.00 0.00 0.00 0.00 0.00\n",
            "  0.00 0.00 0.00 0.00 0.00]\n",
            " [0.97 0.03 0.00 0.98 0.00 0.01 0.02 0.00 0.00 0.00 0.00 0.00 0.00 0.00\n",
            "  0.00 0.00 0.00 0.00 0.00]\n",
            " [0.99 0.89 0.00 0.98 0.00 0.00 0.00 0.00 0.01 0.00 0.00 0.00 0.00 0.00\n",
            "  0.00 0.00 0.00 0.01 0.00]\n",
            " [0.00 0.00 0.90 0.99 0.00 0.98 0.00 0.99 0.01 0.00 0.00 0.00 0.00 0.00\n",
            "  0.00 0.00 0.00 0.00 0.00]\n",
            " [0.09 0.87 0.00 0.98 0.00 1.00 0.00 0.00 0.02 0.00 0.00 0.00 0.00 0.00\n",
            "  0.00 0.00 0.00 0.01 0.00]\n",
            " [0.99 0.35 0.00 0.99 0.02 0.76 0.29 0.00 0.00 0.00 0.00 0.00 0.00 0.00\n",
            "  0.00 0.00 0.00 0.96 0.00]\n",
            " [0.00 0.00 0.00 0.98 0.00 0.99 0.00 0.85 0.01 0.00 0.18 0.00 0.00 0.00\n",
            "  0.00 0.00 0.00 0.00 0.00]\n",
            " [0.97 0.00 0.95 0.00 0.00 0.00 0.00 0.00 0.00 0.17 0.00 0.01 0.00 0.00\n",
            "  0.00 0.00 0.00 0.00 0.00]\n",
            " [0.00 0.00 0.00 0.97 0.00 0.98 0.01 0.00 0.00 0.99 1.00 0.00 0.00 0.00\n",
            "  0.00 0.00 0.00 0.00 0.00]\n",
            " [0.05 0.00 0.00 0.00 0.98 0.98 0.98 0.01 0.99 0.00 0.00 0.00 0.00 0.01\n",
            "  0.00 0.00 0.00 0.00 0.00]\n",
            " [0.06 0.81 0.00 0.00 0.00 0.00 0.00 0.10 0.90 0.00 0.00 0.00 0.97 0.00\n",
            "  0.00 0.00 0.00 0.00 0.00]\n",
            " [0.00 0.00 0.83 0.00 0.00 0.00 0.00 0.77 0.00 0.00 0.00 0.00 0.99 0.96\n",
            "  0.00 0.00 0.00 0.00 0.00]\n",
            " [0.00 0.00 0.00 0.00 0.00 0.85 0.00 0.00 0.00 0.00 0.00 0.00 0.88 0.28\n",
            "  0.93 0.00 0.00 0.00 0.00]\n",
            " [0.80 0.00 0.55 0.00 0.87 0.00 0.00 0.64 0.00 0.00 0.00 0.99 0.00 0.00\n",
            "  0.00 0.00 0.00 0.01 0.01]\n",
            " [0.00 0.00 0.89 0.99 0.00 0.98 0.00 0.00 0.03 0.00 0.00 0.00 0.00 0.00\n",
            "  0.00 0.00 0.95 0.00 1.00]\n",
            " [0.98 0.00 0.00 0.00 0.00 0.02 0.81 0.81 0.04 0.00 0.00 0.00 0.00 0.00\n",
            "  0.00 0.00 0.98 0.11 0.00]]\n"
          ]
        },
        {
          "output_type": "stream",
          "name": "stderr",
          "text": [
            "100%|██████████| 11000/11000 [17:42<00:00, 10.35it/s, disc=0.848, gen=6.29, regul_loss=6.51, tot=127]\n"
          ]
        },
        {
          "output_type": "stream",
          "name": "stdout",
          "text": [
            "[[6.54]]\n",
            "[[0.00 0.00 0.92 0.00 0.00 0.99 0.00 0.01 0.44 0.00 0.00 0.00 0.00 0.00\n",
            "  0.00 0.00 0.00 0.00 0.00]\n",
            " [0.01 0.00 0.00 0.01 0.00 0.00 0.98 0.00 0.98 0.00 0.00 0.00 0.00 0.00\n",
            "  0.00 0.00 0.00 0.00 0.00]\n",
            " [0.01 0.00 0.00 0.96 0.00 0.01 0.01 0.00 0.00 0.00 0.00 0.00 0.00 0.00\n",
            "  0.00 0.00 0.00 0.00 0.00]\n",
            " [0.01 0.95 0.00 0.00 0.00 0.01 0.78 0.01 0.99 0.00 0.00 0.00 0.00 0.00\n",
            "  0.00 0.00 0.00 0.00 0.00]\n",
            " [0.95 0.24 0.00 0.99 0.00 0.00 0.00 0.99 0.99 0.00 0.00 0.00 0.00 0.00\n",
            "  0.00 0.95 0.00 0.00 0.00]\n",
            " [0.01 0.96 0.86 0.99 0.00 0.00 0.95 0.00 0.00 0.00 0.00 0.00 0.00 0.00\n",
            "  0.00 0.00 0.00 0.00 0.00]\n",
            " [0.00 0.00 0.01 0.00 0.00 0.00 0.00 0.00 0.98 0.00 0.00 0.00 0.00 0.00\n",
            "  0.00 0.00 0.00 0.00 0.00]\n",
            " [0.98 0.00 0.91 0.98 0.00 0.98 0.97 0.00 0.95 0.00 0.00 0.00 0.00 0.00\n",
            "  0.00 0.00 0.00 0.00 0.00]\n",
            " [0.01 0.00 0.00 0.01 0.00 0.00 0.00 0.00 0.00 0.00 0.00 0.00 0.00 0.00\n",
            "  0.00 0.00 0.00 0.00 0.00]\n",
            " [0.00 0.00 0.00 0.93 0.00 0.97 0.00 0.00 0.00 0.00 0.99 0.01 0.00 0.00\n",
            "  0.00 0.00 0.00 0.00 0.00]\n",
            " [0.96 0.00 0.00 0.00 0.22 0.00 0.00 0.00 0.00 0.01 0.00 0.02 0.00 0.00\n",
            "  0.00 0.00 0.00 0.00 0.00]\n",
            " [0.00 0.00 0.00 0.00 0.00 0.00 0.00 0.00 0.00 0.87 0.98 0.00 0.00 0.00\n",
            "  0.00 0.00 0.00 0.00 0.00]\n",
            " [0.00 0.00 0.00 0.99 0.00 0.97 0.97 0.00 0.98 0.00 0.00 0.00 0.00 0.01\n",
            "  0.00 0.00 0.00 0.00 0.00]\n",
            " [0.97 0.56 0.00 0.98 0.00 0.00 0.00 0.00 0.00 0.00 0.00 0.00 0.99 0.00\n",
            "  0.00 0.00 0.00 0.00 0.96]\n",
            " [0.00 0.00 0.97 0.00 0.00 0.00 0.00 0.91 0.00 0.00 0.00 0.00 0.96 0.83\n",
            "  0.00 0.00 0.00 0.00 0.00]\n",
            " [0.01 0.00 0.39 0.00 0.00 0.65 0.87 0.17 0.00 0.00 0.00 0.00 0.98 0.96\n",
            "  0.93 0.00 0.00 0.00 0.00]\n",
            " [0.89 0.00 0.03 0.00 0.00 0.00 0.00 0.96 0.00 0.99 0.00 0.00 0.00 0.00\n",
            "  0.00 0.00 0.00 0.00 0.01]\n",
            " [0.00 0.00 0.00 0.00 0.01 0.84 0.99 0.00 0.95 0.00 0.00 0.00 0.00 0.00\n",
            "  0.00 0.00 0.97 0.00 0.05]\n",
            " [0.00 0.00 0.00 0.00 0.00 0.99 0.01 0.97 0.98 0.00 0.00 0.00 0.00 0.00\n",
            "  0.00 0.00 0.95 0.99 0.00]]\n"
          ]
        },
        {
          "output_type": "stream",
          "name": "stderr",
          "text": [
            "100%|██████████| 11000/11000 [17:39<00:00, 10.38it/s, disc=0.552, gen=7.37, regul_loss=7.26, tot=150]\n"
          ]
        },
        {
          "output_type": "stream",
          "name": "stdout",
          "text": [
            "[[7.28]]\n",
            "[[0.00 0.00 0.97 0.00 0.00 0.98 0.00 0.00 0.00 0.00 0.00 0.00 0.00 0.00\n",
            "  0.00 0.00 0.00 0.00 0.00]\n",
            " [0.93 0.00 0.00 0.97 0.95 0.95 0.00 0.00 0.95 0.00 0.00 0.00 0.00 0.00\n",
            "  0.00 0.00 0.00 0.00 0.00]\n",
            " [0.00 0.00 0.00 0.00 0.00 0.00 0.00 0.00 0.00 0.00 0.00 0.00 0.00 0.00\n",
            "  0.00 0.00 0.00 0.00 0.00]\n",
            " [0.98 0.00 0.97 0.00 0.01 0.97 0.94 0.98 0.04 0.00 0.00 0.00 0.00 0.00\n",
            "  0.00 0.00 0.00 0.00 0.00]\n",
            " [0.97 0.00 0.95 0.98 0.00 0.00 0.00 0.88 0.95 0.00 0.00 0.00 0.00 0.00\n",
            "  0.00 0.00 0.00 0.00 0.00]\n",
            " [0.01 0.00 0.00 0.00 0.00 0.00 0.00 0.00 0.00 0.00 0.00 0.00 0.00 0.00\n",
            "  0.00 0.00 0.00 0.00 0.00]\n",
            " [0.00 0.00 0.95 0.00 0.00 0.99 0.00 0.97 0.01 0.00 0.00 0.00 0.00 0.00\n",
            "  0.00 0.00 0.00 0.00 0.01]\n",
            " [0.92 0.00 0.97 0.00 0.00 1.00 0.00 0.00 0.01 0.00 0.00 0.00 0.00 0.00\n",
            "  0.00 0.00 0.00 0.00 0.01]\n",
            " [0.98 0.00 0.00 0.92 0.01 0.94 0.96 0.98 0.00 0.00 0.00 0.00 0.00 0.00\n",
            "  0.00 0.00 0.00 0.00 0.01]\n",
            " [0.97 0.01 0.00 0.97 0.00 0.97 0.00 0.00 0.00 0.00 0.96 1.00 0.00 0.00\n",
            "  0.00 0.00 0.00 0.00 0.00]\n",
            " [0.73 0.00 0.00 0.00 0.00 0.00 0.00 0.00 0.00 0.03 0.00 0.02 0.00 0.00\n",
            "  0.00 0.00 0.00 0.00 0.00]\n",
            " [0.00 0.00 0.00 0.73 0.78 0.01 0.00 0.00 0.00 0.02 0.93 0.00 0.00 0.00\n",
            "  0.00 0.00 0.00 0.00 0.00]\n",
            " [0.00 0.00 0.00 0.97 0.00 0.99 0.68 0.00 0.93 0.00 0.00 0.00 0.00 0.98\n",
            "  0.00 0.00 0.00 0.95 0.00]\n",
            " [0.02 0.89 0.00 0.00 0.00 0.00 0.00 0.18 0.60 0.00 0.00 0.00 0.01 0.00\n",
            "  0.00 0.00 0.00 0.00 0.00]\n",
            " [0.00 0.00 0.00 0.00 0.00 0.00 0.00 0.65 0.00 0.00 0.00 0.00 0.98 0.99\n",
            "  0.00 0.01 0.00 0.00 0.00]\n",
            " [0.86 0.98 0.26 0.00 0.00 0.00 0.25 0.88 0.00 0.00 0.00 0.00 1.00 0.96\n",
            "  0.01 0.00 0.00 0.82 0.39]\n",
            " [0.75 0.00 0.92 0.79 0.14 0.00 0.00 0.98 0.00 0.00 0.00 0.00 0.00 0.00\n",
            "  0.00 0.00 0.00 0.03 0.00]\n",
            " [0.00 0.00 0.00 0.91 0.00 0.99 0.00 0.00 0.82 0.00 0.00 0.00 0.00 0.12\n",
            "  0.00 0.00 0.89 0.00 1.00]\n",
            " [0.00 0.01 0.00 0.00 0.00 0.00 0.95 0.98 0.94 0.00 0.00 0.00 0.00 0.00\n",
            "  0.00 0.00 0.36 0.13 0.00]]\n"
          ]
        },
        {
          "output_type": "stream",
          "name": "stderr",
          "text": [
            "100%|██████████| 11000/11000 [17:39<00:00, 10.39it/s, disc=0.49, gen=9.23, regul_loss=6.81, tot=184]"
          ]
        },
        {
          "output_type": "stream",
          "name": "stdout",
          "text": [
            "[[9.29]]\n",
            "[[0.00 0.00 0.75 0.00 0.00 0.03 0.00 0.99 0.96 0.00 0.00 0.00 0.00 0.00\n",
            "  0.00 0.00 0.00 0.00 0.00]\n",
            " [0.01 0.00 0.00 0.00 0.00 0.00 0.00 0.00 0.01 0.00 0.00 0.00 0.00 0.00\n",
            "  0.00 0.00 0.00 0.00 0.00]\n",
            " [0.01 0.00 0.00 0.94 0.00 0.00 0.00 0.99 0.56 0.00 0.00 0.00 0.00 0.00\n",
            "  0.00 0.00 0.00 0.00 0.00]\n",
            " [0.01 0.97 0.01 0.00 0.00 0.00 0.00 0.97 0.99 0.00 0.00 0.00 0.00 0.00\n",
            "  0.00 0.00 0.00 0.00 0.00]\n",
            " [0.96 0.96 0.00 1.00 0.00 0.00 0.00 0.00 0.98 0.00 0.00 0.00 0.00 0.00\n",
            "  0.00 0.00 0.00 0.00 0.00]\n",
            " [0.94 0.00 0.98 0.98 0.97 0.00 0.00 0.97 0.00 0.00 0.00 0.00 0.00 0.00\n",
            "  0.00 0.00 0.00 0.00 0.00]\n",
            " [0.00 0.94 0.86 0.99 0.00 0.98 0.00 0.99 0.97 0.00 0.01 0.00 0.00 0.00\n",
            "  0.00 0.00 0.00 0.01 0.00]\n",
            " [0.00 0.00 0.01 0.00 0.00 0.00 0.00 0.00 0.00 0.00 0.00 0.00 0.00 0.00\n",
            "  0.00 0.00 0.00 0.00 0.00]\n",
            " [0.00 0.91 0.02 0.01 0.01 0.00 0.00 0.99 0.00 0.00 0.00 0.00 0.00 0.00\n",
            "  0.00 0.00 0.00 0.00 0.00]\n",
            " [0.97 0.00 0.00 0.99 0.00 0.96 0.00 0.88 0.00 0.00 0.01 0.83 0.00 0.00\n",
            "  0.00 0.00 0.00 0.00 0.00]\n",
            " [0.74 0.00 0.00 0.00 0.00 0.00 0.00 0.00 0.00 0.99 0.00 1.00 0.00 0.00\n",
            "  0.00 0.00 0.00 0.00 0.00]\n",
            " [0.00 0.00 0.89 0.00 0.00 0.00 0.00 0.00 0.00 0.06 0.01 0.00 0.00 0.00\n",
            "  0.00 0.00 0.00 0.00 0.00]\n",
            " [0.00 0.00 0.00 0.98 0.00 0.98 0.95 0.00 0.96 0.00 0.00 0.00 0.00 0.01\n",
            "  0.99 0.92 0.00 0.00 0.00]\n",
            " [0.34 0.00 0.00 0.95 0.00 0.00 0.00 0.01 0.04 0.00 0.00 0.00 0.95 0.00\n",
            "  0.99 0.84 0.00 0.00 0.98]\n",
            " [0.00 0.05 0.00 0.95 0.00 0.00 0.00 0.00 0.00 0.00 0.00 0.00 0.06 0.00\n",
            "  0.00 0.94 0.00 0.00 0.00]\n",
            " [0.01 0.00 0.00 0.00 0.00 0.80 0.98 0.00 0.00 0.70 0.96 0.00 0.01 0.00\n",
            "  0.00 0.00 0.00 0.00 0.00]\n",
            " [0.51 0.91 0.00 0.00 0.00 0.00 0.00 0.99 0.00 0.00 0.25 0.00 0.00 0.00\n",
            "  0.00 0.00 0.00 1.00 0.96]\n",
            " [0.96 0.00 0.99 0.00 0.00 0.97 0.00 0.00 0.99 0.00 0.00 0.00 0.00 0.00\n",
            "  0.00 0.00 0.01 0.00 0.04]\n",
            " [0.00 0.00 0.00 0.00 0.00 0.93 0.98 0.99 0.96 0.00 0.00 0.00 0.71 0.00\n",
            "  0.00 0.00 0.02 0.97 0.00]]\n"
          ]
        },
        {
          "output_type": "stream",
          "name": "stderr",
          "text": [
            "\n"
          ]
        }
      ]
    },
    {
      "cell_type": "code",
      "metadata": {
        "id": "BPOP_m7c7gbg"
      },
      "source": [
        "final_list=sum(m_list)/len(m_list)"
      ],
      "execution_count": null,
      "outputs": []
    },
    {
      "cell_type": "code",
      "metadata": {
        "colab": {
          "base_uri": "https://localhost:8080/"
        },
        "id": "Q1EA9zFT7kkq",
        "outputId": "e42b1ef9-1f8b-47b1-dc02-1d9b99b78b04"
      },
      "source": [
        "final_list"
      ],
      "execution_count": null,
      "outputs": [
        {
          "output_type": "execute_result",
          "data": {
            "text/plain": [
              "array([[0.00, 0.00, 0.90, 0.00, 0.00, 0.40, 0.00, 0.20, 0.28, 0.00, 0.00,\n",
              "        0.00, 0.00, 0.00, 0.00, 0.00, 0.00, 0.00, 0.00],\n",
              "       [0.19, 0.00, 0.00, 0.59, 0.43, 0.39, 0.37, 0.00, 0.59, 0.00, 0.00,\n",
              "        0.00, 0.00, 0.00, 0.00, 0.00, 0.00, 0.00, 0.00],\n",
              "       [0.01, 0.00, 0.00, 0.58, 0.00, 0.00, 0.00, 0.20, 0.11, 0.00, 0.00,\n",
              "        0.00, 0.00, 0.00, 0.00, 0.00, 0.00, 0.00, 0.00],\n",
              "       [0.20, 0.39, 0.39, 0.00, 0.01, 0.29, 0.52, 0.39, 0.60, 0.00, 0.00,\n",
              "        0.00, 0.00, 0.00, 0.00, 0.00, 0.00, 0.00, 0.00],\n",
              "       [0.97, 0.25, 0.19, 0.99, 0.00, 0.00, 0.20, 0.37, 0.77, 0.00, 0.00,\n",
              "        0.00, 0.00, 0.00, 0.00, 0.19, 0.00, 0.00, 0.00],\n",
              "       [0.57, 0.37, 0.37, 0.59, 0.19, 0.00, 0.19, 0.20, 0.00, 0.00, 0.00,\n",
              "        0.00, 0.00, 0.00, 0.00, 0.00, 0.00, 0.00, 0.00],\n",
              "       [0.00, 0.19, 0.74, 0.40, 0.00, 0.79, 0.00, 0.79, 0.59, 0.00, 0.00,\n",
              "        0.00, 0.00, 0.00, 0.00, 0.00, 0.00, 0.00, 0.00],\n",
              "       [0.60, 0.17, 0.57, 0.39, 0.00, 0.79, 0.20, 0.00, 0.39, 0.00, 0.00,\n",
              "        0.00, 0.00, 0.00, 0.00, 0.00, 0.00, 0.00, 0.00],\n",
              "       [0.40, 0.26, 0.00, 0.39, 0.01, 0.54, 0.25, 0.40, 0.00, 0.00, 0.00,\n",
              "        0.00, 0.00, 0.00, 0.00, 0.00, 0.00, 0.19, 0.00],\n",
              "       [0.58, 0.00, 0.00, 0.97, 0.16, 0.97, 0.00, 0.54, 0.00, 0.00, 0.43,\n",
              "        0.37, 0.00, 0.00, 0.00, 0.00, 0.00, 0.00, 0.00],\n",
              "       [0.87, 0.16, 0.19, 0.00, 0.04, 0.00, 0.00, 0.00, 0.00, 0.43, 0.00,\n",
              "        0.21, 0.00, 0.00, 0.00, 0.00, 0.00, 0.00, 0.00],\n",
              "       [0.00, 0.00, 0.18, 0.34, 0.16, 0.20, 0.00, 0.00, 0.00, 0.59, 0.78,\n",
              "        0.00, 0.00, 0.00, 0.00, 0.00, 0.00, 0.00, 0.00],\n",
              "       [0.21, 0.00, 0.19, 0.78, 0.39, 0.98, 0.91, 0.19, 0.97, 0.00, 0.00,\n",
              "        0.00, 0.00, 0.20, 0.21, 0.18, 0.00, 0.19, 0.20],\n",
              "       [0.47, 0.65, 0.00, 0.39, 0.00, 0.00, 0.00, 0.06, 0.32, 0.00, 0.00,\n",
              "        0.00, 0.78, 0.00, 0.40, 0.17, 0.00, 0.00, 0.43],\n",
              "       [0.00, 0.01, 0.36, 0.38, 0.00, 0.00, 0.00, 0.47, 0.00, 0.00, 0.00,\n",
              "        0.00, 0.79, 0.56, 0.00, 0.19, 0.00, 0.00, 0.00],\n",
              "       [0.33, 0.20, 0.31, 0.09, 0.00, 0.66, 0.60, 0.41, 0.00, 0.14, 0.36,\n",
              "        0.00, 0.77, 0.48, 0.57, 0.00, 0.00, 0.16, 0.08],\n",
              "       [0.65, 0.18, 0.49, 0.16, 0.20, 0.00, 0.00, 0.89, 0.00, 0.20, 0.05,\n",
              "        0.20, 0.00, 0.00, 0.00, 0.00, 0.00, 0.40, 0.39],\n",
              "       [0.19, 0.00, 0.57, 0.58, 0.00, 0.95, 0.20, 0.00, 0.74, 0.00, 0.00,\n",
              "        0.00, 0.00, 0.02, 0.00, 0.00, 0.56, 0.00, 0.43],\n",
              "       [0.20, 0.20, 0.00, 0.00, 0.00, 0.39, 0.74, 0.95, 0.78, 0.00, 0.00,\n",
              "        0.00, 0.14, 0.00, 0.00, 0.00, 0.46, 0.64, 0.00]], dtype=float32)"
            ]
          },
          "metadata": {},
          "execution_count": 114
        }
      ]
    },
    {
      "cell_type": "code",
      "metadata": {
        "colab": {
          "base_uri": "https://localhost:8080/"
        },
        "id": "rq3TI1Ey7li5",
        "outputId": "66267c3a-3641-409c-c731-832b191d6bbb"
      },
      "source": [
        "df.columns[]"
      ],
      "execution_count": null,
      "outputs": [
        {
          "output_type": "execute_result",
          "data": {
            "text/plain": [
              "Index(['Age', 'Sex', 'RestingBP', 'Cholesterol', 'FastingBS', 'MaxHR',\n",
              "       'ExerciseAngina', 'Oldpeak', 'HeartDisease', 'RestingECG_LVH',\n",
              "       'RestingECG_Normal', 'RestingECG_ST', 'ChestPainType_ASY',\n",
              "       'ChestPainType_ATA', 'ChestPainType_NAP', 'ChestPainType_TA',\n",
              "       'ST_Slope_Down', 'ST_Slope_Flat', 'ST_Slope_Up'],\n",
              "      dtype='object')"
            ]
          },
          "metadata": {},
          "execution_count": 115
        }
      ]
    },
    {
      "cell_type": "markdown",
      "metadata": {
        "id": "LinbslmRIuRe"
      },
      "source": [
        "因果関係がある（閾値0.6で設定)での７個の説明変数での検証"
      ]
    },
    {
      "cell_type": "code",
      "metadata": {
        "id": "v9wfENYP7tYG"
      },
      "source": [
        "X=df[['Sex','Cholesterol','FastingBS','ExerciseAngina','ChestPainType_ASY','ST_Slope_Flat','ST_Slope_Up']]"
      ],
      "execution_count": null,
      "outputs": []
    },
    {
      "cell_type": "code",
      "metadata": {
        "colab": {
          "base_uri": "https://localhost:8080/",
          "height": 206
        },
        "id": "A-1alCZp8QCK",
        "outputId": "ddeae9d1-ec89-4d1b-aca9-6f599286f2c4"
      },
      "source": [
        "X.head()"
      ],
      "execution_count": null,
      "outputs": [
        {
          "output_type": "execute_result",
          "data": {
            "text/html": [
              "<div>\n",
              "<style scoped>\n",
              "    .dataframe tbody tr th:only-of-type {\n",
              "        vertical-align: middle;\n",
              "    }\n",
              "\n",
              "    .dataframe tbody tr th {\n",
              "        vertical-align: top;\n",
              "    }\n",
              "\n",
              "    .dataframe thead th {\n",
              "        text-align: right;\n",
              "    }\n",
              "</style>\n",
              "<table border=\"1\" class=\"dataframe\">\n",
              "  <thead>\n",
              "    <tr style=\"text-align: right;\">\n",
              "      <th></th>\n",
              "      <th>Sex</th>\n",
              "      <th>Cholesterol</th>\n",
              "      <th>FastingBS</th>\n",
              "      <th>ExerciseAngina</th>\n",
              "      <th>ChestPainType_ASY</th>\n",
              "      <th>ST_Slope_Flat</th>\n",
              "      <th>ST_Slope_Up</th>\n",
              "    </tr>\n",
              "  </thead>\n",
              "  <tbody>\n",
              "    <tr>\n",
              "      <th>0</th>\n",
              "      <td>1</td>\n",
              "      <td>289</td>\n",
              "      <td>0</td>\n",
              "      <td>0</td>\n",
              "      <td>0</td>\n",
              "      <td>0</td>\n",
              "      <td>1</td>\n",
              "    </tr>\n",
              "    <tr>\n",
              "      <th>1</th>\n",
              "      <td>0</td>\n",
              "      <td>180</td>\n",
              "      <td>0</td>\n",
              "      <td>0</td>\n",
              "      <td>0</td>\n",
              "      <td>1</td>\n",
              "      <td>0</td>\n",
              "    </tr>\n",
              "    <tr>\n",
              "      <th>2</th>\n",
              "      <td>1</td>\n",
              "      <td>283</td>\n",
              "      <td>0</td>\n",
              "      <td>0</td>\n",
              "      <td>0</td>\n",
              "      <td>0</td>\n",
              "      <td>1</td>\n",
              "    </tr>\n",
              "    <tr>\n",
              "      <th>3</th>\n",
              "      <td>0</td>\n",
              "      <td>214</td>\n",
              "      <td>0</td>\n",
              "      <td>1</td>\n",
              "      <td>1</td>\n",
              "      <td>1</td>\n",
              "      <td>0</td>\n",
              "    </tr>\n",
              "    <tr>\n",
              "      <th>4</th>\n",
              "      <td>1</td>\n",
              "      <td>195</td>\n",
              "      <td>0</td>\n",
              "      <td>0</td>\n",
              "      <td>0</td>\n",
              "      <td>0</td>\n",
              "      <td>1</td>\n",
              "    </tr>\n",
              "  </tbody>\n",
              "</table>\n",
              "</div>"
            ],
            "text/plain": [
              "   Sex  Cholesterol  FastingBS  ...  ChestPainType_ASY  ST_Slope_Flat  ST_Slope_Up\n",
              "0    1          289          0  ...                  0              0            1\n",
              "1    0          180          0  ...                  0              1            0\n",
              "2    1          283          0  ...                  0              0            1\n",
              "3    0          214          0  ...                  1              1            0\n",
              "4    1          195          0  ...                  0              0            1\n",
              "\n",
              "[5 rows x 7 columns]"
            ]
          },
          "metadata": {},
          "execution_count": 14
        }
      ]
    },
    {
      "cell_type": "code",
      "metadata": {
        "id": "2hvTjsBR8V1k"
      },
      "source": [
        "Y=df['HeartDisease']"
      ],
      "execution_count": null,
      "outputs": []
    },
    {
      "cell_type": "code",
      "metadata": {
        "id": "4MQUtMSd9BT1"
      },
      "source": [
        "X_train, X_test, y_train, y_test = train_test_split(X, Y, test_size = 0.2, random_state=48, stratify=Y)"
      ],
      "execution_count": null,
      "outputs": []
    },
    {
      "cell_type": "code",
      "metadata": {
        "colab": {
          "base_uri": "https://localhost:8080/"
        },
        "id": "mFUbpPm_-C1K",
        "outputId": "3d0e6afb-a2c6-4d99-c2e2-a71db59d402a"
      },
      "source": [
        "rf = RandomForestClassifier()\n",
        "param_grid = {\n",
        "                 'n_estimators': [10, 50, 100, 500, 1000],\n",
        "                 'max_depth': [2, 5, 7, 9, 10]\n",
        "             }\n",
        "grid_rf = GridSearchCV(rf, param_grid, cv=10)\n",
        "grid_rf.fit(X_train, y_train)"
      ],
      "execution_count": null,
      "outputs": [
        {
          "output_type": "execute_result",
          "data": {
            "text/plain": [
              "GridSearchCV(cv=10, error_score=nan,\n",
              "             estimator=RandomForestClassifier(bootstrap=True, ccp_alpha=0.0,\n",
              "                                              class_weight=None,\n",
              "                                              criterion='gini', max_depth=None,\n",
              "                                              max_features='auto',\n",
              "                                              max_leaf_nodes=None,\n",
              "                                              max_samples=None,\n",
              "                                              min_impurity_decrease=0.0,\n",
              "                                              min_impurity_split=None,\n",
              "                                              min_samples_leaf=1,\n",
              "                                              min_samples_split=2,\n",
              "                                              min_weight_fraction_leaf=0.0,\n",
              "                                              n_estimators=100, n_jobs=None,\n",
              "                                              oob_score=False,\n",
              "                                              random_state=None, verbose=0,\n",
              "                                              warm_start=False),\n",
              "             iid='deprecated', n_jobs=None,\n",
              "             param_grid={'max_depth': [2, 5, 7, 9, 10],\n",
              "                         'n_estimators': [10, 50, 100, 500, 1000]},\n",
              "             pre_dispatch='2*n_jobs', refit=True, return_train_score=False,\n",
              "             scoring=None, verbose=0)"
            ]
          },
          "metadata": {},
          "execution_count": 20
        }
      ]
    },
    {
      "cell_type": "code",
      "metadata": {
        "id": "w1vbCVch-CzJ"
      },
      "source": [
        "y_pred = grid_rf.predict(X_test)"
      ],
      "execution_count": null,
      "outputs": []
    },
    {
      "cell_type": "code",
      "metadata": {
        "colab": {
          "base_uri": "https://localhost:8080/"
        },
        "id": "hZJWy_ZB-Cw4",
        "outputId": "59afb1d9-049a-48f5-cde0-6c95d335acd6"
      },
      "source": [
        "accuracy_score(y_test, y_pred)"
      ],
      "execution_count": null,
      "outputs": [
        {
          "output_type": "execute_result",
          "data": {
            "text/plain": [
              "0.8804347826086957"
            ]
          },
          "metadata": {},
          "execution_count": 22
        }
      ]
    },
    {
      "cell_type": "code",
      "metadata": {
        "id": "1yQdB2kXI_0V"
      },
      "source": [
        ""
      ],
      "execution_count": null,
      "outputs": []
    },
    {
      "cell_type": "code",
      "metadata": {
        "id": "skztktaGJMI6"
      },
      "source": [
        ""
      ],
      "execution_count": null,
      "outputs": []
    },
    {
      "cell_type": "code",
      "metadata": {
        "id": "zQW8jhUZ-z1-"
      },
      "source": [
        ""
      ],
      "execution_count": null,
      "outputs": []
    },
    {
      "cell_type": "markdown",
      "metadata": {
        "id": "D4mccyukJOYN"
      },
      "source": [
        "７個での説明変数での決定木"
      ]
    },
    {
      "cell_type": "code",
      "metadata": {
        "colab": {
          "base_uri": "https://localhost:8080/"
        },
        "id": "V1a2ty9f9d-O",
        "outputId": "debb9255-a531-4cad-89c8-06ec0ef2477a"
      },
      "source": [
        "from sklearn.tree import DecisionTreeClassifier\n",
        "clf3=DecisionTreeClassifier()\n",
        "clf3.fit(X_train,y_train)"
      ],
      "execution_count": null,
      "outputs": [
        {
          "output_type": "execute_result",
          "data": {
            "text/plain": [
              "DecisionTreeClassifier(ccp_alpha=0.0, class_weight=None, criterion='gini',\n",
              "                       max_depth=None, max_features=None, max_leaf_nodes=None,\n",
              "                       min_impurity_decrease=0.0, min_impurity_split=None,\n",
              "                       min_samples_leaf=1, min_samples_split=2,\n",
              "                       min_weight_fraction_leaf=0.0, presort='deprecated',\n",
              "                       random_state=None, splitter='best')"
            ]
          },
          "metadata": {},
          "execution_count": 17
        }
      ]
    },
    {
      "cell_type": "code",
      "metadata": {
        "id": "AwQxtL779qRD"
      },
      "source": [
        "y_pred = clf3.predict(X_test)"
      ],
      "execution_count": null,
      "outputs": []
    },
    {
      "cell_type": "code",
      "metadata": {
        "colab": {
          "base_uri": "https://localhost:8080/"
        },
        "id": "J3hjRgvx9w5V",
        "outputId": "f9cbba69-4587-47a0-e02a-f6faf21d8d26"
      },
      "source": [
        "accuracy_score(y_test, y_pred)"
      ],
      "execution_count": null,
      "outputs": [
        {
          "output_type": "execute_result",
          "data": {
            "text/plain": [
              "0.7608695652173914"
            ]
          },
          "metadata": {},
          "execution_count": 19
        }
      ]
    },
    {
      "cell_type": "code",
      "metadata": {
        "id": "uMuJZFCS91MU"
      },
      "source": [
        ""
      ],
      "execution_count": null,
      "outputs": []
    },
    {
      "cell_type": "code",
      "metadata": {
        "id": "7Jf0Q0vBFQdN"
      },
      "source": [
        ""
      ],
      "execution_count": null,
      "outputs": []
    },
    {
      "cell_type": "code",
      "metadata": {
        "id": "evmFikhxFQa1"
      },
      "source": [
        ""
      ],
      "execution_count": null,
      "outputs": []
    },
    {
      "cell_type": "code",
      "metadata": {
        "colab": {
          "base_uri": "https://localhost:8080/"
        },
        "id": "FRE3Gvwc_k7x",
        "outputId": "064c0b5d-c726-4b9c-c497-bfa5b5f0fd33"
      },
      "source": [
        "df.corr()[\"HeartDisease\"]"
      ],
      "execution_count": null,
      "outputs": [
        {
          "output_type": "execute_result",
          "data": {
            "text/plain": [
              "Age                  0.282039\n",
              "Sex                  0.305445\n",
              "RestingBP            0.107589\n",
              "Cholesterol         -0.232741\n",
              "FastingBS            0.267291\n",
              "MaxHR               -0.400421\n",
              "ExerciseAngina       0.494282\n",
              "Oldpeak              0.403951\n",
              "HeartDisease         1.000000\n",
              "RestingECG_LVH       0.010670\n",
              "RestingECG_Normal   -0.091580\n",
              "RestingECG_ST        0.102527\n",
              "ChestPainType_ASY    0.516716\n",
              "ChestPainType_ATA   -0.401924\n",
              "ChestPainType_NAP   -0.212964\n",
              "ChestPainType_TA    -0.054790\n",
              "ST_Slope_Down        0.122527\n",
              "ST_Slope_Flat        0.554134\n",
              "ST_Slope_Up         -0.622164\n",
              "Name: HeartDisease, dtype: float64"
            ]
          },
          "metadata": {},
          "execution_count": 24
        }
      ]
    },
    {
      "cell_type": "code",
      "metadata": {
        "colab": {
          "base_uri": "https://localhost:8080/"
        },
        "id": "aruoaFAe_ntu",
        "outputId": "70fa6b54-05f5-4f43-e0d9-57f022d5b1a9"
      },
      "source": [
        "sorted(df.corr()[\"HeartDisease\"])"
      ],
      "execution_count": null,
      "outputs": [
        {
          "output_type": "execute_result",
          "data": {
            "text/plain": [
              "[-0.6221642083960033,\n",
              " -0.4019240529146632,\n",
              " -0.400420769463189,\n",
              " -0.23274063892701058,\n",
              " -0.2129636250394038,\n",
              " -0.0915799605134592,\n",
              " -0.054790262026913325,\n",
              " 0.010670195926114907,\n",
              " 0.10252722218986567,\n",
              " 0.10758898037140334,\n",
              " 0.12252667640649292,\n",
              " 0.2672911861103008,\n",
              " 0.2820385058189967,\n",
              " 0.30544491596313866,\n",
              " 0.403950722062885,\n",
              " 0.4942819918242627,\n",
              " 0.5167164574900918,\n",
              " 0.5541335908840045,\n",
              " 1.0]"
            ]
          },
          "metadata": {},
          "execution_count": 25
        }
      ]
    },
    {
      "cell_type": "code",
      "metadata": {
        "colab": {
          "base_uri": "https://localhost:8080/",
          "height": 53
        },
        "id": "apzFDfqFAGLs",
        "outputId": "69281f61-39ce-4808-a744-e3c9c3b5c2cb"
      },
      "source": [
        "\"\"\"\n",
        "因果関係ベスト７\n",
        "Sex\n",
        "Cholesterol\n",
        "FastingBS\n",
        "ExerciseAngina\n",
        "ChestPainType_ASY\n",
        "ST_Slope_Flat\n",
        "ST_Slope_Up\n",
        "\"\"\""
      ],
      "execution_count": null,
      "outputs": [
        {
          "output_type": "execute_result",
          "data": {
            "application/vnd.google.colaboratory.intrinsic+json": {
              "type": "string"
            },
            "text/plain": [
              "'\\n因果関係ベスト７\\nSex\\nCholesterol\\nFastingBS\\nExerciseAngina\\nChestPainType_ASY\\nST_Slope_Flat\\nST_Slope_Up\\n'"
            ]
          },
          "metadata": {},
          "execution_count": 29
        }
      ]
    },
    {
      "cell_type": "code",
      "metadata": {
        "colab": {
          "base_uri": "https://localhost:8080/",
          "height": 53
        },
        "id": "CaJ_BlfSAPf9",
        "outputId": "75cb0697-e398-4813-a565-06a667c2e443"
      },
      "source": [
        "\"\"\"\n",
        "相関ベスト７\n",
        "MaxHR\n",
        "ChestPainType_ATA \n",
        "Oldpeak \n",
        "ExerciseAngina\n",
        "ChestPainType_ASY\n",
        "ST_Slope_Flat\n",
        "ST_Slope_Up\n",
        "\"\"\""
      ],
      "execution_count": null,
      "outputs": [
        {
          "output_type": "execute_result",
          "data": {
            "application/vnd.google.colaboratory.intrinsic+json": {
              "type": "string"
            },
            "text/plain": [
              "'\\n相関ベスト７\\nMaxHR\\nChestPainType_ATA \\nOldpeak \\nExerciseAngina\\nChestPainType_ASY\\nST_Slope_Flat\\nST_Slope_Up\\n'"
            ]
          },
          "metadata": {},
          "execution_count": 28
        }
      ]
    },
    {
      "cell_type": "markdown",
      "metadata": {
        "id": "BWg5dDElJ8HU"
      },
      "source": [
        "相関が高いベスト７での検証"
      ]
    },
    {
      "cell_type": "code",
      "metadata": {
        "id": "V41xLvdJA5B1"
      },
      "source": [
        "X1=df[[\"MaxHR\",\n",
        "\"ChestPainType_ATA\", \n",
        "\"Oldpeak\",\n",
        "\"ExerciseAngina\",\n",
        "\"ChestPainType_ASY\",\n",
        "\"ST_Slope_Flat\",\n",
        "\"ST_Slope_Up\"]]"
      ],
      "execution_count": null,
      "outputs": []
    },
    {
      "cell_type": "code",
      "metadata": {
        "colab": {
          "base_uri": "https://localhost:8080/",
          "height": 206
        },
        "id": "CTnTShVTBVg0",
        "outputId": "84827150-0806-4e16-ee1a-c7d911d15ea7"
      },
      "source": [
        "X1.head()"
      ],
      "execution_count": null,
      "outputs": [
        {
          "output_type": "execute_result",
          "data": {
            "text/html": [
              "<div>\n",
              "<style scoped>\n",
              "    .dataframe tbody tr th:only-of-type {\n",
              "        vertical-align: middle;\n",
              "    }\n",
              "\n",
              "    .dataframe tbody tr th {\n",
              "        vertical-align: top;\n",
              "    }\n",
              "\n",
              "    .dataframe thead th {\n",
              "        text-align: right;\n",
              "    }\n",
              "</style>\n",
              "<table border=\"1\" class=\"dataframe\">\n",
              "  <thead>\n",
              "    <tr style=\"text-align: right;\">\n",
              "      <th></th>\n",
              "      <th>MaxHR</th>\n",
              "      <th>ChestPainType_ATA</th>\n",
              "      <th>Oldpeak</th>\n",
              "      <th>ExerciseAngina</th>\n",
              "      <th>ChestPainType_ASY</th>\n",
              "      <th>ST_Slope_Flat</th>\n",
              "      <th>ST_Slope_Up</th>\n",
              "    </tr>\n",
              "  </thead>\n",
              "  <tbody>\n",
              "    <tr>\n",
              "      <th>0</th>\n",
              "      <td>172</td>\n",
              "      <td>1</td>\n",
              "      <td>0.0</td>\n",
              "      <td>0</td>\n",
              "      <td>0</td>\n",
              "      <td>0</td>\n",
              "      <td>1</td>\n",
              "    </tr>\n",
              "    <tr>\n",
              "      <th>1</th>\n",
              "      <td>156</td>\n",
              "      <td>0</td>\n",
              "      <td>1.0</td>\n",
              "      <td>0</td>\n",
              "      <td>0</td>\n",
              "      <td>1</td>\n",
              "      <td>0</td>\n",
              "    </tr>\n",
              "    <tr>\n",
              "      <th>2</th>\n",
              "      <td>98</td>\n",
              "      <td>1</td>\n",
              "      <td>0.0</td>\n",
              "      <td>0</td>\n",
              "      <td>0</td>\n",
              "      <td>0</td>\n",
              "      <td>1</td>\n",
              "    </tr>\n",
              "    <tr>\n",
              "      <th>3</th>\n",
              "      <td>108</td>\n",
              "      <td>0</td>\n",
              "      <td>1.5</td>\n",
              "      <td>1</td>\n",
              "      <td>1</td>\n",
              "      <td>1</td>\n",
              "      <td>0</td>\n",
              "    </tr>\n",
              "    <tr>\n",
              "      <th>4</th>\n",
              "      <td>122</td>\n",
              "      <td>0</td>\n",
              "      <td>0.0</td>\n",
              "      <td>0</td>\n",
              "      <td>0</td>\n",
              "      <td>0</td>\n",
              "      <td>1</td>\n",
              "    </tr>\n",
              "  </tbody>\n",
              "</table>\n",
              "</div>"
            ],
            "text/plain": [
              "   MaxHR  ChestPainType_ATA  ...  ST_Slope_Flat  ST_Slope_Up\n",
              "0    172                  1  ...              0            1\n",
              "1    156                  0  ...              1            0\n",
              "2     98                  1  ...              0            1\n",
              "3    108                  0  ...              1            0\n",
              "4    122                  0  ...              0            1\n",
              "\n",
              "[5 rows x 7 columns]"
            ]
          },
          "metadata": {},
          "execution_count": 31
        }
      ]
    },
    {
      "cell_type": "code",
      "metadata": {
        "id": "q9ACjeDTBYZz"
      },
      "source": [
        "X_train, X_test, y_train, y_test = train_test_split(X1, Y, test_size = 0.2, random_state=48, stratify=Y)"
      ],
      "execution_count": null,
      "outputs": []
    },
    {
      "cell_type": "code",
      "metadata": {
        "colab": {
          "base_uri": "https://localhost:8080/"
        },
        "id": "4riYdHuSBdWd",
        "outputId": "7e8f7b3d-21ac-4ff6-f3a3-ff8d9c9525b4"
      },
      "source": [
        "rf = RandomForestClassifier()\n",
        "param_grid = {\n",
        "                 'n_estimators': [10, 50, 100, 500, 1000],\n",
        "                 'max_depth': [2, 5, 7, 9, 10]\n",
        "             }\n",
        "grid_rf = GridSearchCV(rf, param_grid, cv=10)\n",
        "grid_rf.fit(X_train, y_train)"
      ],
      "execution_count": null,
      "outputs": [
        {
          "output_type": "execute_result",
          "data": {
            "text/plain": [
              "GridSearchCV(cv=10, error_score=nan,\n",
              "             estimator=RandomForestClassifier(bootstrap=True, ccp_alpha=0.0,\n",
              "                                              class_weight=None,\n",
              "                                              criterion='gini', max_depth=None,\n",
              "                                              max_features='auto',\n",
              "                                              max_leaf_nodes=None,\n",
              "                                              max_samples=None,\n",
              "                                              min_impurity_decrease=0.0,\n",
              "                                              min_impurity_split=None,\n",
              "                                              min_samples_leaf=1,\n",
              "                                              min_samples_split=2,\n",
              "                                              min_weight_fraction_leaf=0.0,\n",
              "                                              n_estimators=100, n_jobs=None,\n",
              "                                              oob_score=False,\n",
              "                                              random_state=None, verbose=0,\n",
              "                                              warm_start=False),\n",
              "             iid='deprecated', n_jobs=None,\n",
              "             param_grid={'max_depth': [2, 5, 7, 9, 10],\n",
              "                         'n_estimators': [10, 50, 100, 500, 1000]},\n",
              "             pre_dispatch='2*n_jobs', refit=True, return_train_score=False,\n",
              "             scoring=None, verbose=0)"
            ]
          },
          "metadata": {},
          "execution_count": 41
        }
      ]
    },
    {
      "cell_type": "code",
      "metadata": {
        "id": "TSaqp29hBjDB"
      },
      "source": [
        "y_pred = grid_rf.predict(X_test)"
      ],
      "execution_count": null,
      "outputs": []
    },
    {
      "cell_type": "code",
      "metadata": {
        "colab": {
          "base_uri": "https://localhost:8080/"
        },
        "id": "h6uRs7B5Bje6",
        "outputId": "32d57a55-8700-4251-833d-9d324045ab4e"
      },
      "source": [
        "accuracy_score(y_test, y_pred)"
      ],
      "execution_count": null,
      "outputs": [
        {
          "output_type": "execute_result",
          "data": {
            "text/plain": [
              "0.8586956521739131"
            ]
          },
          "metadata": {},
          "execution_count": 43
        }
      ]
    },
    {
      "cell_type": "code",
      "metadata": {
        "id": "8S6YvQOUDFC2"
      },
      "source": [
        ""
      ],
      "execution_count": null,
      "outputs": []
    },
    {
      "cell_type": "markdown",
      "metadata": {
        "id": "4neWu3pIKwfc"
      },
      "source": [
        "因果関係が高い７個と相関が高い７個（たぶりあり）での検証"
      ]
    },
    {
      "cell_type": "code",
      "metadata": {
        "id": "uffltHTKDE4r"
      },
      "source": [
        "X2=df[[\"MaxHR\",\n",
        "\"ChestPainType_ATA\", \n",
        "\"Oldpeak\",\n",
        "\"ExerciseAngina\",\n",
        "\"ChestPainType_ASY\",\n",
        "\"ST_Slope_Flat\",\n",
        "\"ST_Slope_Up\",\n",
        "\"Sex\",\n",
        "\"Cholesterol\",\n",
        "\"FastingBS\",]]"
      ],
      "execution_count": null,
      "outputs": []
    },
    {
      "cell_type": "code",
      "metadata": {
        "id": "ZfTp99reD7kw"
      },
      "source": [
        "X_train, X_test, y_train, y_test = train_test_split(X2, Y, test_size = 0.2, random_state=48, stratify=Y)"
      ],
      "execution_count": null,
      "outputs": []
    },
    {
      "cell_type": "code",
      "metadata": {
        "colab": {
          "base_uri": "https://localhost:8080/"
        },
        "id": "0Y0d6BItD8f-",
        "outputId": "cce500c7-e627-4292-e496-0fb86d742d10"
      },
      "source": [
        "rf = RandomForestClassifier()\n",
        "param_grid = {\n",
        "                 'n_estimators': [10, 50, 100, 500, 1000],\n",
        "                 'max_depth': [2, 5, 7, 9, 10]\n",
        "             }\n",
        "grid_rf = GridSearchCV(rf, param_grid, cv=10)\n",
        "grid_rf.fit(X_train, y_train)"
      ],
      "execution_count": null,
      "outputs": [
        {
          "output_type": "execute_result",
          "data": {
            "text/plain": [
              "GridSearchCV(cv=10, error_score=nan,\n",
              "             estimator=RandomForestClassifier(bootstrap=True, ccp_alpha=0.0,\n",
              "                                              class_weight=None,\n",
              "                                              criterion='gini', max_depth=None,\n",
              "                                              max_features='auto',\n",
              "                                              max_leaf_nodes=None,\n",
              "                                              max_samples=None,\n",
              "                                              min_impurity_decrease=0.0,\n",
              "                                              min_impurity_split=None,\n",
              "                                              min_samples_leaf=1,\n",
              "                                              min_samples_split=2,\n",
              "                                              min_weight_fraction_leaf=0.0,\n",
              "                                              n_estimators=100, n_jobs=None,\n",
              "                                              oob_score=False,\n",
              "                                              random_state=None, verbose=0,\n",
              "                                              warm_start=False),\n",
              "             iid='deprecated', n_jobs=None,\n",
              "             param_grid={'max_depth': [2, 5, 7, 9, 10],\n",
              "                         'n_estimators': [10, 50, 100, 500, 1000]},\n",
              "             pre_dispatch='2*n_jobs', refit=True, return_train_score=False,\n",
              "             scoring=None, verbose=0)"
            ]
          },
          "metadata": {},
          "execution_count": 46
        }
      ]
    },
    {
      "cell_type": "code",
      "metadata": {
        "id": "Rq9pA75AD--W"
      },
      "source": [
        "y_pred = grid_rf.predict(X_test)"
      ],
      "execution_count": null,
      "outputs": []
    },
    {
      "cell_type": "code",
      "metadata": {
        "colab": {
          "base_uri": "https://localhost:8080/"
        },
        "id": "9uGh6xJNEDJI",
        "outputId": "7e9b7597-6cae-4b1e-811a-9c9556f7ff81"
      },
      "source": [
        "accuracy_score(y_test, y_pred)"
      ],
      "execution_count": null,
      "outputs": [
        {
          "output_type": "execute_result",
          "data": {
            "text/plain": [
              "0.8913043478260869"
            ]
          },
          "metadata": {},
          "execution_count": 48
        }
      ]
    },
    {
      "cell_type": "code",
      "metadata": {
        "id": "mjUSeuAgMZEU"
      },
      "source": [
        ""
      ],
      "execution_count": null,
      "outputs": []
    },
    {
      "cell_type": "markdown",
      "metadata": {
        "id": "pOocRRMdNQw3"
      },
      "source": [
        "因果関係のベスト９（閾値0.4）の場合  \n",
        "あまり変化はなく"
      ]
    },
    {
      "cell_type": "code",
      "metadata": {
        "id": "6Sj76Ot2MY47"
      },
      "source": [
        "X4=df[['Sex','Cholesterol','FastingBS','ExerciseAngina','ChestPainType_ASY','ST_Slope_Flat','ST_Slope_Up',\"Oldpeak\",\"ChestPainType_ATA\"]]"
      ],
      "execution_count": null,
      "outputs": []
    },
    {
      "cell_type": "code",
      "metadata": {
        "id": "t8jwAbU3MhOz"
      },
      "source": [
        "X_train, X_test, y_train, y_test = train_test_split(X4, Y, test_size = 0.2, random_state=48, stratify=Y)"
      ],
      "execution_count": null,
      "outputs": []
    },
    {
      "cell_type": "code",
      "metadata": {
        "colab": {
          "base_uri": "https://localhost:8080/"
        },
        "id": "sMtlBLRPMmAr",
        "outputId": "7aa4ce4b-d735-4cd5-c6e3-bc56b4dbf774"
      },
      "source": [
        "rf = RandomForestClassifier()\n",
        "param_grid = {\n",
        "                 'n_estimators': [10, 50, 100, 500, 1000],\n",
        "                 'max_depth': [2, 5, 7, 9, 10]\n",
        "             }\n",
        "grid_rf = GridSearchCV(rf, param_grid, cv=10)\n",
        "grid_rf.fit(X_train, y_train)"
      ],
      "execution_count": null,
      "outputs": [
        {
          "output_type": "execute_result",
          "data": {
            "text/plain": [
              "GridSearchCV(cv=10, error_score=nan,\n",
              "             estimator=RandomForestClassifier(bootstrap=True, ccp_alpha=0.0,\n",
              "                                              class_weight=None,\n",
              "                                              criterion='gini', max_depth=None,\n",
              "                                              max_features='auto',\n",
              "                                              max_leaf_nodes=None,\n",
              "                                              max_samples=None,\n",
              "                                              min_impurity_decrease=0.0,\n",
              "                                              min_impurity_split=None,\n",
              "                                              min_samples_leaf=1,\n",
              "                                              min_samples_split=2,\n",
              "                                              min_weight_fraction_leaf=0.0,\n",
              "                                              n_estimators=100, n_jobs=None,\n",
              "                                              oob_score=False,\n",
              "                                              random_state=None, verbose=0,\n",
              "                                              warm_start=False),\n",
              "             iid='deprecated', n_jobs=None,\n",
              "             param_grid={'max_depth': [2, 5, 7, 9, 10],\n",
              "                         'n_estimators': [10, 50, 100, 500, 1000]},\n",
              "             pre_dispatch='2*n_jobs', refit=True, return_train_score=False,\n",
              "             scoring=None, verbose=0)"
            ]
          },
          "metadata": {},
          "execution_count": 57
        }
      ]
    },
    {
      "cell_type": "code",
      "metadata": {
        "id": "ThAZa3MZMoGd"
      },
      "source": [
        "y_pred = grid_rf.predict(X_test)"
      ],
      "execution_count": null,
      "outputs": []
    },
    {
      "cell_type": "code",
      "metadata": {
        "colab": {
          "base_uri": "https://localhost:8080/"
        },
        "id": "n7wjovlpMsPM",
        "outputId": "d44ce331-d310-4282-edd5-3928fbd58410"
      },
      "source": [
        "accuracy_score(y_test, y_pred)"
      ],
      "execution_count": null,
      "outputs": [
        {
          "output_type": "execute_result",
          "data": {
            "text/plain": [
              "0.8858695652173914"
            ]
          },
          "metadata": {},
          "execution_count": 59
        }
      ]
    },
    {
      "cell_type": "code",
      "metadata": {
        "id": "44QrjTlUNuRe"
      },
      "source": [
        ""
      ],
      "execution_count": null,
      "outputs": []
    },
    {
      "cell_type": "code",
      "metadata": {
        "id": "832N7HKZNuPO"
      },
      "source": [
        ""
      ],
      "execution_count": null,
      "outputs": []
    },
    {
      "cell_type": "markdown",
      "metadata": {
        "id": "CkVAbTRMPYti"
      },
      "source": [
        "因果関係ベスト４閾値0.7"
      ]
    },
    {
      "cell_type": "code",
      "metadata": {
        "id": "6w4KpGpCNuNB"
      },
      "source": [
        "X5=df[['FastingBS','ChestPainType_ASY','ST_Slope_Flat','ST_Slope_Up']]"
      ],
      "execution_count": null,
      "outputs": []
    },
    {
      "cell_type": "code",
      "metadata": {
        "id": "gRwlqxUFOA9j"
      },
      "source": [
        "X_train, X_test, y_train, y_test = train_test_split(X5, Y, test_size = 0.2, random_state=48, stratify=Y)"
      ],
      "execution_count": null,
      "outputs": []
    },
    {
      "cell_type": "code",
      "metadata": {
        "colab": {
          "base_uri": "https://localhost:8080/"
        },
        "id": "dgCFL8fEODFL",
        "outputId": "caa6242a-83c6-4ea7-fbb1-31e8963dead3"
      },
      "source": [
        "rf = RandomForestClassifier()\n",
        "param_grid = {\n",
        "                 'n_estimators': [10, 50, 100, 500, 1000],\n",
        "                 'max_depth': [2, 5, 7, 9, 10]\n",
        "             }\n",
        "grid_rf = GridSearchCV(rf, param_grid, cv=10)\n",
        "grid_rf.fit(X_train, y_train)"
      ],
      "execution_count": null,
      "outputs": [
        {
          "output_type": "execute_result",
          "data": {
            "text/plain": [
              "GridSearchCV(cv=10, error_score=nan,\n",
              "             estimator=RandomForestClassifier(bootstrap=True, ccp_alpha=0.0,\n",
              "                                              class_weight=None,\n",
              "                                              criterion='gini', max_depth=None,\n",
              "                                              max_features='auto',\n",
              "                                              max_leaf_nodes=None,\n",
              "                                              max_samples=None,\n",
              "                                              min_impurity_decrease=0.0,\n",
              "                                              min_impurity_split=None,\n",
              "                                              min_samples_leaf=1,\n",
              "                                              min_samples_split=2,\n",
              "                                              min_weight_fraction_leaf=0.0,\n",
              "                                              n_estimators=100, n_jobs=None,\n",
              "                                              oob_score=False,\n",
              "                                              random_state=None, verbose=0,\n",
              "                                              warm_start=False),\n",
              "             iid='deprecated', n_jobs=None,\n",
              "             param_grid={'max_depth': [2, 5, 7, 9, 10],\n",
              "                         'n_estimators': [10, 50, 100, 500, 1000]},\n",
              "             pre_dispatch='2*n_jobs', refit=True, return_train_score=False,\n",
              "             scoring=None, verbose=0)"
            ]
          },
          "metadata": {},
          "execution_count": 62
        }
      ]
    },
    {
      "cell_type": "code",
      "metadata": {
        "id": "_-A85vGqOGMl"
      },
      "source": [
        "y_pred = grid_rf.predict(X_test)"
      ],
      "execution_count": null,
      "outputs": []
    },
    {
      "cell_type": "code",
      "metadata": {
        "colab": {
          "base_uri": "https://localhost:8080/"
        },
        "id": "I_M2jptpOHeF",
        "outputId": "f96bbe7c-cdfa-4843-8c36-58781544cf68"
      },
      "source": [
        "accuracy_score(y_test, y_pred)"
      ],
      "execution_count": null,
      "outputs": [
        {
          "output_type": "execute_result",
          "data": {
            "text/plain": [
              "0.8315217391304348"
            ]
          },
          "metadata": {},
          "execution_count": 64
        }
      ]
    },
    {
      "cell_type": "code",
      "metadata": {
        "id": "yJFz7XUdOlo4"
      },
      "source": [
        ""
      ],
      "execution_count": null,
      "outputs": []
    },
    {
      "cell_type": "code",
      "metadata": {
        "id": "z77K2Sp2OlmM"
      },
      "source": [
        ""
      ],
      "execution_count": null,
      "outputs": []
    },
    {
      "cell_type": "markdown",
      "metadata": {
        "id": "ByYC2GdhPc67"
      },
      "source": [
        "相関係数ベスト４"
      ]
    },
    {
      "cell_type": "code",
      "metadata": {
        "id": "QF0jsBxJOli8"
      },
      "source": [
        "X6=df[['ExerciseAngina','ChestPainType_ASY','ST_Slope_Flat','ST_Slope_Up']]"
      ],
      "execution_count": null,
      "outputs": []
    },
    {
      "cell_type": "code",
      "metadata": {
        "id": "csdXfB-AO-pJ"
      },
      "source": [
        "X_train, X_test, y_train, y_test = train_test_split(X6, Y, test_size = 0.2, random_state=48, stratify=Y)"
      ],
      "execution_count": null,
      "outputs": []
    },
    {
      "cell_type": "code",
      "metadata": {
        "colab": {
          "base_uri": "https://localhost:8080/"
        },
        "id": "pJ-9rL44PBlL",
        "outputId": "3f22b911-ba21-4d41-f57a-3cd503cc82d7"
      },
      "source": [
        "rf = RandomForestClassifier()\n",
        "param_grid = {\n",
        "                 'n_estimators': [10, 50, 100, 500, 1000],\n",
        "                 'max_depth': [2, 5, 7, 9, 10]\n",
        "             }\n",
        "grid_rf = GridSearchCV(rf, param_grid, cv=10)\n",
        "grid_rf.fit(X_train, y_train)"
      ],
      "execution_count": null,
      "outputs": [
        {
          "output_type": "execute_result",
          "data": {
            "text/plain": [
              "GridSearchCV(cv=10, error_score=nan,\n",
              "             estimator=RandomForestClassifier(bootstrap=True, ccp_alpha=0.0,\n",
              "                                              class_weight=None,\n",
              "                                              criterion='gini', max_depth=None,\n",
              "                                              max_features='auto',\n",
              "                                              max_leaf_nodes=None,\n",
              "                                              max_samples=None,\n",
              "                                              min_impurity_decrease=0.0,\n",
              "                                              min_impurity_split=None,\n",
              "                                              min_samples_leaf=1,\n",
              "                                              min_samples_split=2,\n",
              "                                              min_weight_fraction_leaf=0.0,\n",
              "                                              n_estimators=100, n_jobs=None,\n",
              "                                              oob_score=False,\n",
              "                                              random_state=None, verbose=0,\n",
              "                                              warm_start=False),\n",
              "             iid='deprecated', n_jobs=None,\n",
              "             param_grid={'max_depth': [2, 5, 7, 9, 10],\n",
              "                         'n_estimators': [10, 50, 100, 500, 1000]},\n",
              "             pre_dispatch='2*n_jobs', refit=True, return_train_score=False,\n",
              "             scoring=None, verbose=0)"
            ]
          },
          "metadata": {},
          "execution_count": 67
        }
      ]
    },
    {
      "cell_type": "code",
      "metadata": {
        "id": "vC-r-GXgPDJp"
      },
      "source": [
        "y_pred = grid_rf.predict(X_test)"
      ],
      "execution_count": null,
      "outputs": []
    },
    {
      "cell_type": "code",
      "metadata": {
        "colab": {
          "base_uri": "https://localhost:8080/"
        },
        "id": "UbwgMf2GPLQn",
        "outputId": "a1b25d15-1401-4263-df6b-dcf12efbb846"
      },
      "source": [
        "accuracy_score(y_test, y_pred)"
      ],
      "execution_count": null,
      "outputs": [
        {
          "output_type": "execute_result",
          "data": {
            "text/plain": [
              "0.842391304347826"
            ]
          },
          "metadata": {},
          "execution_count": 69
        }
      ]
    },
    {
      "cell_type": "markdown",
      "metadata": {
        "id": "JPAFka0BSXBS"
      },
      "source": [
        "他のディスカッションの結果抜粋  \n",
        "\n",
        "model : AdaBoostClassifier(random_state=0) and  accuracy score is : 0.8659  \n",
        "model : GradientBoostingClassifier(random_state=0) and  accuracy score is : 0.8768  \n",
        "model : RandomForestClassifier(random_state=0) and  accuracy score is : 0.8877  \n",
        "model : ExtraTreesClassifier(random_state=0) and  accuracy score is : 0.8804"
      ]
    },
    {
      "cell_type": "code",
      "metadata": {
        "id": "XlhrRxu3RUeO"
      },
      "source": [
        ""
      ],
      "execution_count": null,
      "outputs": []
    },
    {
      "cell_type": "code",
      "metadata": {
        "id": "gi9UTAzy9WTP"
      },
      "source": [
        ""
      ],
      "execution_count": null,
      "outputs": []
    },
    {
      "cell_type": "markdown",
      "metadata": {
        "id": "BUIrW9P89YPz"
      },
      "source": [
        "ロジスティック回帰での検証"
      ]
    },
    {
      "cell_type": "markdown",
      "metadata": {
        "id": "MbiVTqd2_k9Z"
      },
      "source": [
        "因果関係ベスト７"
      ]
    },
    {
      "cell_type": "code",
      "metadata": {
        "id": "BCGrRcsd9aQN"
      },
      "source": [
        "X=df[['Sex','Cholesterol','FastingBS','ExerciseAngina','ChestPainType_ASY','ST_Slope_Flat','ST_Slope_Up']]"
      ],
      "execution_count": null,
      "outputs": []
    },
    {
      "cell_type": "code",
      "metadata": {
        "id": "X-ljO7kr9sxq"
      },
      "source": [
        "Y = df['HeartDisease']"
      ],
      "execution_count": null,
      "outputs": []
    },
    {
      "cell_type": "code",
      "metadata": {
        "id": "NHvF1AvH9tB9"
      },
      "source": [
        "X_train, X_test, y_train, y_test = train_test_split(X, Y, test_size = 0.2, random_state=48, stratify=Y)"
      ],
      "execution_count": null,
      "outputs": []
    },
    {
      "cell_type": "code",
      "metadata": {
        "colab": {
          "base_uri": "https://localhost:8080/"
        },
        "id": "LSDqKmA890T2",
        "outputId": "25ad05a0-1bcc-48fb-dd42-2921875ccaf9"
      },
      "source": [
        "from sklearn.linear_model import LogisticRegression\n",
        "lr = LogisticRegression()\n",
        "lr.fit(X_train, y_train) "
      ],
      "execution_count": null,
      "outputs": [
        {
          "output_type": "execute_result",
          "data": {
            "text/plain": [
              "LogisticRegression(C=1.0, class_weight=None, dual=False, fit_intercept=True,\n",
              "                   intercept_scaling=1, l1_ratio=None, max_iter=100,\n",
              "                   multi_class='auto', n_jobs=None, penalty='l2',\n",
              "                   random_state=None, solver='lbfgs', tol=0.0001, verbose=0,\n",
              "                   warm_start=False)"
            ]
          },
          "metadata": {},
          "execution_count": 10
        }
      ]
    },
    {
      "cell_type": "code",
      "metadata": {
        "id": "V33WoBK5-EGA"
      },
      "source": [
        "y_pred = lr.predict(X_test)"
      ],
      "execution_count": null,
      "outputs": []
    },
    {
      "cell_type": "code",
      "metadata": {
        "colab": {
          "base_uri": "https://localhost:8080/"
        },
        "id": "o1kwVFKU-Lh2",
        "outputId": "ecf83aaf-d9f3-4cb3-b8d9-5a91db1623b0"
      },
      "source": [
        "accuracy_score(y_test, y_pred)"
      ],
      "execution_count": null,
      "outputs": [
        {
          "output_type": "execute_result",
          "data": {
            "text/plain": [
              "0.875"
            ]
          },
          "metadata": {},
          "execution_count": 12
        }
      ]
    },
    {
      "cell_type": "code",
      "metadata": {
        "id": "IhdRCc3P-SU4"
      },
      "source": [
        ""
      ],
      "execution_count": null,
      "outputs": []
    },
    {
      "cell_type": "code",
      "metadata": {
        "id": "wvGPQPzg-Vlz"
      },
      "source": [
        ""
      ],
      "execution_count": null,
      "outputs": []
    },
    {
      "cell_type": "markdown",
      "metadata": {
        "id": "JSfz2Bdk_n7l"
      },
      "source": [
        "全部"
      ]
    },
    {
      "cell_type": "code",
      "metadata": {
        "id": "_vWKs16n-Vi8"
      },
      "source": [
        "X = df.drop(columns='HeartDisease')\n",
        "Y = df['HeartDisease']"
      ],
      "execution_count": null,
      "outputs": []
    },
    {
      "cell_type": "code",
      "metadata": {
        "id": "Oqx9q94j-lin"
      },
      "source": [
        "X_train, X_test, y_train, y_test = train_test_split(X, Y, test_size = 0.2, random_state=48, stratify=Y)"
      ],
      "execution_count": null,
      "outputs": []
    },
    {
      "cell_type": "code",
      "metadata": {
        "colab": {
          "base_uri": "https://localhost:8080/"
        },
        "id": "CxA6K6Ap-gIu",
        "outputId": "c9f678ba-e36c-472c-e1f4-54192c974e94"
      },
      "source": [
        "lr = LogisticRegression()\n",
        "lr.fit(X_train, y_train) "
      ],
      "execution_count": null,
      "outputs": [
        {
          "output_type": "stream",
          "name": "stderr",
          "text": [
            "/usr/local/lib/python3.7/dist-packages/sklearn/linear_model/_logistic.py:940: ConvergenceWarning: lbfgs failed to converge (status=1):\n",
            "STOP: TOTAL NO. of ITERATIONS REACHED LIMIT.\n",
            "\n",
            "Increase the number of iterations (max_iter) or scale the data as shown in:\n",
            "    https://scikit-learn.org/stable/modules/preprocessing.html\n",
            "Please also refer to the documentation for alternative solver options:\n",
            "    https://scikit-learn.org/stable/modules/linear_model.html#logistic-regression\n",
            "  extra_warning_msg=_LOGISTIC_SOLVER_CONVERGENCE_MSG)\n"
          ]
        },
        {
          "output_type": "execute_result",
          "data": {
            "text/plain": [
              "LogisticRegression(C=1.0, class_weight=None, dual=False, fit_intercept=True,\n",
              "                   intercept_scaling=1, l1_ratio=None, max_iter=100,\n",
              "                   multi_class='auto', n_jobs=None, penalty='l2',\n",
              "                   random_state=None, solver='lbfgs', tol=0.0001, verbose=0,\n",
              "                   warm_start=False)"
            ]
          },
          "metadata": {},
          "execution_count": 18
        }
      ]
    },
    {
      "cell_type": "code",
      "metadata": {
        "id": "qj4SsX_d-quq"
      },
      "source": [
        "y_pred = lr.predict(X_test)"
      ],
      "execution_count": null,
      "outputs": []
    },
    {
      "cell_type": "code",
      "metadata": {
        "colab": {
          "base_uri": "https://localhost:8080/"
        },
        "id": "wsfjE2Pd-rAj",
        "outputId": "12e7380b-d263-4328-bfa0-176613123dc7"
      },
      "source": [
        "accuracy_score(y_test, y_pred)"
      ],
      "execution_count": null,
      "outputs": [
        {
          "output_type": "execute_result",
          "data": {
            "text/plain": [
              "0.8858695652173914"
            ]
          },
          "metadata": {},
          "execution_count": 20
        }
      ]
    },
    {
      "cell_type": "code",
      "metadata": {
        "id": "VLHwy2e7-sxj"
      },
      "source": [
        ""
      ],
      "execution_count": null,
      "outputs": []
    },
    {
      "cell_type": "code",
      "metadata": {
        "id": "EFAbcpcC_DVJ"
      },
      "source": [
        ""
      ],
      "execution_count": null,
      "outputs": []
    },
    {
      "cell_type": "markdown",
      "metadata": {
        "id": "UOdjtZsf_tAz"
      },
      "source": [
        "相関関係ベスト７"
      ]
    },
    {
      "cell_type": "code",
      "metadata": {
        "id": "JI9RWLv__DS2"
      },
      "source": [
        "X1=df[[\"MaxHR\",\n",
        "\"ChestPainType_ATA\", \n",
        "\"Oldpeak\",\n",
        "\"ExerciseAngina\",\n",
        "\"ChestPainType_ASY\",\n",
        "\"ST_Slope_Flat\",\n",
        "\"ST_Slope_Up\"]]"
      ],
      "execution_count": null,
      "outputs": []
    },
    {
      "cell_type": "code",
      "metadata": {
        "id": "koVn_F6l_ZxG"
      },
      "source": [
        "X_train, X_test, y_train, y_test = train_test_split(X1, Y, test_size = 0.2, random_state=48, stratify=Y)"
      ],
      "execution_count": null,
      "outputs": []
    },
    {
      "cell_type": "code",
      "metadata": {
        "colab": {
          "base_uri": "https://localhost:8080/"
        },
        "id": "uhQiDUhM_DQh",
        "outputId": "854c6ba6-eba1-4475-af9d-7e55b152837e"
      },
      "source": [
        "lr = LogisticRegression()\n",
        "lr.fit(X_train, y_train) "
      ],
      "execution_count": null,
      "outputs": [
        {
          "output_type": "stream",
          "name": "stderr",
          "text": [
            "/usr/local/lib/python3.7/dist-packages/sklearn/linear_model/_logistic.py:940: ConvergenceWarning: lbfgs failed to converge (status=1):\n",
            "STOP: TOTAL NO. of ITERATIONS REACHED LIMIT.\n",
            "\n",
            "Increase the number of iterations (max_iter) or scale the data as shown in:\n",
            "    https://scikit-learn.org/stable/modules/preprocessing.html\n",
            "Please also refer to the documentation for alternative solver options:\n",
            "    https://scikit-learn.org/stable/modules/linear_model.html#logistic-regression\n",
            "  extra_warning_msg=_LOGISTIC_SOLVER_CONVERGENCE_MSG)\n"
          ]
        },
        {
          "output_type": "execute_result",
          "data": {
            "text/plain": [
              "LogisticRegression(C=1.0, class_weight=None, dual=False, fit_intercept=True,\n",
              "                   intercept_scaling=1, l1_ratio=None, max_iter=100,\n",
              "                   multi_class='auto', n_jobs=None, penalty='l2',\n",
              "                   random_state=None, solver='lbfgs', tol=0.0001, verbose=0,\n",
              "                   warm_start=False)"
            ]
          },
          "metadata": {},
          "execution_count": 30
        }
      ]
    },
    {
      "cell_type": "code",
      "metadata": {
        "id": "Vr6vGG0i_GQx"
      },
      "source": [
        "y_pred = lr.predict(X_test)"
      ],
      "execution_count": null,
      "outputs": []
    },
    {
      "cell_type": "code",
      "metadata": {
        "colab": {
          "base_uri": "https://localhost:8080/"
        },
        "id": "IJ3iropG_fMl",
        "outputId": "b731c385-6600-4746-b83a-186dcae267f3"
      },
      "source": [
        "accuracy_score(y_test, y_pred)"
      ],
      "execution_count": null,
      "outputs": [
        {
          "output_type": "execute_result",
          "data": {
            "text/plain": [
              "0.8532608695652174"
            ]
          },
          "metadata": {},
          "execution_count": 32
        }
      ]
    },
    {
      "cell_type": "code",
      "metadata": {
        "id": "xrwu_6ai_g4U"
      },
      "source": [
        ""
      ],
      "execution_count": null,
      "outputs": []
    }
  ]
}